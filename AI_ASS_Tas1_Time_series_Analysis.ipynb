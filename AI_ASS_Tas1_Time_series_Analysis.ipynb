{
  "nbformat": 4,
  "nbformat_minor": 0,
  "metadata": {
    "colab": {
      "provenance": [],
      "authorship_tag": "ABX9TyOuVtsuy6KYMh7F1DXW0ei5",
      "include_colab_link": true
    },
    "kernelspec": {
      "name": "python3",
      "display_name": "Python 3"
    },
    "language_info": {
      "name": "python"
    }
  },
  "cells": [
    {
      "cell_type": "markdown",
      "metadata": {
        "id": "view-in-github",
        "colab_type": "text"
      },
      "source": [
        "<a href=\"https://colab.research.google.com/github/yamini542/Applied-AI/blob/main/AI_ASS_Tas1_Time_series_Analysis.ipynb\" target=\"_parent\"><img src=\"https://colab.research.google.com/assets/colab-badge.svg\" alt=\"Open In Colab\"/></a>"
      ]
    },
    {
      "cell_type": "markdown",
      "source": [
        "#Time-Series-prediction-task1\n",
        "ime Series – Prediction Task\n",
        "1. Heart rate prediction Sudden variations in heart rate could lead to the risks of stroke, heart failure, sudden cardiac arrest, \n",
        "and also death. Therefore, monitoring the heart rate is critical as it helps to discover the irregularities of the heart’s function to detect health problems. With the advancements in AI and stream processing \n",
        "technologies, more accurate future predictions also can be made, allowing healthcare sectors to detect and treat such situations at early stages.\n",
        "In this task, you are given a time series collected using medical sensors, approximately four hours of \n",
        "data for a patient. \n",
        "\n",
        "Using these data, you need to build an effective time series model to predict the next twenty (20) observations (minutes) of heart rate data (Lifetouch Heart Rate). \n",
        "\n",
        "You can use any time series model."
      ],
      "metadata": {
        "id": "dUNkGV4rb8Wg"
      }
    },
    {
      "cell_type": "code",
      "source": [
        "#importing necessary libraries\n",
        "pip install pmdarima\n",
        "\n",
        "import pandas as pd\n",
        "import statsmodels.api as sm\n",
        "from statsmodels.tsa.arima_model import ARIMA\n",
        "from sklearn.metrics import mean_squared_error\n",
        "import numpy as np\n",
        "import pandas as pd\n",
        "\n",
        "import matplotlib.pyplot as plt\n",
        "import matplotlib.ticker as ticker \n",
        "from statsmodels.tsa.api import ExponentialSmoothing, SimpleExpSmoothing, Holt\n",
        "from scipy.spatial.distance import cdist"
      ],
      "metadata": {
        "id": "nR-AC8pZb4Oi",
        "colab": {
          "base_uri": "https://localhost:8080/",
          "height": 130
        },
        "outputId": "9fcf20ce-7ab8-4b4d-8def-21f1c0663a18"
      },
      "execution_count": 31,
      "outputs": [
        {
          "output_type": "error",
          "ename": "SyntaxError",
          "evalue": "ignored",
          "traceback": [
            "\u001b[0;36m  File \u001b[0;32m\"<ipython-input-31-b79a9e9c8cdc>\"\u001b[0;36m, line \u001b[0;32m2\u001b[0m\n\u001b[0;31m    pip install pmdarima\u001b[0m\n\u001b[0m        ^\u001b[0m\n\u001b[0;31mSyntaxError\u001b[0m\u001b[0;31m:\u001b[0m invalid syntax\n"
          ]
        }
      ]
    },
    {
      "cell_type": "code",
      "source": [
        "!pip install --upgrade --q --no-cache-dir gdown\n",
        "!gdown 1NQ2yc8L-XvMCML2-qoHuTNb5xvERF5mp"
      ],
      "metadata": {
        "colab": {
          "base_uri": "https://localhost:8080/"
        },
        "id": "oiU4nmNndcsJ",
        "outputId": "9ea1873d-102c-4349-c4e7-713cb404d54c"
      },
      "execution_count": 32,
      "outputs": [
        {
          "output_type": "stream",
          "name": "stdout",
          "text": [
            "Downloading...\n",
            "From: https://drive.google.com/uc?id=1NQ2yc8L-XvMCML2-qoHuTNb5xvERF5mp\n",
            "To: /content/PT_Train.csv\n",
            "\r  0% 0.00/7.17k [00:00<?, ?B/s]\r100% 7.17k/7.17k [00:00<00:00, 15.4MB/s]\n"
          ]
        }
      ]
    },
    {
      "cell_type": "code",
      "execution_count": 33,
      "metadata": {
        "id": "W3YQcEISau24"
      },
      "outputs": [],
      "source": [
        "#loading the data set from the guthub link\n",
        "df=pd.read_csv('PT_Train.csv')"
      ]
    },
    {
      "cell_type": "code",
      "source": [
        "df.head()"
      ],
      "metadata": {
        "colab": {
          "base_uri": "https://localhost:8080/",
          "height": 206
        },
        "id": "1Qn9qvphb24e",
        "outputId": "c8799131-e9f7-4642-9261-fff0de56cf88"
      },
      "execution_count": 34,
      "outputs": [
        {
          "output_type": "execute_result",
          "data": {
            "text/plain": [
              "    Timestamp (GMT)  Lifetouch Heart Rate  Lifetouch Respiration Rate  \\\n",
              "0  17/08/2015 15:09                   139                          41   \n",
              "1  17/08/2015 15:10                   144                          40   \n",
              "2  17/08/2015 15:11                   140                          42   \n",
              "3  17/08/2015 15:12                   138                          45   \n",
              "4  17/08/2015 15:13                   133                          42   \n",
              "\n",
              "   Oximeter SpO2  Oximeter Pulse  \n",
              "0            NaN             NaN  \n",
              "1           92.0           140.0  \n",
              "2           89.0           144.0  \n",
              "3           93.0           141.0  \n",
              "4           94.0           134.0  "
            ],
            "text/html": [
              "\n",
              "  <div id=\"df-592de0dc-821f-4646-bbf9-fa7b1299fd86\">\n",
              "    <div class=\"colab-df-container\">\n",
              "      <div>\n",
              "<style scoped>\n",
              "    .dataframe tbody tr th:only-of-type {\n",
              "        vertical-align: middle;\n",
              "    }\n",
              "\n",
              "    .dataframe tbody tr th {\n",
              "        vertical-align: top;\n",
              "    }\n",
              "\n",
              "    .dataframe thead th {\n",
              "        text-align: right;\n",
              "    }\n",
              "</style>\n",
              "<table border=\"1\" class=\"dataframe\">\n",
              "  <thead>\n",
              "    <tr style=\"text-align: right;\">\n",
              "      <th></th>\n",
              "      <th>Timestamp (GMT)</th>\n",
              "      <th>Lifetouch Heart Rate</th>\n",
              "      <th>Lifetouch Respiration Rate</th>\n",
              "      <th>Oximeter SpO2</th>\n",
              "      <th>Oximeter Pulse</th>\n",
              "    </tr>\n",
              "  </thead>\n",
              "  <tbody>\n",
              "    <tr>\n",
              "      <th>0</th>\n",
              "      <td>17/08/2015 15:09</td>\n",
              "      <td>139</td>\n",
              "      <td>41</td>\n",
              "      <td>NaN</td>\n",
              "      <td>NaN</td>\n",
              "    </tr>\n",
              "    <tr>\n",
              "      <th>1</th>\n",
              "      <td>17/08/2015 15:10</td>\n",
              "      <td>144</td>\n",
              "      <td>40</td>\n",
              "      <td>92.0</td>\n",
              "      <td>140.0</td>\n",
              "    </tr>\n",
              "    <tr>\n",
              "      <th>2</th>\n",
              "      <td>17/08/2015 15:11</td>\n",
              "      <td>140</td>\n",
              "      <td>42</td>\n",
              "      <td>89.0</td>\n",
              "      <td>144.0</td>\n",
              "    </tr>\n",
              "    <tr>\n",
              "      <th>3</th>\n",
              "      <td>17/08/2015 15:12</td>\n",
              "      <td>138</td>\n",
              "      <td>45</td>\n",
              "      <td>93.0</td>\n",
              "      <td>141.0</td>\n",
              "    </tr>\n",
              "    <tr>\n",
              "      <th>4</th>\n",
              "      <td>17/08/2015 15:13</td>\n",
              "      <td>133</td>\n",
              "      <td>42</td>\n",
              "      <td>94.0</td>\n",
              "      <td>134.0</td>\n",
              "    </tr>\n",
              "  </tbody>\n",
              "</table>\n",
              "</div>\n",
              "      <button class=\"colab-df-convert\" onclick=\"convertToInteractive('df-592de0dc-821f-4646-bbf9-fa7b1299fd86')\"\n",
              "              title=\"Convert this dataframe to an interactive table.\"\n",
              "              style=\"display:none;\">\n",
              "        \n",
              "  <svg xmlns=\"http://www.w3.org/2000/svg\" height=\"24px\"viewBox=\"0 0 24 24\"\n",
              "       width=\"24px\">\n",
              "    <path d=\"M0 0h24v24H0V0z\" fill=\"none\"/>\n",
              "    <path d=\"M18.56 5.44l.94 2.06.94-2.06 2.06-.94-2.06-.94-.94-2.06-.94 2.06-2.06.94zm-11 1L8.5 8.5l.94-2.06 2.06-.94-2.06-.94L8.5 2.5l-.94 2.06-2.06.94zm10 10l.94 2.06.94-2.06 2.06-.94-2.06-.94-.94-2.06-.94 2.06-2.06.94z\"/><path d=\"M17.41 7.96l-1.37-1.37c-.4-.4-.92-.59-1.43-.59-.52 0-1.04.2-1.43.59L10.3 9.45l-7.72 7.72c-.78.78-.78 2.05 0 2.83L4 21.41c.39.39.9.59 1.41.59.51 0 1.02-.2 1.41-.59l7.78-7.78 2.81-2.81c.8-.78.8-2.07 0-2.86zM5.41 20L4 18.59l7.72-7.72 1.47 1.35L5.41 20z\"/>\n",
              "  </svg>\n",
              "      </button>\n",
              "      \n",
              "  <style>\n",
              "    .colab-df-container {\n",
              "      display:flex;\n",
              "      flex-wrap:wrap;\n",
              "      gap: 12px;\n",
              "    }\n",
              "\n",
              "    .colab-df-convert {\n",
              "      background-color: #E8F0FE;\n",
              "      border: none;\n",
              "      border-radius: 50%;\n",
              "      cursor: pointer;\n",
              "      display: none;\n",
              "      fill: #1967D2;\n",
              "      height: 32px;\n",
              "      padding: 0 0 0 0;\n",
              "      width: 32px;\n",
              "    }\n",
              "\n",
              "    .colab-df-convert:hover {\n",
              "      background-color: #E2EBFA;\n",
              "      box-shadow: 0px 1px 2px rgba(60, 64, 67, 0.3), 0px 1px 3px 1px rgba(60, 64, 67, 0.15);\n",
              "      fill: #174EA6;\n",
              "    }\n",
              "\n",
              "    [theme=dark] .colab-df-convert {\n",
              "      background-color: #3B4455;\n",
              "      fill: #D2E3FC;\n",
              "    }\n",
              "\n",
              "    [theme=dark] .colab-df-convert:hover {\n",
              "      background-color: #434B5C;\n",
              "      box-shadow: 0px 1px 3px 1px rgba(0, 0, 0, 0.15);\n",
              "      filter: drop-shadow(0px 1px 2px rgba(0, 0, 0, 0.3));\n",
              "      fill: #FFFFFF;\n",
              "    }\n",
              "  </style>\n",
              "\n",
              "      <script>\n",
              "        const buttonEl =\n",
              "          document.querySelector('#df-592de0dc-821f-4646-bbf9-fa7b1299fd86 button.colab-df-convert');\n",
              "        buttonEl.style.display =\n",
              "          google.colab.kernel.accessAllowed ? 'block' : 'none';\n",
              "\n",
              "        async function convertToInteractive(key) {\n",
              "          const element = document.querySelector('#df-592de0dc-821f-4646-bbf9-fa7b1299fd86');\n",
              "          const dataTable =\n",
              "            await google.colab.kernel.invokeFunction('convertToInteractive',\n",
              "                                                     [key], {});\n",
              "          if (!dataTable) return;\n",
              "\n",
              "          const docLinkHtml = 'Like what you see? Visit the ' +\n",
              "            '<a target=\"_blank\" href=https://colab.research.google.com/notebooks/data_table.ipynb>data table notebook</a>'\n",
              "            + ' to learn more about interactive tables.';\n",
              "          element.innerHTML = '';\n",
              "          dataTable['output_type'] = 'display_data';\n",
              "          await google.colab.output.renderOutput(dataTable, element);\n",
              "          const docLink = document.createElement('div');\n",
              "          docLink.innerHTML = docLinkHtml;\n",
              "          element.appendChild(docLink);\n",
              "        }\n",
              "      </script>\n",
              "    </div>\n",
              "  </div>\n",
              "  "
            ]
          },
          "metadata": {},
          "execution_count": 34
        }
      ]
    },
    {
      "cell_type": "code",
      "source": [
        "# Check for missing values\n",
        "print(df.isna().sum())\n",
        "\n"
      ],
      "metadata": {
        "colab": {
          "base_uri": "https://localhost:8080/"
        },
        "id": "hZkLL3TWfHH7",
        "outputId": "10bded2b-87cb-40e2-85e5-fa83479c9235"
      },
      "execution_count": 35,
      "outputs": [
        {
          "output_type": "stream",
          "name": "stdout",
          "text": [
            "Timestamp (GMT)                0\n",
            "Lifetouch Heart Rate           0\n",
            "Lifetouch Respiration Rate     0\n",
            "Oximeter SpO2                 35\n",
            "Oximeter Pulse                35\n",
            "dtype: int64\n"
          ]
        }
      ]
    },
    {
      "cell_type": "code",
      "source": [
        "df.describe()"
      ],
      "metadata": {
        "colab": {
          "base_uri": "https://localhost:8080/",
          "height": 300
        },
        "id": "vCqX5_IYfdEB",
        "outputId": "dcd8f907-aaf1-41d1-d192-be1f8f066d9a"
      },
      "execution_count": 36,
      "outputs": [
        {
          "output_type": "execute_result",
          "data": {
            "text/plain": [
              "       Lifetouch Heart Rate  Lifetouch Respiration Rate  Oximeter SpO2  \\\n",
              "count            226.000000                  226.000000     191.000000   \n",
              "mean            2315.615044                 2219.216814      83.450262   \n",
              "std            11351.588825                11370.093548      29.802974   \n",
              "min              106.000000                   34.000000      -1.000000   \n",
              "25%              136.000000                   38.000000      92.000000   \n",
              "50%              145.000000                   46.000000      93.000000   \n",
              "75%              156.000000                   53.000000      95.000000   \n",
              "max            61442.000000                61442.000000      98.000000   \n",
              "\n",
              "       Oximeter Pulse  \n",
              "count      191.000000  \n",
              "mean       126.335079  \n",
              "std         46.348142  \n",
              "min         -1.000000  \n",
              "25%        134.000000  \n",
              "50%        139.000000  \n",
              "75%        149.000000  \n",
              "max        166.000000  "
            ],
            "text/html": [
              "\n",
              "  <div id=\"df-5c51ca8f-7393-4ae1-9058-b4403f5e55e5\">\n",
              "    <div class=\"colab-df-container\">\n",
              "      <div>\n",
              "<style scoped>\n",
              "    .dataframe tbody tr th:only-of-type {\n",
              "        vertical-align: middle;\n",
              "    }\n",
              "\n",
              "    .dataframe tbody tr th {\n",
              "        vertical-align: top;\n",
              "    }\n",
              "\n",
              "    .dataframe thead th {\n",
              "        text-align: right;\n",
              "    }\n",
              "</style>\n",
              "<table border=\"1\" class=\"dataframe\">\n",
              "  <thead>\n",
              "    <tr style=\"text-align: right;\">\n",
              "      <th></th>\n",
              "      <th>Lifetouch Heart Rate</th>\n",
              "      <th>Lifetouch Respiration Rate</th>\n",
              "      <th>Oximeter SpO2</th>\n",
              "      <th>Oximeter Pulse</th>\n",
              "    </tr>\n",
              "  </thead>\n",
              "  <tbody>\n",
              "    <tr>\n",
              "      <th>count</th>\n",
              "      <td>226.000000</td>\n",
              "      <td>226.000000</td>\n",
              "      <td>191.000000</td>\n",
              "      <td>191.000000</td>\n",
              "    </tr>\n",
              "    <tr>\n",
              "      <th>mean</th>\n",
              "      <td>2315.615044</td>\n",
              "      <td>2219.216814</td>\n",
              "      <td>83.450262</td>\n",
              "      <td>126.335079</td>\n",
              "    </tr>\n",
              "    <tr>\n",
              "      <th>std</th>\n",
              "      <td>11351.588825</td>\n",
              "      <td>11370.093548</td>\n",
              "      <td>29.802974</td>\n",
              "      <td>46.348142</td>\n",
              "    </tr>\n",
              "    <tr>\n",
              "      <th>min</th>\n",
              "      <td>106.000000</td>\n",
              "      <td>34.000000</td>\n",
              "      <td>-1.000000</td>\n",
              "      <td>-1.000000</td>\n",
              "    </tr>\n",
              "    <tr>\n",
              "      <th>25%</th>\n",
              "      <td>136.000000</td>\n",
              "      <td>38.000000</td>\n",
              "      <td>92.000000</td>\n",
              "      <td>134.000000</td>\n",
              "    </tr>\n",
              "    <tr>\n",
              "      <th>50%</th>\n",
              "      <td>145.000000</td>\n",
              "      <td>46.000000</td>\n",
              "      <td>93.000000</td>\n",
              "      <td>139.000000</td>\n",
              "    </tr>\n",
              "    <tr>\n",
              "      <th>75%</th>\n",
              "      <td>156.000000</td>\n",
              "      <td>53.000000</td>\n",
              "      <td>95.000000</td>\n",
              "      <td>149.000000</td>\n",
              "    </tr>\n",
              "    <tr>\n",
              "      <th>max</th>\n",
              "      <td>61442.000000</td>\n",
              "      <td>61442.000000</td>\n",
              "      <td>98.000000</td>\n",
              "      <td>166.000000</td>\n",
              "    </tr>\n",
              "  </tbody>\n",
              "</table>\n",
              "</div>\n",
              "      <button class=\"colab-df-convert\" onclick=\"convertToInteractive('df-5c51ca8f-7393-4ae1-9058-b4403f5e55e5')\"\n",
              "              title=\"Convert this dataframe to an interactive table.\"\n",
              "              style=\"display:none;\">\n",
              "        \n",
              "  <svg xmlns=\"http://www.w3.org/2000/svg\" height=\"24px\"viewBox=\"0 0 24 24\"\n",
              "       width=\"24px\">\n",
              "    <path d=\"M0 0h24v24H0V0z\" fill=\"none\"/>\n",
              "    <path d=\"M18.56 5.44l.94 2.06.94-2.06 2.06-.94-2.06-.94-.94-2.06-.94 2.06-2.06.94zm-11 1L8.5 8.5l.94-2.06 2.06-.94-2.06-.94L8.5 2.5l-.94 2.06-2.06.94zm10 10l.94 2.06.94-2.06 2.06-.94-2.06-.94-.94-2.06-.94 2.06-2.06.94z\"/><path d=\"M17.41 7.96l-1.37-1.37c-.4-.4-.92-.59-1.43-.59-.52 0-1.04.2-1.43.59L10.3 9.45l-7.72 7.72c-.78.78-.78 2.05 0 2.83L4 21.41c.39.39.9.59 1.41.59.51 0 1.02-.2 1.41-.59l7.78-7.78 2.81-2.81c.8-.78.8-2.07 0-2.86zM5.41 20L4 18.59l7.72-7.72 1.47 1.35L5.41 20z\"/>\n",
              "  </svg>\n",
              "      </button>\n",
              "      \n",
              "  <style>\n",
              "    .colab-df-container {\n",
              "      display:flex;\n",
              "      flex-wrap:wrap;\n",
              "      gap: 12px;\n",
              "    }\n",
              "\n",
              "    .colab-df-convert {\n",
              "      background-color: #E8F0FE;\n",
              "      border: none;\n",
              "      border-radius: 50%;\n",
              "      cursor: pointer;\n",
              "      display: none;\n",
              "      fill: #1967D2;\n",
              "      height: 32px;\n",
              "      padding: 0 0 0 0;\n",
              "      width: 32px;\n",
              "    }\n",
              "\n",
              "    .colab-df-convert:hover {\n",
              "      background-color: #E2EBFA;\n",
              "      box-shadow: 0px 1px 2px rgba(60, 64, 67, 0.3), 0px 1px 3px 1px rgba(60, 64, 67, 0.15);\n",
              "      fill: #174EA6;\n",
              "    }\n",
              "\n",
              "    [theme=dark] .colab-df-convert {\n",
              "      background-color: #3B4455;\n",
              "      fill: #D2E3FC;\n",
              "    }\n",
              "\n",
              "    [theme=dark] .colab-df-convert:hover {\n",
              "      background-color: #434B5C;\n",
              "      box-shadow: 0px 1px 3px 1px rgba(0, 0, 0, 0.15);\n",
              "      filter: drop-shadow(0px 1px 2px rgba(0, 0, 0, 0.3));\n",
              "      fill: #FFFFFF;\n",
              "    }\n",
              "  </style>\n",
              "\n",
              "      <script>\n",
              "        const buttonEl =\n",
              "          document.querySelector('#df-5c51ca8f-7393-4ae1-9058-b4403f5e55e5 button.colab-df-convert');\n",
              "        buttonEl.style.display =\n",
              "          google.colab.kernel.accessAllowed ? 'block' : 'none';\n",
              "\n",
              "        async function convertToInteractive(key) {\n",
              "          const element = document.querySelector('#df-5c51ca8f-7393-4ae1-9058-b4403f5e55e5');\n",
              "          const dataTable =\n",
              "            await google.colab.kernel.invokeFunction('convertToInteractive',\n",
              "                                                     [key], {});\n",
              "          if (!dataTable) return;\n",
              "\n",
              "          const docLinkHtml = 'Like what you see? Visit the ' +\n",
              "            '<a target=\"_blank\" href=https://colab.research.google.com/notebooks/data_table.ipynb>data table notebook</a>'\n",
              "            + ' to learn more about interactive tables.';\n",
              "          element.innerHTML = '';\n",
              "          dataTable['output_type'] = 'display_data';\n",
              "          await google.colab.output.renderOutput(dataTable, element);\n",
              "          const docLink = document.createElement('div');\n",
              "          docLink.innerHTML = docLinkHtml;\n",
              "          element.appendChild(docLink);\n",
              "        }\n",
              "      </script>\n",
              "    </div>\n",
              "  </div>\n",
              "  "
            ]
          },
          "metadata": {},
          "execution_count": 36
        }
      ]
    },
    {
      "cell_type": "code",
      "source": [
        "df.isnull().sum()"
      ],
      "metadata": {
        "colab": {
          "base_uri": "https://localhost:8080/"
        },
        "id": "1UkXEVQef5GW",
        "outputId": "455a95c9-077a-4497-a55e-381a02dfc1c9"
      },
      "execution_count": 37,
      "outputs": [
        {
          "output_type": "execute_result",
          "data": {
            "text/plain": [
              "Timestamp (GMT)                0\n",
              "Lifetouch Heart Rate           0\n",
              "Lifetouch Respiration Rate     0\n",
              "Oximeter SpO2                 35\n",
              "Oximeter Pulse                35\n",
              "dtype: int64"
            ]
          },
          "metadata": {},
          "execution_count": 37
        }
      ]
    },
    {
      "cell_type": "code",
      "source": [
        "df.info()"
      ],
      "metadata": {
        "colab": {
          "base_uri": "https://localhost:8080/"
        },
        "id": "6z4mWdLkgRNo",
        "outputId": "e761839e-f6be-477d-94aa-b76c1f51ebe2"
      },
      "execution_count": 38,
      "outputs": [
        {
          "output_type": "stream",
          "name": "stdout",
          "text": [
            "<class 'pandas.core.frame.DataFrame'>\n",
            "RangeIndex: 226 entries, 0 to 225\n",
            "Data columns (total 5 columns):\n",
            " #   Column                      Non-Null Count  Dtype  \n",
            "---  ------                      --------------  -----  \n",
            " 0   Timestamp (GMT)             226 non-null    object \n",
            " 1   Lifetouch Heart Rate        226 non-null    int64  \n",
            " 2   Lifetouch Respiration Rate  226 non-null    int64  \n",
            " 3   Oximeter SpO2               191 non-null    float64\n",
            " 4   Oximeter Pulse              191 non-null    float64\n",
            "dtypes: float64(2), int64(2), object(1)\n",
            "memory usage: 9.0+ KB\n"
          ]
        }
      ]
    },
    {
      "cell_type": "code",
      "source": [
        "import matplotlib.pyplot as plt\n",
        "\n",
        "# create a line plot of the heart rate data\n",
        "plt.plot(df['Lifetouch Heart Rate'])\n",
        "\n",
        "# add labels and title\n",
        "plt.xlabel('Time')\n",
        "plt.ylabel('Heart Rate')\n",
        "plt.title('Heart Rate Time Series')\n",
        "\n",
        "# show the plot\n",
        "plt.show()\n"
      ],
      "metadata": {
        "colab": {
          "base_uri": "https://localhost:8080/",
          "height": 295
        },
        "id": "2vIVwiX2nTu0",
        "outputId": "3155f225-4045-4a2c-b23f-bae5cff1f53d"
      },
      "execution_count": 39,
      "outputs": [
        {
          "output_type": "display_data",
          "data": {
            "text/plain": [
              "<Figure size 432x288 with 1 Axes>"
            ],
            "image/png": "[encoded data removed]"
          },
          "metadata": {
            "needs_background": "light"
          }
        }
      ]
    },
    {
      "cell_type": "code",
      "source": [
        "df.shape"
      ],
      "metadata": {
        "colab": {
          "base_uri": "https://localhost:8080/"
        },
        "id": "RLZ2TZlQgW1k",
        "outputId": "d0e10f6b-c1cf-4a93-9841-75d905d4a9d0"
      },
      "execution_count": 40,
      "outputs": [
        {
          "output_type": "execute_result",
          "data": {
            "text/plain": [
              "(226, 5)"
            ]
          },
          "metadata": {},
          "execution_count": 40
        }
      ]
    },
    {
      "cell_type": "code",
      "source": [
        "# Handle missing values\n",
        "#df = df.fillna(df.mean())\n",
        "df=df.fillna(df.bfill())\n",
        "\n"
      ],
      "metadata": {
        "id": "AYTbhJESffP_"
      },
      "execution_count": 41,
      "outputs": []
    },
    {
      "cell_type": "code",
      "source": [
        "df.head(10)"
      ],
      "metadata": {
        "colab": {
          "base_uri": "https://localhost:8080/",
          "height": 363
        },
        "id": "bXKkjj4nfjIL",
        "outputId": "325d6de0-48de-4bac-9a10-ea66a49c033a"
      },
      "execution_count": 42,
      "outputs": [
        {
          "output_type": "execute_result",
          "data": {
            "text/plain": [
              "    Timestamp (GMT)  Lifetouch Heart Rate  Lifetouch Respiration Rate  \\\n",
              "0  17/08/2015 15:09                   139                          41   \n",
              "1  17/08/2015 15:10                   144                          40   \n",
              "2  17/08/2015 15:11                   140                          42   \n",
              "3  17/08/2015 15:12                   138                          45   \n",
              "4  17/08/2015 15:13                   133                          42   \n",
              "5  17/08/2015 15:14                   132                          41   \n",
              "6  17/08/2015 15:15                   132                          47   \n",
              "7  17/08/2015 15:16                   133                          44   \n",
              "8  17/08/2015 15:17                   136                          45   \n",
              "9  17/08/2015 15:18                   137                          42   \n",
              "\n",
              "   Oximeter SpO2  Oximeter Pulse  \n",
              "0           92.0           140.0  \n",
              "1           92.0           140.0  \n",
              "2           89.0           144.0  \n",
              "3           93.0           141.0  \n",
              "4           94.0           134.0  \n",
              "5           92.0           134.0  \n",
              "6           92.0           135.0  \n",
              "7           92.0           135.0  \n",
              "8           94.0           136.0  \n",
              "9           93.0           138.0  "
            ],
            "text/html": [
              "\n",
              "  <div id=\"df-fe0cd02b-1637-4459-8e76-112174f2c2bc\">\n",
              "    <div class=\"colab-df-container\">\n",
              "      <div>\n",
              "<style scoped>\n",
              "    .dataframe tbody tr th:only-of-type {\n",
              "        vertical-align: middle;\n",
              "    }\n",
              "\n",
              "    .dataframe tbody tr th {\n",
              "        vertical-align: top;\n",
              "    }\n",
              "\n",
              "    .dataframe thead th {\n",
              "        text-align: right;\n",
              "    }\n",
              "</style>\n",
              "<table border=\"1\" class=\"dataframe\">\n",
              "  <thead>\n",
              "    <tr style=\"text-align: right;\">\n",
              "      <th></th>\n",
              "      <th>Timestamp (GMT)</th>\n",
              "      <th>Lifetouch Heart Rate</th>\n",
              "      <th>Lifetouch Respiration Rate</th>\n",
              "      <th>Oximeter SpO2</th>\n",
              "      <th>Oximeter Pulse</th>\n",
              "    </tr>\n",
              "  </thead>\n",
              "  <tbody>\n",
              "    <tr>\n",
              "      <th>0</th>\n",
              "      <td>17/08/2015 15:09</td>\n",
              "      <td>139</td>\n",
              "      <td>41</td>\n",
              "      <td>92.0</td>\n",
              "      <td>140.0</td>\n",
              "    </tr>\n",
              "    <tr>\n",
              "      <th>1</th>\n",
              "      <td>17/08/2015 15:10</td>\n",
              "      <td>144</td>\n",
              "      <td>40</td>\n",
              "      <td>92.0</td>\n",
              "      <td>140.0</td>\n",
              "    </tr>\n",
              "    <tr>\n",
              "      <th>2</th>\n",
              "      <td>17/08/2015 15:11</td>\n",
              "      <td>140</td>\n",
              "      <td>42</td>\n",
              "      <td>89.0</td>\n",
              "      <td>144.0</td>\n",
              "    </tr>\n",
              "    <tr>\n",
              "      <th>3</th>\n",
              "      <td>17/08/2015 15:12</td>\n",
              "      <td>138</td>\n",
              "      <td>45</td>\n",
              "      <td>93.0</td>\n",
              "      <td>141.0</td>\n",
              "    </tr>\n",
              "    <tr>\n",
              "      <th>4</th>\n",
              "      <td>17/08/2015 15:13</td>\n",
              "      <td>133</td>\n",
              "      <td>42</td>\n",
              "      <td>94.0</td>\n",
              "      <td>134.0</td>\n",
              "    </tr>\n",
              "    <tr>\n",
              "      <th>5</th>\n",
              "      <td>17/08/2015 15:14</td>\n",
              "      <td>132</td>\n",
              "      <td>41</td>\n",
              "      <td>92.0</td>\n",
              "      <td>134.0</td>\n",
              "    </tr>\n",
              "    <tr>\n",
              "      <th>6</th>\n",
              "      <td>17/08/2015 15:15</td>\n",
              "      <td>132</td>\n",
              "      <td>47</td>\n",
              "      <td>92.0</td>\n",
              "      <td>135.0</td>\n",
              "    </tr>\n",
              "    <tr>\n",
              "      <th>7</th>\n",
              "      <td>17/08/2015 15:16</td>\n",
              "      <td>133</td>\n",
              "      <td>44</td>\n",
              "      <td>92.0</td>\n",
              "      <td>135.0</td>\n",
              "    </tr>\n",
              "    <tr>\n",
              "      <th>8</th>\n",
              "      <td>17/08/2015 15:17</td>\n",
              "      <td>136</td>\n",
              "      <td>45</td>\n",
              "      <td>94.0</td>\n",
              "      <td>136.0</td>\n",
              "    </tr>\n",
              "    <tr>\n",
              "      <th>9</th>\n",
              "      <td>17/08/2015 15:18</td>\n",
              "      <td>137</td>\n",
              "      <td>42</td>\n",
              "      <td>93.0</td>\n",
              "      <td>138.0</td>\n",
              "    </tr>\n",
              "  </tbody>\n",
              "</table>\n",
              "</div>\n",
              "      <button class=\"colab-df-convert\" onclick=\"convertToInteractive('df-fe0cd02b-1637-4459-8e76-112174f2c2bc')\"\n",
              "              title=\"Convert this dataframe to an interactive table.\"\n",
              "              style=\"display:none;\">\n",
              "        \n",
              "  <svg xmlns=\"http://www.w3.org/2000/svg\" height=\"24px\"viewBox=\"0 0 24 24\"\n",
              "       width=\"24px\">\n",
              "    <path d=\"M0 0h24v24H0V0z\" fill=\"none\"/>\n",
              "    <path d=\"M18.56 5.44l.94 2.06.94-2.06 2.06-.94-2.06-.94-.94-2.06-.94 2.06-2.06.94zm-11 1L8.5 8.5l.94-2.06 2.06-.94-2.06-.94L8.5 2.5l-.94 2.06-2.06.94zm10 10l.94 2.06.94-2.06 2.06-.94-2.06-.94-.94-2.06-.94 2.06-2.06.94z\"/><path d=\"M17.41 7.96l-1.37-1.37c-.4-.4-.92-.59-1.43-.59-.52 0-1.04.2-1.43.59L10.3 9.45l-7.72 7.72c-.78.78-.78 2.05 0 2.83L4 21.41c.39.39.9.59 1.41.59.51 0 1.02-.2 1.41-.59l7.78-7.78 2.81-2.81c.8-.78.8-2.07 0-2.86zM5.41 20L4 18.59l7.72-7.72 1.47 1.35L5.41 20z\"/>\n",
              "  </svg>\n",
              "      </button>\n",
              "      \n",
              "  <style>\n",
              "    .colab-df-container {\n",
              "      display:flex;\n",
              "      flex-wrap:wrap;\n",
              "      gap: 12px;\n",
              "    }\n",
              "\n",
              "    .colab-df-convert {\n",
              "      background-color: #E8F0FE;\n",
              "      border: none;\n",
              "      border-radius: 50%;\n",
              "      cursor: pointer;\n",
              "      display: none;\n",
              "      fill: #1967D2;\n",
              "      height: 32px;\n",
              "      padding: 0 0 0 0;\n",
              "      width: 32px;\n",
              "    }\n",
              "\n",
              "    .colab-df-convert:hover {\n",
              "      background-color: #E2EBFA;\n",
              "      box-shadow: 0px 1px 2px rgba(60, 64, 67, 0.3), 0px 1px 3px 1px rgba(60, 64, 67, 0.15);\n",
              "      fill: #174EA6;\n",
              "    }\n",
              "\n",
              "    [theme=dark] .colab-df-convert {\n",
              "      background-color: #3B4455;\n",
              "      fill: #D2E3FC;\n",
              "    }\n",
              "\n",
              "    [theme=dark] .colab-df-convert:hover {\n",
              "      background-color: #434B5C;\n",
              "      box-shadow: 0px 1px 3px 1px rgba(0, 0, 0, 0.15);\n",
              "      filter: drop-shadow(0px 1px 2px rgba(0, 0, 0, 0.3));\n",
              "      fill: #FFFFFF;\n",
              "    }\n",
              "  </style>\n",
              "\n",
              "      <script>\n",
              "        const buttonEl =\n",
              "          document.querySelector('#df-fe0cd02b-1637-4459-8e76-112174f2c2bc button.colab-df-convert');\n",
              "        buttonEl.style.display =\n",
              "          google.colab.kernel.accessAllowed ? 'block' : 'none';\n",
              "\n",
              "        async function convertToInteractive(key) {\n",
              "          const element = document.querySelector('#df-fe0cd02b-1637-4459-8e76-112174f2c2bc');\n",
              "          const dataTable =\n",
              "            await google.colab.kernel.invokeFunction('convertToInteractive',\n",
              "                                                     [key], {});\n",
              "          if (!dataTable) return;\n",
              "\n",
              "          const docLinkHtml = 'Like what you see? Visit the ' +\n",
              "            '<a target=\"_blank\" href=https://colab.research.google.com/notebooks/data_table.ipynb>data table notebook</a>'\n",
              "            + ' to learn more about interactive tables.';\n",
              "          element.innerHTML = '';\n",
              "          dataTable['output_type'] = 'display_data';\n",
              "          await google.colab.output.renderOutput(dataTable, element);\n",
              "          const docLink = document.createElement('div');\n",
              "          docLink.innerHTML = docLinkHtml;\n",
              "          element.appendChild(docLink);\n",
              "        }\n",
              "      </script>\n",
              "    </div>\n",
              "  </div>\n",
              "  "
            ]
          },
          "metadata": {},
          "execution_count": 42
        }
      ]
    },
    {
      "cell_type": "markdown",
      "source": [
        "Data preprocessing for this dataset would involve a few steps:\n",
        "\n",
        "1.Checking for missing or invalid data: In this dataset, some entries in the Oximeter SpO2 and Oximeter Pulse columns are missing or have a value of -1. These entries need to be handled appropriately, either by removing them or imputing them with a suitable value.\n",
        "\n",
        "2.Handling outliers: The data point with a heart rate of 61441 and a respiration rate of 61441 is likely an error and should be removed.\n",
        "\n",
        "Formatting the timestamp column: The timestamp column should be formatted as a datetime object, if it is not already.\n",
        "\n",
        "Normalizing the data: The data in the different columns may have different ranges, which could cause problems during modeling. Normalizing the data, for example by scaling it to a range between 0 and 1, can help prevent this.\n",
        "\n",
        "Splitting the dataset: Finally, the dataset should be split into training and testing sets, so that the model can be trained and evaluated on different data."
      ],
      "metadata": {
        "id": "2vuVkkajiq5Y"
      }
    },
    {
      "cell_type": "code",
      "source": [
        "#here we are replacing the negative values \n",
        "df1=df.replace(-1, np.nan, inplace=False)"
      ],
      "metadata": {
        "id": "NXAbx5LgiyEI"
      },
      "execution_count": 43,
      "outputs": []
    },
    {
      "cell_type": "code",
      "source": [
        "print(df.shape)\n",
        "print(df1.shape)"
      ],
      "metadata": {
        "colab": {
          "base_uri": "https://localhost:8080/"
        },
        "id": "3DSW3KoskUoT",
        "outputId": "38ab62e8-1220-437b-c8aa-929aca1d59b0"
      },
      "execution_count": 44,
      "outputs": [
        {
          "output_type": "stream",
          "name": "stdout",
          "text": [
            "(226, 5)\n",
            "(226, 5)\n"
          ]
        }
      ]
    },
    {
      "cell_type": "code",
      "source": [
        "#Impute missing values with a suitable value (e.g. the mean)\n",
        "df1[\"Oximeter SpO2\"].fillna(df1[\"Oximeter SpO2\"].mean(), inplace=True)\n",
        "df1[\"Oximeter Pulse\"].fillna(df1[\"Oximeter Pulse\"].mean(), inplace=True)"
      ],
      "metadata": {
        "id": "tpH-a_QskJYy"
      },
      "execution_count": 45,
      "outputs": []
    },
    {
      "cell_type": "code",
      "source": [
        "#handling-outliers: here for the heart rate we have consider the values which are between 40-200 as we know that \n",
        "df1 = df1[(df1['Lifetouch Heart Rate'] > 40) & (df1['Lifetouch Heart Rate'] < 200)]\n"
      ],
      "metadata": {
        "id": "Y7S4HOBOg7yN"
      },
      "execution_count": 46,
      "outputs": []
    },
    {
      "cell_type": "code",
      "source": [
        "df1"
      ],
      "metadata": {
        "colab": {
          "base_uri": "https://localhost:8080/",
          "height": 423
        },
        "id": "gMuHamqTha9x",
        "outputId": "a815651a-7988-409a-a0ed-94b81c187abb"
      },
      "execution_count": 47,
      "outputs": [
        {
          "output_type": "execute_result",
          "data": {
            "text/plain": [
              "      Timestamp (GMT)  Lifetouch Heart Rate  Lifetouch Respiration Rate  \\\n",
              "0    17/08/2015 15:09                   139                          41   \n",
              "1    17/08/2015 15:10                   144                          40   \n",
              "2    17/08/2015 15:11                   140                          42   \n",
              "3    17/08/2015 15:12                   138                          45   \n",
              "4    17/08/2015 15:13                   133                          42   \n",
              "..                ...                   ...                         ...   \n",
              "221  17/08/2015 18:50                   159                          51   \n",
              "222  17/08/2015 18:51                   151                          64   \n",
              "223  17/08/2015 18:52                   140                          64   \n",
              "224  17/08/2015 18:53                   140                          55   \n",
              "225  17/08/2015 18:54                   138                          54   \n",
              "\n",
              "     Oximeter SpO2  Oximeter Pulse  \n",
              "0        92.000000      140.000000  \n",
              "1        92.000000      140.000000  \n",
              "2        89.000000      144.000000  \n",
              "3        93.000000      141.000000  \n",
              "4        94.000000      134.000000  \n",
              "..             ...             ...  \n",
              "221      93.973684      143.010526  \n",
              "222      93.973684      143.010526  \n",
              "223      93.973684      143.010526  \n",
              "224      93.973684      143.010526  \n",
              "225      93.973684      143.010526  \n",
              "\n",
              "[218 rows x 5 columns]"
            ],
            "text/html": [
              "\n",
              "  <div id=\"df-166c5963-47c5-4eae-82a9-72a3f27124c6\">\n",
              "    <div class=\"colab-df-container\">\n",
              "      <div>\n",
              "<style scoped>\n",
              "    .dataframe tbody tr th:only-of-type {\n",
              "        vertical-align: middle;\n",
              "    }\n",
              "\n",
              "    .dataframe tbody tr th {\n",
              "        vertical-align: top;\n",
              "    }\n",
              "\n",
              "    .dataframe thead th {\n",
              "        text-align: right;\n",
              "    }\n",
              "</style>\n",
              "<table border=\"1\" class=\"dataframe\">\n",
              "  <thead>\n",
              "    <tr style=\"text-align: right;\">\n",
              "      <th></th>\n",
              "      <th>Timestamp (GMT)</th>\n",
              "      <th>Lifetouch Heart Rate</th>\n",
              "      <th>Lifetouch Respiration Rate</th>\n",
              "      <th>Oximeter SpO2</th>\n",
              "      <th>Oximeter Pulse</th>\n",
              "    </tr>\n",
              "  </thead>\n",
              "  <tbody>\n",
              "    <tr>\n",
              "      <th>0</th>\n",
              "      <td>17/08/2015 15:09</td>\n",
              "      <td>139</td>\n",
              "      <td>41</td>\n",
              "      <td>92.000000</td>\n",
              "      <td>140.000000</td>\n",
              "    </tr>\n",
              "    <tr>\n",
              "      <th>1</th>\n",
              "      <td>17/08/2015 15:10</td>\n",
              "      <td>144</td>\n",
              "      <td>40</td>\n",
              "      <td>92.000000</td>\n",
              "      <td>140.000000</td>\n",
              "    </tr>\n",
              "    <tr>\n",
              "      <th>2</th>\n",
              "      <td>17/08/2015 15:11</td>\n",
              "      <td>140</td>\n",
              "      <td>42</td>\n",
              "      <td>89.000000</td>\n",
              "      <td>144.000000</td>\n",
              "    </tr>\n",
              "    <tr>\n",
              "      <th>3</th>\n",
              "      <td>17/08/2015 15:12</td>\n",
              "      <td>138</td>\n",
              "      <td>45</td>\n",
              "      <td>93.000000</td>\n",
              "      <td>141.000000</td>\n",
              "    </tr>\n",
              "    <tr>\n",
              "      <th>4</th>\n",
              "      <td>17/08/2015 15:13</td>\n",
              "      <td>133</td>\n",
              "      <td>42</td>\n",
              "      <td>94.000000</td>\n",
              "      <td>134.000000</td>\n",
              "    </tr>\n",
              "    <tr>\n",
              "      <th>...</th>\n",
              "      <td>...</td>\n",
              "      <td>...</td>\n",
              "      <td>...</td>\n",
              "      <td>...</td>\n",
              "      <td>...</td>\n",
              "    </tr>\n",
              "    <tr>\n",
              "      <th>221</th>\n",
              "      <td>17/08/2015 18:50</td>\n",
              "      <td>159</td>\n",
              "      <td>51</td>\n",
              "      <td>93.973684</td>\n",
              "      <td>143.010526</td>\n",
              "    </tr>\n",
              "    <tr>\n",
              "      <th>222</th>\n",
              "      <td>17/08/2015 18:51</td>\n",
              "      <td>151</td>\n",
              "      <td>64</td>\n",
              "      <td>93.973684</td>\n",
              "      <td>143.010526</td>\n",
              "    </tr>\n",
              "    <tr>\n",
              "      <th>223</th>\n",
              "      <td>17/08/2015 18:52</td>\n",
              "      <td>140</td>\n",
              "      <td>64</td>\n",
              "      <td>93.973684</td>\n",
              "      <td>143.010526</td>\n",
              "    </tr>\n",
              "    <tr>\n",
              "      <th>224</th>\n",
              "      <td>17/08/2015 18:53</td>\n",
              "      <td>140</td>\n",
              "      <td>55</td>\n",
              "      <td>93.973684</td>\n",
              "      <td>143.010526</td>\n",
              "    </tr>\n",
              "    <tr>\n",
              "      <th>225</th>\n",
              "      <td>17/08/2015 18:54</td>\n",
              "      <td>138</td>\n",
              "      <td>54</td>\n",
              "      <td>93.973684</td>\n",
              "      <td>143.010526</td>\n",
              "    </tr>\n",
              "  </tbody>\n",
              "</table>\n",
              "<p>218 rows × 5 columns</p>\n",
              "</div>\n",
              "      <button class=\"colab-df-convert\" onclick=\"convertToInteractive('df-166c5963-47c5-4eae-82a9-72a3f27124c6')\"\n",
              "              title=\"Convert this dataframe to an interactive table.\"\n",
              "              style=\"display:none;\">\n",
              "        \n",
              "  <svg xmlns=\"http://www.w3.org/2000/svg\" height=\"24px\"viewBox=\"0 0 24 24\"\n",
              "       width=\"24px\">\n",
              "    <path d=\"M0 0h24v24H0V0z\" fill=\"none\"/>\n",
              "    <path d=\"M18.56 5.44l.94 2.06.94-2.06 2.06-.94-2.06-.94-.94-2.06-.94 2.06-2.06.94zm-11 1L8.5 8.5l.94-2.06 2.06-.94-2.06-.94L8.5 2.5l-.94 2.06-2.06.94zm10 10l.94 2.06.94-2.06 2.06-.94-2.06-.94-.94-2.06-.94 2.06-2.06.94z\"/><path d=\"M17.41 7.96l-1.37-1.37c-.4-.4-.92-.59-1.43-.59-.52 0-1.04.2-1.43.59L10.3 9.45l-7.72 7.72c-.78.78-.78 2.05 0 2.83L4 21.41c.39.39.9.59 1.41.59.51 0 1.02-.2 1.41-.59l7.78-7.78 2.81-2.81c.8-.78.8-2.07 0-2.86zM5.41 20L4 18.59l7.72-7.72 1.47 1.35L5.41 20z\"/>\n",
              "  </svg>\n",
              "      </button>\n",
              "      \n",
              "  <style>\n",
              "    .colab-df-container {\n",
              "      display:flex;\n",
              "      flex-wrap:wrap;\n",
              "      gap: 12px;\n",
              "    }\n",
              "\n",
              "    .colab-df-convert {\n",
              "      background-color: #E8F0FE;\n",
              "      border: none;\n",
              "      border-radius: 50%;\n",
              "      cursor: pointer;\n",
              "      display: none;\n",
              "      fill: #1967D2;\n",
              "      height: 32px;\n",
              "      padding: 0 0 0 0;\n",
              "      width: 32px;\n",
              "    }\n",
              "\n",
              "    .colab-df-convert:hover {\n",
              "      background-color: #E2EBFA;\n",
              "      box-shadow: 0px 1px 2px rgba(60, 64, 67, 0.3), 0px 1px 3px 1px rgba(60, 64, 67, 0.15);\n",
              "      fill: #174EA6;\n",
              "    }\n",
              "\n",
              "    [theme=dark] .colab-df-convert {\n",
              "      background-color: #3B4455;\n",
              "      fill: #D2E3FC;\n",
              "    }\n",
              "\n",
              "    [theme=dark] .colab-df-convert:hover {\n",
              "      background-color: #434B5C;\n",
              "      box-shadow: 0px 1px 3px 1px rgba(0, 0, 0, 0.15);\n",
              "      filter: drop-shadow(0px 1px 2px rgba(0, 0, 0, 0.3));\n",
              "      fill: #FFFFFF;\n",
              "    }\n",
              "  </style>\n",
              "\n",
              "      <script>\n",
              "        const buttonEl =\n",
              "          document.querySelector('#df-166c5963-47c5-4eae-82a9-72a3f27124c6 button.colab-df-convert');\n",
              "        buttonEl.style.display =\n",
              "          google.colab.kernel.accessAllowed ? 'block' : 'none';\n",
              "\n",
              "        async function convertToInteractive(key) {\n",
              "          const element = document.querySelector('#df-166c5963-47c5-4eae-82a9-72a3f27124c6');\n",
              "          const dataTable =\n",
              "            await google.colab.kernel.invokeFunction('convertToInteractive',\n",
              "                                                     [key], {});\n",
              "          if (!dataTable) return;\n",
              "\n",
              "          const docLinkHtml = 'Like what you see? Visit the ' +\n",
              "            '<a target=\"_blank\" href=https://colab.research.google.com/notebooks/data_table.ipynb>data table notebook</a>'\n",
              "            + ' to learn more about interactive tables.';\n",
              "          element.innerHTML = '';\n",
              "          dataTable['output_type'] = 'display_data';\n",
              "          await google.colab.output.renderOutput(dataTable, element);\n",
              "          const docLink = document.createElement('div');\n",
              "          docLink.innerHTML = docLinkHtml;\n",
              "          element.appendChild(docLink);\n",
              "        }\n",
              "      </script>\n",
              "    </div>\n",
              "  </div>\n",
              "  "
            ]
          },
          "metadata": {},
          "execution_count": 47
        }
      ]
    },
    {
      "cell_type": "code",
      "source": [
        "#pd.to_datetime() function to convert the timestamp column to a datetime object.\n",
        "#formating the time stamp column\n",
        "df1['Timestamp (GMT)'] = pd.to_datetime(df1['Timestamp (GMT)'])\n",
        "\n"
      ],
      "metadata": {
        "id": "qfCpVp-7hokP"
      },
      "execution_count": 48,
      "outputs": []
    },
    {
      "cell_type": "code",
      "source": [],
      "metadata": {
        "id": "ZA1cp1vRn1Ab"
      },
      "execution_count": 48,
      "outputs": []
    },
    {
      "cell_type": "code",
      "source": [
        "#normalizig the data\n",
        "from sklearn.preprocessing import MinMaxScaler\n",
        "\n",
        "# Initialize the scaler\n",
        "scaler = MinMaxScaler()\n",
        "\n",
        "# Fit the scaler to the \"Lifetouch Heart Rate\" column\n",
        "scaler.fit(df1[[\"Lifetouch Heart Rate\"]])\n",
        "\n",
        "# Transform the \"Lifetouch Heart Rate\" column\n",
        "df1[\"Lifetouch Heart Rate\"] = scaler.transform(df1[[\"Lifetouch Heart Rate\"]])\n"
      ],
      "metadata": {
        "id": "hsMcb8pvmB1H"
      },
      "execution_count": 49,
      "outputs": []
    },
    {
      "cell_type": "markdown",
      "source": [
        "#Model-1: ARIMA\n",
        "Step1: checking for the stationarity\n",
        "step2:\n"
      ],
      "metadata": {
        "id": "BHa79q_Voq5_"
      }
    },
    {
      "cell_type": "code",
      "source": [
        "# check stationarity of the series\n",
        "def check_stationarity(series):\n",
        "  statistic, p_value, n_lags, critical_values = sm.tsa.stattools.kpss(series)\n",
        "  print(f'p value: {p_value}')\n",
        "  print(f'Result: The series is {\"not \" if p_value < 0.05 else \"\"}stationary \\n')\n",
        "     "
      ],
      "metadata": {
        "id": "wlwVo60roJ66"
      },
      "execution_count": 50,
      "outputs": []
    },
    {
      "cell_type": "code",
      "source": [
        "check_stationarity(df1['Lifetouch Heart Rate'])\n"
      ],
      "metadata": {
        "colab": {
          "base_uri": "https://localhost:8080/"
        },
        "id": "jc15rPnJqQPp",
        "outputId": "5c38a426-3b33-4153-aa14-29e9b44b73c0"
      },
      "execution_count": 51,
      "outputs": [
        {
          "output_type": "stream",
          "name": "stdout",
          "text": [
            "p value: 0.01\n",
            "Result: The series is not stationary \n",
            "\n"
          ]
        },
        {
          "output_type": "stream",
          "name": "stderr",
          "text": [
            "/usr/local/lib/python3.8/dist-packages/statsmodels/tsa/stattools.py:2018: InterpolationWarning: The test statistic is outside of the range of p-values available in the\n",
            "look-up table. The actual p-value is smaller than the p-value returned.\n",
            "\n",
            "  warnings.warn(\n"
          ]
        }
      ]
    },
    {
      "cell_type": "markdown",
      "source": [
        "note: A p-value less than or equal to 0.05 (typically 0.05) is statistically significant and suggests that the results are not due to chance. In this case, since the p-value is 0.1, it suggests that the series is stationary. "
      ],
      "metadata": {
        "id": "UdtWgs9SrZTG"
      }
    },
    {
      "cell_type": "code",
      "source": [
        "df1['Date'] = df1['Timestamp (GMT)'].dt.date\n",
        "df1['Time'] = df1['Timestamp (GMT)'].dt.time\n"
      ],
      "metadata": {
        "id": "uaaXxNMDtNo3"
      },
      "execution_count": 52,
      "outputs": []
    },
    {
      "cell_type": "code",
      "source": [
        "df1"
      ],
      "metadata": {
        "colab": {
          "base_uri": "https://localhost:8080/",
          "height": 423
        },
        "id": "sI8mqNnUvj86",
        "outputId": "7df6ca29-673d-427b-a07a-942f0db61f4e"
      },
      "execution_count": 53,
      "outputs": [
        {
          "output_type": "execute_result",
          "data": {
            "text/plain": [
              "        Timestamp (GMT)  Lifetouch Heart Rate  Lifetouch Respiration Rate  \\\n",
              "0   2015-08-17 15:09:00              0.500000                          41   \n",
              "1   2015-08-17 15:10:00              0.575758                          40   \n",
              "2   2015-08-17 15:11:00              0.515152                          42   \n",
              "3   2015-08-17 15:12:00              0.484848                          45   \n",
              "4   2015-08-17 15:13:00              0.409091                          42   \n",
              "..                  ...                   ...                         ...   \n",
              "221 2015-08-17 18:50:00              0.803030                          51   \n",
              "222 2015-08-17 18:51:00              0.681818                          64   \n",
              "223 2015-08-17 18:52:00              0.515152                          64   \n",
              "224 2015-08-17 18:53:00              0.515152                          55   \n",
              "225 2015-08-17 18:54:00              0.484848                          54   \n",
              "\n",
              "     Oximeter SpO2  Oximeter Pulse        Date      Time  \n",
              "0        92.000000      140.000000  2015-08-17  15:09:00  \n",
              "1        92.000000      140.000000  2015-08-17  15:10:00  \n",
              "2        89.000000      144.000000  2015-08-17  15:11:00  \n",
              "3        93.000000      141.000000  2015-08-17  15:12:00  \n",
              "4        94.000000      134.000000  2015-08-17  15:13:00  \n",
              "..             ...             ...         ...       ...  \n",
              "221      93.973684      143.010526  2015-08-17  18:50:00  \n",
              "222      93.973684      143.010526  2015-08-17  18:51:00  \n",
              "223      93.973684      143.010526  2015-08-17  18:52:00  \n",
              "224      93.973684      143.010526  2015-08-17  18:53:00  \n",
              "225      93.973684      143.010526  2015-08-17  18:54:00  \n",
              "\n",
              "[218 rows x 7 columns]"
            ],
            "text/html": [
              "\n",
              "  <div id=\"df-efd6863a-b84c-41f6-9409-723819b66107\">\n",
              "    <div class=\"colab-df-container\">\n",
              "      <div>\n",
              "<style scoped>\n",
              "    .dataframe tbody tr th:only-of-type {\n",
              "        vertical-align: middle;\n",
              "    }\n",
              "\n",
              "    .dataframe tbody tr th {\n",
              "        vertical-align: top;\n",
              "    }\n",
              "\n",
              "    .dataframe thead th {\n",
              "        text-align: right;\n",
              "    }\n",
              "</style>\n",
              "<table border=\"1\" class=\"dataframe\">\n",
              "  <thead>\n",
              "    <tr style=\"text-align: right;\">\n",
              "      <th></th>\n",
              "      <th>Timestamp (GMT)</th>\n",
              "      <th>Lifetouch Heart Rate</th>\n",
              "      <th>Lifetouch Respiration Rate</th>\n",
              "      <th>Oximeter SpO2</th>\n",
              "      <th>Oximeter Pulse</th>\n",
              "      <th>Date</th>\n",
              "      <th>Time</th>\n",
              "    </tr>\n",
              "  </thead>\n",
              "  <tbody>\n",
              "    <tr>\n",
              "      <th>0</th>\n",
              "      <td>2015-08-17 15:09:00</td>\n",
              "      <td>0.500000</td>\n",
              "      <td>41</td>\n",
              "      <td>92.000000</td>\n",
              "      <td>140.000000</td>\n",
              "      <td>2015-08-17</td>\n",
              "      <td>15:09:00</td>\n",
              "    </tr>\n",
              "    <tr>\n",
              "      <th>1</th>\n",
              "      <td>2015-08-17 15:10:00</td>\n",
              "      <td>0.575758</td>\n",
              "      <td>40</td>\n",
              "      <td>92.000000</td>\n",
              "      <td>140.000000</td>\n",
              "      <td>2015-08-17</td>\n",
              "      <td>15:10:00</td>\n",
              "    </tr>\n",
              "    <tr>\n",
              "      <th>2</th>\n",
              "      <td>2015-08-17 15:11:00</td>\n",
              "      <td>0.515152</td>\n",
              "      <td>42</td>\n",
              "      <td>89.000000</td>\n",
              "      <td>144.000000</td>\n",
              "      <td>2015-08-17</td>\n",
              "      <td>15:11:00</td>\n",
              "    </tr>\n",
              "    <tr>\n",
              "      <th>3</th>\n",
              "      <td>2015-08-17 15:12:00</td>\n",
              "      <td>0.484848</td>\n",
              "      <td>45</td>\n",
              "      <td>93.000000</td>\n",
              "      <td>141.000000</td>\n",
              "      <td>2015-08-17</td>\n",
              "      <td>15:12:00</td>\n",
              "    </tr>\n",
              "    <tr>\n",
              "      <th>4</th>\n",
              "      <td>2015-08-17 15:13:00</td>\n",
              "      <td>0.409091</td>\n",
              "      <td>42</td>\n",
              "      <td>94.000000</td>\n",
              "      <td>134.000000</td>\n",
              "      <td>2015-08-17</td>\n",
              "      <td>15:13:00</td>\n",
              "    </tr>\n",
              "    <tr>\n",
              "      <th>...</th>\n",
              "      <td>...</td>\n",
              "      <td>...</td>\n",
              "      <td>...</td>\n",
              "      <td>...</td>\n",
              "      <td>...</td>\n",
              "      <td>...</td>\n",
              "      <td>...</td>\n",
              "    </tr>\n",
              "    <tr>\n",
              "      <th>221</th>\n",
              "      <td>2015-08-17 18:50:00</td>\n",
              "      <td>0.803030</td>\n",
              "      <td>51</td>\n",
              "      <td>93.973684</td>\n",
              "      <td>143.010526</td>\n",
              "      <td>2015-08-17</td>\n",
              "      <td>18:50:00</td>\n",
              "    </tr>\n",
              "    <tr>\n",
              "      <th>222</th>\n",
              "      <td>2015-08-17 18:51:00</td>\n",
              "      <td>0.681818</td>\n",
              "      <td>64</td>\n",
              "      <td>93.973684</td>\n",
              "      <td>143.010526</td>\n",
              "      <td>2015-08-17</td>\n",
              "      <td>18:51:00</td>\n",
              "    </tr>\n",
              "    <tr>\n",
              "      <th>223</th>\n",
              "      <td>2015-08-17 18:52:00</td>\n",
              "      <td>0.515152</td>\n",
              "      <td>64</td>\n",
              "      <td>93.973684</td>\n",
              "      <td>143.010526</td>\n",
              "      <td>2015-08-17</td>\n",
              "      <td>18:52:00</td>\n",
              "    </tr>\n",
              "    <tr>\n",
              "      <th>224</th>\n",
              "      <td>2015-08-17 18:53:00</td>\n",
              "      <td>0.515152</td>\n",
              "      <td>55</td>\n",
              "      <td>93.973684</td>\n",
              "      <td>143.010526</td>\n",
              "      <td>2015-08-17</td>\n",
              "      <td>18:53:00</td>\n",
              "    </tr>\n",
              "    <tr>\n",
              "      <th>225</th>\n",
              "      <td>2015-08-17 18:54:00</td>\n",
              "      <td>0.484848</td>\n",
              "      <td>54</td>\n",
              "      <td>93.973684</td>\n",
              "      <td>143.010526</td>\n",
              "      <td>2015-08-17</td>\n",
              "      <td>18:54:00</td>\n",
              "    </tr>\n",
              "  </tbody>\n",
              "</table>\n",
              "<p>218 rows × 7 columns</p>\n",
              "</div>\n",
              "      <button class=\"colab-df-convert\" onclick=\"convertToInteractive('df-efd6863a-b84c-41f6-9409-723819b66107')\"\n",
              "              title=\"Convert this dataframe to an interactive table.\"\n",
              "              style=\"display:none;\">\n",
              "        \n",
              "  <svg xmlns=\"http://www.w3.org/2000/svg\" height=\"24px\"viewBox=\"0 0 24 24\"\n",
              "       width=\"24px\">\n",
              "    <path d=\"M0 0h24v24H0V0z\" fill=\"none\"/>\n",
              "    <path d=\"M18.56 5.44l.94 2.06.94-2.06 2.06-.94-2.06-.94-.94-2.06-.94 2.06-2.06.94zm-11 1L8.5 8.5l.94-2.06 2.06-.94-2.06-.94L8.5 2.5l-.94 2.06-2.06.94zm10 10l.94 2.06.94-2.06 2.06-.94-2.06-.94-.94-2.06-.94 2.06-2.06.94z\"/><path d=\"M17.41 7.96l-1.37-1.37c-.4-.4-.92-.59-1.43-.59-.52 0-1.04.2-1.43.59L10.3 9.45l-7.72 7.72c-.78.78-.78 2.05 0 2.83L4 21.41c.39.39.9.59 1.41.59.51 0 1.02-.2 1.41-.59l7.78-7.78 2.81-2.81c.8-.78.8-2.07 0-2.86zM5.41 20L4 18.59l7.72-7.72 1.47 1.35L5.41 20z\"/>\n",
              "  </svg>\n",
              "      </button>\n",
              "      \n",
              "  <style>\n",
              "    .colab-df-container {\n",
              "      display:flex;\n",
              "      flex-wrap:wrap;\n",
              "      gap: 12px;\n",
              "    }\n",
              "\n",
              "    .colab-df-convert {\n",
              "      background-color: #E8F0FE;\n",
              "      border: none;\n",
              "      border-radius: 50%;\n",
              "      cursor: pointer;\n",
              "      display: none;\n",
              "      fill: #1967D2;\n",
              "      height: 32px;\n",
              "      padding: 0 0 0 0;\n",
              "      width: 32px;\n",
              "    }\n",
              "\n",
              "    .colab-df-convert:hover {\n",
              "      background-color: #E2EBFA;\n",
              "      box-shadow: 0px 1px 2px rgba(60, 64, 67, 0.3), 0px 1px 3px 1px rgba(60, 64, 67, 0.15);\n",
              "      fill: #174EA6;\n",
              "    }\n",
              "\n",
              "    [theme=dark] .colab-df-convert {\n",
              "      background-color: #3B4455;\n",
              "      fill: #D2E3FC;\n",
              "    }\n",
              "\n",
              "    [theme=dark] .colab-df-convert:hover {\n",
              "      background-color: #434B5C;\n",
              "      box-shadow: 0px 1px 3px 1px rgba(0, 0, 0, 0.15);\n",
              "      filter: drop-shadow(0px 1px 2px rgba(0, 0, 0, 0.3));\n",
              "      fill: #FFFFFF;\n",
              "    }\n",
              "  </style>\n",
              "\n",
              "      <script>\n",
              "        const buttonEl =\n",
              "          document.querySelector('#df-efd6863a-b84c-41f6-9409-723819b66107 button.colab-df-convert');\n",
              "        buttonEl.style.display =\n",
              "          google.colab.kernel.accessAllowed ? 'block' : 'none';\n",
              "\n",
              "        async function convertToInteractive(key) {\n",
              "          const element = document.querySelector('#df-efd6863a-b84c-41f6-9409-723819b66107');\n",
              "          const dataTable =\n",
              "            await google.colab.kernel.invokeFunction('convertToInteractive',\n",
              "                                                     [key], {});\n",
              "          if (!dataTable) return;\n",
              "\n",
              "          const docLinkHtml = 'Like what you see? Visit the ' +\n",
              "            '<a target=\"_blank\" href=https://colab.research.google.com/notebooks/data_table.ipynb>data table notebook</a>'\n",
              "            + ' to learn more about interactive tables.';\n",
              "          element.innerHTML = '';\n",
              "          dataTable['output_type'] = 'display_data';\n",
              "          await google.colab.output.renderOutput(dataTable, element);\n",
              "          const docLink = document.createElement('div');\n",
              "          docLink.innerHTML = docLinkHtml;\n",
              "          element.appendChild(docLink);\n",
              "        }\n",
              "      </script>\n",
              "    </div>\n",
              "  </div>\n",
              "  "
            ]
          },
          "metadata": {},
          "execution_count": 53
        }
      ]
    },
    {
      "cell_type": "code",
      "source": [
        "df1 = df1.drop('Timestamp (GMT)', axis=1)\n",
        "\n"
      ],
      "metadata": {
        "id": "vgRy9Sytvs35"
      },
      "execution_count": 54,
      "outputs": []
    },
    {
      "cell_type": "code",
      "source": [
        "df1"
      ],
      "metadata": {
        "colab": {
          "base_uri": "https://localhost:8080/",
          "height": 423
        },
        "id": "fuHPfqsuwO_M",
        "outputId": "3c34b06e-bd87-4139-d6b3-b9455e607abf"
      },
      "execution_count": 55,
      "outputs": [
        {
          "output_type": "execute_result",
          "data": {
            "text/plain": [
              "     Lifetouch Heart Rate  Lifetouch Respiration Rate  Oximeter SpO2  \\\n",
              "0                0.500000                          41      92.000000   \n",
              "1                0.575758                          40      92.000000   \n",
              "2                0.515152                          42      89.000000   \n",
              "3                0.484848                          45      93.000000   \n",
              "4                0.409091                          42      94.000000   \n",
              "..                    ...                         ...            ...   \n",
              "221              0.803030                          51      93.973684   \n",
              "222              0.681818                          64      93.973684   \n",
              "223              0.515152                          64      93.973684   \n",
              "224              0.515152                          55      93.973684   \n",
              "225              0.484848                          54      93.973684   \n",
              "\n",
              "     Oximeter Pulse        Date      Time  \n",
              "0        140.000000  2015-08-17  15:09:00  \n",
              "1        140.000000  2015-08-17  15:10:00  \n",
              "2        144.000000  2015-08-17  15:11:00  \n",
              "3        141.000000  2015-08-17  15:12:00  \n",
              "4        134.000000  2015-08-17  15:13:00  \n",
              "..              ...         ...       ...  \n",
              "221      143.010526  2015-08-17  18:50:00  \n",
              "222      143.010526  2015-08-17  18:51:00  \n",
              "223      143.010526  2015-08-17  18:52:00  \n",
              "224      143.010526  2015-08-17  18:53:00  \n",
              "225      143.010526  2015-08-17  18:54:00  \n",
              "\n",
              "[218 rows x 6 columns]"
            ],
            "text/html": [
              "\n",
              "  <div id=\"df-b2b2ef59-2335-4b38-9864-527e4edf0c20\">\n",
              "    <div class=\"colab-df-container\">\n",
              "      <div>\n",
              "<style scoped>\n",
              "    .dataframe tbody tr th:only-of-type {\n",
              "        vertical-align: middle;\n",
              "    }\n",
              "\n",
              "    .dataframe tbody tr th {\n",
              "        vertical-align: top;\n",
              "    }\n",
              "\n",
              "    .dataframe thead th {\n",
              "        text-align: right;\n",
              "    }\n",
              "</style>\n",
              "<table border=\"1\" class=\"dataframe\">\n",
              "  <thead>\n",
              "    <tr style=\"text-align: right;\">\n",
              "      <th></th>\n",
              "      <th>Lifetouch Heart Rate</th>\n",
              "      <th>Lifetouch Respiration Rate</th>\n",
              "      <th>Oximeter SpO2</th>\n",
              "      <th>Oximeter Pulse</th>\n",
              "      <th>Date</th>\n",
              "      <th>Time</th>\n",
              "    </tr>\n",
              "  </thead>\n",
              "  <tbody>\n",
              "    <tr>\n",
              "      <th>0</th>\n",
              "      <td>0.500000</td>\n",
              "      <td>41</td>\n",
              "      <td>92.000000</td>\n",
              "      <td>140.000000</td>\n",
              "      <td>2015-08-17</td>\n",
              "      <td>15:09:00</td>\n",
              "    </tr>\n",
              "    <tr>\n",
              "      <th>1</th>\n",
              "      <td>0.575758</td>\n",
              "      <td>40</td>\n",
              "      <td>92.000000</td>\n",
              "      <td>140.000000</td>\n",
              "      <td>2015-08-17</td>\n",
              "      <td>15:10:00</td>\n",
              "    </tr>\n",
              "    <tr>\n",
              "      <th>2</th>\n",
              "      <td>0.515152</td>\n",
              "      <td>42</td>\n",
              "      <td>89.000000</td>\n",
              "      <td>144.000000</td>\n",
              "      <td>2015-08-17</td>\n",
              "      <td>15:11:00</td>\n",
              "    </tr>\n",
              "    <tr>\n",
              "      <th>3</th>\n",
              "      <td>0.484848</td>\n",
              "      <td>45</td>\n",
              "      <td>93.000000</td>\n",
              "      <td>141.000000</td>\n",
              "      <td>2015-08-17</td>\n",
              "      <td>15:12:00</td>\n",
              "    </tr>\n",
              "    <tr>\n",
              "      <th>4</th>\n",
              "      <td>0.409091</td>\n",
              "      <td>42</td>\n",
              "      <td>94.000000</td>\n",
              "      <td>134.000000</td>\n",
              "      <td>2015-08-17</td>\n",
              "      <td>15:13:00</td>\n",
              "    </tr>\n",
              "    <tr>\n",
              "      <th>...</th>\n",
              "      <td>...</td>\n",
              "      <td>...</td>\n",
              "      <td>...</td>\n",
              "      <td>...</td>\n",
              "      <td>...</td>\n",
              "      <td>...</td>\n",
              "    </tr>\n",
              "    <tr>\n",
              "      <th>221</th>\n",
              "      <td>0.803030</td>\n",
              "      <td>51</td>\n",
              "      <td>93.973684</td>\n",
              "      <td>143.010526</td>\n",
              "      <td>2015-08-17</td>\n",
              "      <td>18:50:00</td>\n",
              "    </tr>\n",
              "    <tr>\n",
              "      <th>222</th>\n",
              "      <td>0.681818</td>\n",
              "      <td>64</td>\n",
              "      <td>93.973684</td>\n",
              "      <td>143.010526</td>\n",
              "      <td>2015-08-17</td>\n",
              "      <td>18:51:00</td>\n",
              "    </tr>\n",
              "    <tr>\n",
              "      <th>223</th>\n",
              "      <td>0.515152</td>\n",
              "      <td>64</td>\n",
              "      <td>93.973684</td>\n",
              "      <td>143.010526</td>\n",
              "      <td>2015-08-17</td>\n",
              "      <td>18:52:00</td>\n",
              "    </tr>\n",
              "    <tr>\n",
              "      <th>224</th>\n",
              "      <td>0.515152</td>\n",
              "      <td>55</td>\n",
              "      <td>93.973684</td>\n",
              "      <td>143.010526</td>\n",
              "      <td>2015-08-17</td>\n",
              "      <td>18:53:00</td>\n",
              "    </tr>\n",
              "    <tr>\n",
              "      <th>225</th>\n",
              "      <td>0.484848</td>\n",
              "      <td>54</td>\n",
              "      <td>93.973684</td>\n",
              "      <td>143.010526</td>\n",
              "      <td>2015-08-17</td>\n",
              "      <td>18:54:00</td>\n",
              "    </tr>\n",
              "  </tbody>\n",
              "</table>\n",
              "<p>218 rows × 6 columns</p>\n",
              "</div>\n",
              "      <button class=\"colab-df-convert\" onclick=\"convertToInteractive('df-b2b2ef59-2335-4b38-9864-527e4edf0c20')\"\n",
              "              title=\"Convert this dataframe to an interactive table.\"\n",
              "              style=\"display:none;\">\n",
              "        \n",
              "  <svg xmlns=\"http://www.w3.org/2000/svg\" height=\"24px\"viewBox=\"0 0 24 24\"\n",
              "       width=\"24px\">\n",
              "    <path d=\"M0 0h24v24H0V0z\" fill=\"none\"/>\n",
              "    <path d=\"M18.56 5.44l.94 2.06.94-2.06 2.06-.94-2.06-.94-.94-2.06-.94 2.06-2.06.94zm-11 1L8.5 8.5l.94-2.06 2.06-.94-2.06-.94L8.5 2.5l-.94 2.06-2.06.94zm10 10l.94 2.06.94-2.06 2.06-.94-2.06-.94-.94-2.06-.94 2.06-2.06.94z\"/><path d=\"M17.41 7.96l-1.37-1.37c-.4-.4-.92-.59-1.43-.59-.52 0-1.04.2-1.43.59L10.3 9.45l-7.72 7.72c-.78.78-.78 2.05 0 2.83L4 21.41c.39.39.9.59 1.41.59.51 0 1.02-.2 1.41-.59l7.78-7.78 2.81-2.81c.8-.78.8-2.07 0-2.86zM5.41 20L4 18.59l7.72-7.72 1.47 1.35L5.41 20z\"/>\n",
              "  </svg>\n",
              "      </button>\n",
              "      \n",
              "  <style>\n",
              "    .colab-df-container {\n",
              "      display:flex;\n",
              "      flex-wrap:wrap;\n",
              "      gap: 12px;\n",
              "    }\n",
              "\n",
              "    .colab-df-convert {\n",
              "      background-color: #E8F0FE;\n",
              "      border: none;\n",
              "      border-radius: 50%;\n",
              "      cursor: pointer;\n",
              "      display: none;\n",
              "      fill: #1967D2;\n",
              "      height: 32px;\n",
              "      padding: 0 0 0 0;\n",
              "      width: 32px;\n",
              "    }\n",
              "\n",
              "    .colab-df-convert:hover {\n",
              "      background-color: #E2EBFA;\n",
              "      box-shadow: 0px 1px 2px rgba(60, 64, 67, 0.3), 0px 1px 3px 1px rgba(60, 64, 67, 0.15);\n",
              "      fill: #174EA6;\n",
              "    }\n",
              "\n",
              "    [theme=dark] .colab-df-convert {\n",
              "      background-color: #3B4455;\n",
              "      fill: #D2E3FC;\n",
              "    }\n",
              "\n",
              "    [theme=dark] .colab-df-convert:hover {\n",
              "      background-color: #434B5C;\n",
              "      box-shadow: 0px 1px 3px 1px rgba(0, 0, 0, 0.15);\n",
              "      filter: drop-shadow(0px 1px 2px rgba(0, 0, 0, 0.3));\n",
              "      fill: #FFFFFF;\n",
              "    }\n",
              "  </style>\n",
              "\n",
              "      <script>\n",
              "        const buttonEl =\n",
              "          document.querySelector('#df-b2b2ef59-2335-4b38-9864-527e4edf0c20 button.colab-df-convert');\n",
              "        buttonEl.style.display =\n",
              "          google.colab.kernel.accessAllowed ? 'block' : 'none';\n",
              "\n",
              "        async function convertToInteractive(key) {\n",
              "          const element = document.querySelector('#df-b2b2ef59-2335-4b38-9864-527e4edf0c20');\n",
              "          const dataTable =\n",
              "            await google.colab.kernel.invokeFunction('convertToInteractive',\n",
              "                                                     [key], {});\n",
              "          if (!dataTable) return;\n",
              "\n",
              "          const docLinkHtml = 'Like what you see? Visit the ' +\n",
              "            '<a target=\"_blank\" href=https://colab.research.google.com/notebooks/data_table.ipynb>data table notebook</a>'\n",
              "            + ' to learn more about interactive tables.';\n",
              "          element.innerHTML = '';\n",
              "          dataTable['output_type'] = 'display_data';\n",
              "          await google.colab.output.renderOutput(dataTable, element);\n",
              "          const docLink = document.createElement('div');\n",
              "          docLink.innerHTML = docLinkHtml;\n",
              "          element.appendChild(docLink);\n",
              "        }\n",
              "      </script>\n",
              "    </div>\n",
              "  </div>\n",
              "  "
            ]
          },
          "metadata": {},
          "execution_count": 55
        }
      ]
    },
    {
      "cell_type": "code",
      "source": [
        "df1.shape"
      ],
      "metadata": {
        "id": "uZKcJzN4wS3o",
        "colab": {
          "base_uri": "https://localhost:8080/"
        },
        "outputId": "bf92f1c6-85c1-4781-a2de-90751a4ce5b9"
      },
      "execution_count": 56,
      "outputs": [
        {
          "output_type": "execute_result",
          "data": {
            "text/plain": [
              "(218, 6)"
            ]
          },
          "metadata": {},
          "execution_count": 56
        }
      ]
    },
    {
      "cell_type": "code",
      "source": [],
      "metadata": {
        "id": "1r3iSSvdSYfP"
      },
      "execution_count": 56,
      "outputs": []
    },
    {
      "cell_type": "code",
      "source": [
        "#Splitting the dataset\n",
        "from sklearn.model_selection import train_test_split\n",
        "\n",
        "# Split the dataset into a training set and a testing set\n",
        "train_df1, test_df1 = train_test_split(df1, test_size=0.2)"
      ],
      "metadata": {
        "id": "_Q5_lOdlwU9_"
      },
      "execution_count": 60,
      "outputs": []
    },
    {
      "cell_type": "code",
      "source": [
        "from pmdarima import auto_arima\n",
        "\n",
        "\n",
        "\n",
        "# Fit an ARIMA model to the dataset\n",
        "model = auto_arima(df1['Lifetouch Heart Rate'], seasonal=True, suppress_warnings=True, stepwise=True)\n",
        "\n",
        "# Print the optimal order of p, d, q\n",
        "print(model.order)"
      ],
      "metadata": {
        "colab": {
          "base_uri": "https://localhost:8080/"
        },
        "id": "IlsbXIXuSqoq",
        "outputId": "84d22482-4d92-4ed3-97e3-2c0d33f73143"
      },
      "execution_count": 59,
      "outputs": [
        {
          "output_type": "stream",
          "name": "stdout",
          "text": [
            "(0, 1, 1)\n"
          ]
        }
      ]
    },
    {
      "cell_type": "code",
      "source": [
        "# Import the necessary libraries\n",
        "from statsmodels.tsa.arima.model import ARIMA\n",
        "\n",
        "\n",
        "\n",
        "\n",
        "\n",
        "\n",
        "# Fit the ARIMA model to your data\n",
        "model = ARIMA(train_df1['Lifetouch Heart Rate'].values, order=(0,1,1))\n",
        "model_fit = model.fit()\n"
      ],
      "metadata": {
        "id": "gbF99mN7xJwm"
      },
      "execution_count": 69,
      "outputs": []
    },
    {
      "cell_type": "code",
      "source": [
        "model_fit"
      ],
      "metadata": {
        "id": "q1zqgIbrxZL-",
        "colab": {
          "base_uri": "https://localhost:8080/"
        },
        "outputId": "058d44f9-5ef5-4980-e38b-6d7ad9680c80"
      },
      "execution_count": 70,
      "outputs": [
        {
          "output_type": "execute_result",
          "data": {
            "text/plain": [
              "<statsmodels.tsa.arima.model.ARIMAResultsWrapper at 0x7f79a56ce550>"
            ]
          },
          "metadata": {},
          "execution_count": 70
        }
      ]
    },
    {
      "cell_type": "code",
      "source": [
        "predictions = model_fit.predict(start=len(train_df1), end=len(train_df1) + 19)\n"
      ],
      "metadata": {
        "id": "4SQyHm4yT7mX"
      },
      "execution_count": 71,
      "outputs": []
    },
    {
      "cell_type": "code",
      "source": [
        "predictions"
      ],
      "metadata": {
        "colab": {
          "base_uri": "https://localhost:8080/"
        },
        "id": "lKv3CNsjVaIX",
        "outputId": "b059f2fe-64b2-4a28-e304-d6fe9aa0b206"
      },
      "execution_count": 72,
      "outputs": [
        {
          "output_type": "execute_result",
          "data": {
            "text/plain": [
              "array([0.60153257, 0.60153257, 0.60153257, 0.60153257, 0.60153257,\n",
              "       0.60153257, 0.60153257, 0.60153257, 0.60153257, 0.60153257,\n",
              "       0.60153257, 0.60153257, 0.60153257, 0.60153257, 0.60153257,\n",
              "       0.60153257, 0.60153257, 0.60153257, 0.60153257, 0.60153257])"
            ]
          },
          "metadata": {},
          "execution_count": 72
        }
      ]
    },
    {
      "cell_type": "code",
      "source": [
        "# Plot the actual vs predicted values\n",
        "plt.plot(test_df1['Lifetouch Heart Rate'][:20], label='actual')\n",
        "plt.plot(predictions, label='predicted')\n",
        "plt.legend()\n",
        "plt.show()"
      ],
      "metadata": {
        "colab": {
          "base_uri": "https://localhost:8080/",
          "height": 265
        },
        "id": "rO-9FM7NWY00",
        "outputId": "9212ce99-dfd7-442d-805b-cb9d4d26b4c0"
      },
      "execution_count": 78,
      "outputs": [
        {
          "output_type": "display_data",
          "data": {
            "text/plain": [
              "<Figure size 432x288 with 1 Axes>"
            ],
            "image/png": "[encoded data removed]"
          },
          "metadata": {
            "needs_background": "light"
          }
        }
      ]
    },
    {
      "cell_type": "code",
      "source": [],
      "metadata": {
        "colab": {
          "base_uri": "https://localhost:8080/",
          "height": 287
        },
        "id": "Cw1l6FTuVbmL",
        "outputId": "111ad07e-eae3-4460-8c3b-0184e2e03fbd"
      },
      "execution_count": 75,
      "outputs": [
        {
          "output_type": "error",
          "ename": "AttributeError",
          "evalue": "ignored",
          "traceback": [
            "\u001b[0;31m---------------------------------------------------------------------------\u001b[0m",
            "\u001b[0;31mAttributeError\u001b[0m                            Traceback (most recent call last)",
            "\u001b[0;32m<ipython-input-75-59f5f2f28c18>\u001b[0m in \u001b[0;36m<module>\u001b[0;34m\u001b[0m\n\u001b[0;32m----> 1\u001b[0;31m \u001b[0mpredictions\u001b[0m\u001b[0;34m=\u001b[0m\u001b[0mpd\u001b[0m\u001b[0;34m.\u001b[0m\u001b[0mpredictions\u001b[0m\u001b[0;34m(\u001b[0m\u001b[0;34m)\u001b[0m\u001b[0;34m\u001b[0m\u001b[0;34m\u001b[0m\u001b[0m\n\u001b[0m",
            "\u001b[0;32m/usr/local/lib/python3.8/dist-packages/pandas/__init__.py\u001b[0m in \u001b[0;36m__getattr__\u001b[0;34m(name)\u001b[0m\n\u001b[1;32m    242\u001b[0m         \u001b[0;32mreturn\u001b[0m \u001b[0m_SparseArray\u001b[0m\u001b[0;34m\u001b[0m\u001b[0;34m\u001b[0m\u001b[0m\n\u001b[1;32m    243\u001b[0m \u001b[0;34m\u001b[0m\u001b[0m\n\u001b[0;32m--> 244\u001b[0;31m     \u001b[0;32mraise\u001b[0m \u001b[0mAttributeError\u001b[0m\u001b[0;34m(\u001b[0m\u001b[0;34mf\"module 'pandas' has no attribute '{name}'\"\u001b[0m\u001b[0;34m)\u001b[0m\u001b[0;34m\u001b[0m\u001b[0;34m\u001b[0m\u001b[0m\n\u001b[0m\u001b[1;32m    245\u001b[0m \u001b[0;34m\u001b[0m\u001b[0m\n\u001b[1;32m    246\u001b[0m \u001b[0;34m\u001b[0m\u001b[0m\n",
            "\u001b[0;31mAttributeError\u001b[0m: module 'pandas' has no attribute 'predictions'"
          ]
        }
      ]
    },
    {
      "cell_type": "code",
      "source": [],
      "metadata": {
        "id": "gSbj83wmV2z5"
      },
      "execution_count": null,
      "outputs": []
    }
  ]
}