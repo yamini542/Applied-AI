{
  "nbformat": 4,
  "nbformat_minor": 0,
  "metadata": {
    "colab": {
      "provenance": [],
      "authorship_tag": "ABX9TyP1QZ2dN8sCXsgqtT5Tg7+y",
      "include_colab_link": true
    },
    "kernelspec": {
      "name": "python3",
      "display_name": "Python 3"
    },
    "language_info": {
      "name": "python"
    }
  },
  "cells": [
    {
      "cell_type": "markdown",
      "metadata": {
        "id": "view-in-github",
        "colab_type": "text"
      },
      "source": [
        "<a href=\"https://colab.research.google.com/github/yamini542/Applied-AI/blob/main/AI_Time_series_Exercise1.ipynb\" target=\"_parent\"><img src=\"https://colab.research.google.com/assets/colab-badge.svg\" alt=\"Open In Colab\"/></a>"
      ]
    },
    {
      "cell_type": "markdown",
      "source": [
        "#Exercise:\n",
        "Build an appropriate ARMA model to predict the number of international airline passengers during the months in the first quarter of 1961 using the dataset international-airline-passengers.csv\n",
        "\n"
      ],
      "metadata": {
        "id": "y1_58BvvRO8p"
      }
    },
    {
      "cell_type": "code",
      "source": [
        "#import necessary libraries\n",
        "import statsmodels.api as sm \n",
        "import numpy as np\n",
        "import pandas as pd\n",
        "import matplotlib.pyplot as plt\n",
        "import matplotlib.ticker as ticker \n",
        "import statsmodels.api as sm\n",
        "import itertools\n",
        "from sklearn.metrics import mean_squared_error\n",
        "from statsmodels.tsa.api import ExponentialSmoothing, SimpleExpSmoothing, Holt\n",
        "from scipy.spatial.distance import cdist\n"
      ],
      "metadata": {
        "id": "WpueTLacRRNj"
      },
      "execution_count": 1,
      "outputs": []
    },
    {
      "cell_type": "code",
      "source": [
        "#loading the data set from the github\n",
        "\n",
        "df= pd.read_csv('https://raw.githubusercontent.com/HHansi/Applied-AI-Course/main/Time%20Series%20Analysis/data/international-airline-passengers.csv')\n"
      ],
      "metadata": {
        "id": "mFnOAaXdR6tP"
      },
      "execution_count": 5,
      "outputs": []
    },
    {
      "cell_type": "code",
      "source": [
        "df.head"
      ],
      "metadata": {
        "colab": {
          "base_uri": "https://localhost:8080/"
        },
        "id": "caHCzIzAR8S2",
        "outputId": "cf3098a2-ab97-448f-9d65-2f393310d25c"
      },
      "execution_count": 6,
      "outputs": [
        {
          "output_type": "execute_result",
          "data": {
            "text/plain": [
              "<bound method NDFrame.head of        Month  \\\n",
              "0    1949-01   \n",
              "1    1949-02   \n",
              "2    1949-03   \n",
              "3    1949-04   \n",
              "4    1949-05   \n",
              "..       ...   \n",
              "139  1960-08   \n",
              "140  1960-09   \n",
              "141  1960-10   \n",
              "142  1960-11   \n",
              "143  1960-12   \n",
              "\n",
              "     International airline passengers: monthly totals in thousands. Jan 49 ? Dec 60  \n",
              "0                                                  112                               \n",
              "1                                                  118                               \n",
              "2                                                  132                               \n",
              "3                                                  129                               \n",
              "4                                                  121                               \n",
              "..                                                 ...                               \n",
              "139                                                606                               \n",
              "140                                                508                               \n",
              "141                                                461                               \n",
              "142                                                390                               \n",
              "143                                                432                               \n",
              "\n",
              "[144 rows x 2 columns]>"
            ]
          },
          "metadata": {},
          "execution_count": 6
        }
      ]
    },
    {
      "cell_type": "code",
      "source": [
        "df.info()"
      ],
      "metadata": {
        "colab": {
          "base_uri": "https://localhost:8080/"
        },
        "id": "mG8lkfqeSEwK",
        "outputId": "07a3de74-95de-4005-96f0-ab4cde4fa4f5"
      },
      "execution_count": 7,
      "outputs": [
        {
          "output_type": "stream",
          "name": "stdout",
          "text": [
            "<class 'pandas.core.frame.DataFrame'>\n",
            "RangeIndex: 144 entries, 0 to 143\n",
            "Data columns (total 2 columns):\n",
            " #   Column                                                                          Non-Null Count  Dtype \n",
            "---  ------                                                                          --------------  ----- \n",
            " 0   Month                                                                           144 non-null    object\n",
            " 1   International airline passengers: monthly totals in thousands. Jan 49 ? Dec 60  144 non-null    int64 \n",
            "dtypes: int64(1), object(1)\n",
            "memory usage: 2.4+ KB\n"
          ]
        }
      ]
    },
    {
      "cell_type": "code",
      "source": [
        "#rename the columns\n",
        "df=df.rename(columns={\"International airline passengers: monthly totals in thousands. Jan 49 ? Dec 60\":\"Sales\"})"
      ],
      "metadata": {
        "id": "Q4BU24RSSFtW"
      },
      "execution_count": 8,
      "outputs": []
    },
    {
      "cell_type": "code",
      "source": [
        "# Convert the month column to a datetime object\n",
        "df['Month'] = pd.to_datetime(df['Month'])\n",
        "\n",
        "# Set the month column as the index\n",
        "df.set_index('Month', inplace=True)"
      ],
      "metadata": {
        "id": "3Q_EF4kFSUaP"
      },
      "execution_count": 9,
      "outputs": []
    },
    {
      "cell_type": "code",
      "source": [
        "df"
      ],
      "metadata": {
        "colab": {
          "base_uri": "https://localhost:8080/",
          "height": 455
        },
        "id": "3X2xqPlaZ_Ug",
        "outputId": "61cfcc52-81eb-4a2b-d21c-527dd604f9af"
      },
      "execution_count": 10,
      "outputs": [
        {
          "output_type": "execute_result",
          "data": {
            "text/plain": [
              "            Sales\n",
              "Month            \n",
              "1949-01-01    112\n",
              "1949-02-01    118\n",
              "1949-03-01    132\n",
              "1949-04-01    129\n",
              "1949-05-01    121\n",
              "...           ...\n",
              "1960-08-01    606\n",
              "1960-09-01    508\n",
              "1960-10-01    461\n",
              "1960-11-01    390\n",
              "1960-12-01    432\n",
              "\n",
              "[144 rows x 1 columns]"
            ],
            "text/html": [
              "\n",
              "  <div id=\"df-e3f0fb23-acd2-43a1-91c6-969705792e25\">\n",
              "    <div class=\"colab-df-container\">\n",
              "      <div>\n",
              "<style scoped>\n",
              "    .dataframe tbody tr th:only-of-type {\n",
              "        vertical-align: middle;\n",
              "    }\n",
              "\n",
              "    .dataframe tbody tr th {\n",
              "        vertical-align: top;\n",
              "    }\n",
              "\n",
              "    .dataframe thead th {\n",
              "        text-align: right;\n",
              "    }\n",
              "</style>\n",
              "<table border=\"1\" class=\"dataframe\">\n",
              "  <thead>\n",
              "    <tr style=\"text-align: right;\">\n",
              "      <th></th>\n",
              "      <th>Sales</th>\n",
              "    </tr>\n",
              "    <tr>\n",
              "      <th>Month</th>\n",
              "      <th></th>\n",
              "    </tr>\n",
              "  </thead>\n",
              "  <tbody>\n",
              "    <tr>\n",
              "      <th>1949-01-01</th>\n",
              "      <td>112</td>\n",
              "    </tr>\n",
              "    <tr>\n",
              "      <th>1949-02-01</th>\n",
              "      <td>118</td>\n",
              "    </tr>\n",
              "    <tr>\n",
              "      <th>1949-03-01</th>\n",
              "      <td>132</td>\n",
              "    </tr>\n",
              "    <tr>\n",
              "      <th>1949-04-01</th>\n",
              "      <td>129</td>\n",
              "    </tr>\n",
              "    <tr>\n",
              "      <th>1949-05-01</th>\n",
              "      <td>121</td>\n",
              "    </tr>\n",
              "    <tr>\n",
              "      <th>...</th>\n",
              "      <td>...</td>\n",
              "    </tr>\n",
              "    <tr>\n",
              "      <th>1960-08-01</th>\n",
              "      <td>606</td>\n",
              "    </tr>\n",
              "    <tr>\n",
              "      <th>1960-09-01</th>\n",
              "      <td>508</td>\n",
              "    </tr>\n",
              "    <tr>\n",
              "      <th>1960-10-01</th>\n",
              "      <td>461</td>\n",
              "    </tr>\n",
              "    <tr>\n",
              "      <th>1960-11-01</th>\n",
              "      <td>390</td>\n",
              "    </tr>\n",
              "    <tr>\n",
              "      <th>1960-12-01</th>\n",
              "      <td>432</td>\n",
              "    </tr>\n",
              "  </tbody>\n",
              "</table>\n",
              "<p>144 rows × 1 columns</p>\n",
              "</div>\n",
              "      <button class=\"colab-df-convert\" onclick=\"convertToInteractive('df-e3f0fb23-acd2-43a1-91c6-969705792e25')\"\n",
              "              title=\"Convert this dataframe to an interactive table.\"\n",
              "              style=\"display:none;\">\n",
              "        \n",
              "  <svg xmlns=\"http://www.w3.org/2000/svg\" height=\"24px\"viewBox=\"0 0 24 24\"\n",
              "       width=\"24px\">\n",
              "    <path d=\"M0 0h24v24H0V0z\" fill=\"none\"/>\n",
              "    <path d=\"M18.56 5.44l.94 2.06.94-2.06 2.06-.94-2.06-.94-.94-2.06-.94 2.06-2.06.94zm-11 1L8.5 8.5l.94-2.06 2.06-.94-2.06-.94L8.5 2.5l-.94 2.06-2.06.94zm10 10l.94 2.06.94-2.06 2.06-.94-2.06-.94-.94-2.06-.94 2.06-2.06.94z\"/><path d=\"M17.41 7.96l-1.37-1.37c-.4-.4-.92-.59-1.43-.59-.52 0-1.04.2-1.43.59L10.3 9.45l-7.72 7.72c-.78.78-.78 2.05 0 2.83L4 21.41c.39.39.9.59 1.41.59.51 0 1.02-.2 1.41-.59l7.78-7.78 2.81-2.81c.8-.78.8-2.07 0-2.86zM5.41 20L4 18.59l7.72-7.72 1.47 1.35L5.41 20z\"/>\n",
              "  </svg>\n",
              "      </button>\n",
              "      \n",
              "  <style>\n",
              "    .colab-df-container {\n",
              "      display:flex;\n",
              "      flex-wrap:wrap;\n",
              "      gap: 12px;\n",
              "    }\n",
              "\n",
              "    .colab-df-convert {\n",
              "      background-color: #E8F0FE;\n",
              "      border: none;\n",
              "      border-radius: 50%;\n",
              "      cursor: pointer;\n",
              "      display: none;\n",
              "      fill: #1967D2;\n",
              "      height: 32px;\n",
              "      padding: 0 0 0 0;\n",
              "      width: 32px;\n",
              "    }\n",
              "\n",
              "    .colab-df-convert:hover {\n",
              "      background-color: #E2EBFA;\n",
              "      box-shadow: 0px 1px 2px rgba(60, 64, 67, 0.3), 0px 1px 3px 1px rgba(60, 64, 67, 0.15);\n",
              "      fill: #174EA6;\n",
              "    }\n",
              "\n",
              "    [theme=dark] .colab-df-convert {\n",
              "      background-color: #3B4455;\n",
              "      fill: #D2E3FC;\n",
              "    }\n",
              "\n",
              "    [theme=dark] .colab-df-convert:hover {\n",
              "      background-color: #434B5C;\n",
              "      box-shadow: 0px 1px 3px 1px rgba(0, 0, 0, 0.15);\n",
              "      filter: drop-shadow(0px 1px 2px rgba(0, 0, 0, 0.3));\n",
              "      fill: #FFFFFF;\n",
              "    }\n",
              "  </style>\n",
              "\n",
              "      <script>\n",
              "        const buttonEl =\n",
              "          document.querySelector('#df-e3f0fb23-acd2-43a1-91c6-969705792e25 button.colab-df-convert');\n",
              "        buttonEl.style.display =\n",
              "          google.colab.kernel.accessAllowed ? 'block' : 'none';\n",
              "\n",
              "        async function convertToInteractive(key) {\n",
              "          const element = document.querySelector('#df-e3f0fb23-acd2-43a1-91c6-969705792e25');\n",
              "          const dataTable =\n",
              "            await google.colab.kernel.invokeFunction('convertToInteractive',\n",
              "                                                     [key], {});\n",
              "          if (!dataTable) return;\n",
              "\n",
              "          const docLinkHtml = 'Like what you see? Visit the ' +\n",
              "            '<a target=\"_blank\" href=https://colab.research.google.com/notebooks/data_table.ipynb>data table notebook</a>'\n",
              "            + ' to learn more about interactive tables.';\n",
              "          element.innerHTML = '';\n",
              "          dataTable['output_type'] = 'display_data';\n",
              "          await google.colab.output.renderOutput(dataTable, element);\n",
              "          const docLink = document.createElement('div');\n",
              "          docLink.innerHTML = docLinkHtml;\n",
              "          element.appendChild(docLink);\n",
              "        }\n",
              "      </script>\n",
              "    </div>\n",
              "  </div>\n",
              "  "
            ]
          },
          "metadata": {},
          "execution_count": 10
        }
      ]
    },
    {
      "cell_type": "markdown",
      "source": [
        "#checking for stationarity\n",
        "Stationarity is an important assumption for many time series forecasting models. A stationary time series has constant statistical properties over time, such as mean, variance, and autocovariance. \n",
        "If a time series is not stationary, its statistical properties change over time, making it difficult to model and predict future values. By checking for stationarity, you can identify trends, seasonality, and other patterns in the data that can be addressed through transformations, such as differencing or detrending, to make the time series stationary and suitable for forecasting."
      ],
      "metadata": {
        "id": "zltKLsb9amBs"
      }
    },
    {
      "cell_type": "code",
      "source": [
        "#kpss test for stationarity\n",
        "def check_stationarity(series):\n",
        "  statistics,p_value,n_lags,critical_values = sm.tsa.stattools.kpss(series)\n",
        "  print(f'p value:{p_value}')\n",
        "  print(f'Result: The series is {\"not \" if p_value < 0.05 else \"\"} stationary \\n')\n",
        "check_stationarity(df['Sales'])"
      ],
      "metadata": {
        "colab": {
          "base_uri": "https://localhost:8080/"
        },
        "id": "pijrM0q4avjF",
        "outputId": "f96876fa-00e0-41e1-9808-2bc9ed0fb3af"
      },
      "execution_count": 12,
      "outputs": [
        {
          "output_type": "stream",
          "name": "stdout",
          "text": [
            "p value:0.01\n",
            "Result: The series is not  stationary \n",
            "\n"
          ]
        },
        {
          "output_type": "stream",
          "name": "stderr",
          "text": [
            "/usr/local/lib/python3.8/dist-packages/statsmodels/tsa/stattools.py:1875: FutureWarning: The behavior of using nlags=None will change in release 0.13.Currently nlags=None is the same as nlags=\"legacy\", and so a sample-size lag length is used. After the next release, the default will change to be the same as nlags=\"auto\" which uses an automatic lag length selection method. To silence this warning, either use \"auto\" or \"legacy\"\n",
            "  warnings.warn(msg, FutureWarning)\n",
            "/usr/local/lib/python3.8/dist-packages/statsmodels/tsa/stattools.py:1906: InterpolationWarning: The test statistic is outside of the range of p-values available in the\n",
            "look-up table. The actual p-value is smaller than the p-value returned.\n",
            "\n",
            "  warnings.warn(\n"
          ]
        }
      ]
    },
    {
      "cell_type": "markdown",
      "source": [
        "There are several methods to check for stationarity in a time series:\n",
        "\n",
        "Plotting Rolling Statistics: Plotting the moving mean and moving standard deviation of the time series can help you identify stationarity. A stationary time series will have a constant mean and constant standard deviation over time.\n",
        "\n",
        "Dickey-Fuller Test: This is a statistical test that checks for stationarity in a time series. The null hypothesis of the test is that the time series is non-stationary. If the test statistic is less than the critical value, you can reject the null hypothesis and conclude that the time series is stationary.\n",
        "\n",
        "Augmented Dickey-Fuller Test: This is an extension of the Dickey-Fuller test that allows for the presence of autoregressive terms in the time series."
      ],
      "metadata": {
        "id": "NZL2qsu-bJI4"
      }
    },
    {
      "cell_type": "code",
      "source": [],
      "metadata": {
        "id": "ZThVAVe3a2Y2"
      },
      "execution_count": null,
      "outputs": []
    },
    {
      "cell_type": "markdown",
      "source": [
        "If the time series is not stationary, you can make it stationary by using various transformations, such as:\n",
        "\n",
        "Differencing: Subtracting the time series values from their previous values (first differences) or subtracting the first differences from each other (second differences) can make the time series stationary.\n",
        "\n",
        "Detrending: Removing a linear or non-linear trend from the time series can make it stationary.\n",
        "\n",
        "Seasonal Adjustment: Removing the seasonal component of the time series can make it stationary.\n",
        "\n",
        "Transformation: Taking the log, square root, or other transformations of the time series can make it stationary."
      ],
      "metadata": {
        "id": "6KoVOZwpbXc0"
      }
    },
    {
      "cell_type": "code",
      "source": [
        "import warnings\n",
        "warnings.filterwarnings(\"ignore\")"
      ],
      "metadata": {
        "id": "_Q60mK7HbYNR"
      },
      "execution_count": 13,
      "outputs": []
    },
    {
      "cell_type": "markdown",
      "source": [
        "The method for forecasting in time series depends on the characteristics of the data, such as stationarity, trend, seasonality, etc. Some popular methods for time series forecasting include:\n",
        "\n",
        "ARIMA (AutoRegressive Integrated Moving Average)\n",
        "Exponential Smoothing\n",
        "Holt-Winters Method\n",
        "SARIMA (Seasonal ARIMA)\n",
        "Prophet\n",
        "LSTM (Long Short-Term Memory)\n",
        "ARIMAX (AutoRegressive Integrated Moving Average with exogenous variables)\n",
        "\n",
        "The choice of method will depend on the specific requirements of your problem, and may involve exploring different methods and tuning the parameters to obtain the best results."
      ],
      "metadata": {
        "id": "4b6qs_JVb88M"
      }
    },
    {
      "cell_type": "code",
      "source": [
        "#here I have done forecasting with ARMA model\n",
        "# Import the necessary libraries\n",
        "from statsmodels.tsa.arima_model import ARMA\n",
        "\n",
        "\n",
        "# Split the data into training and testing sets\n",
        "train = df[:'1960-12-01']\n",
        "test = df['1961-01-01':]\n",
        "\n",
        "# Fit the ARMA model\n",
        "model = ARMA(train, order=(1,1))\n",
        "model_fit = model.fit()\n",
        "\n",
        "# Predict the next quarter of 1961\n",
        "predictions = model_fit.predict(start='1961-01-01', end='1961-03-01')"
      ],
      "metadata": {
        "id": "T5txKTkCbluD"
      },
      "execution_count": 20,
      "outputs": []
    },
    {
      "cell_type": "code",
      "source": [
        "predictions"
      ],
      "metadata": {
        "colab": {
          "base_uri": "https://localhost:8080/"
        },
        "id": "qxI5YbUCdX6C",
        "outputId": "a41a429c-9d12-4c58-f1a9-ebf93eb140a6"
      },
      "execution_count": 21,
      "outputs": [
        {
          "output_type": "execute_result",
          "data": {
            "text/plain": [
              "1961-01-01    453.899744\n",
              "1961-02-01    443.089597\n",
              "1961-03-01    432.957038\n",
              "Freq: MS, dtype: float64"
            ]
          },
          "metadata": {},
          "execution_count": 21
        }
      ]
    },
    {
      "cell_type": "code",
      "source": [
        "# Obtain the AIC and BIC\n",
        "print('AIC: ', model_fit.aic)\n",
        "print('BIC: ', model_fit.bic)"
      ],
      "metadata": {
        "colab": {
          "base_uri": "https://localhost:8080/"
        },
        "id": "yLfvU0MHhhtI",
        "outputId": "32e8c0b2-6c35-4b91-96c3-f2561b77217e"
      },
      "execution_count": 22,
      "outputs": [
        {
          "output_type": "stream",
          "name": "stdout",
          "text": [
            "AIC:  1409.7482700864462\n",
            "BIC:  1421.6275232847502\n"
          ]
        }
      ]
    },
    {
      "cell_type": "code",
      "source": [],
      "metadata": {
        "id": "lPKiYdhvhxiM"
      },
      "execution_count": null,
      "outputs": []
    }
  ]
}