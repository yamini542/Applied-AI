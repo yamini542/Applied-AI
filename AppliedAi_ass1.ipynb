{
  "nbformat": 4,
  "nbformat_minor": 0,
  "metadata": {
    "colab": {
      "provenance": [],
      "authorship_tag": "ABX9TyM54ScF9yMNaMXAWo4UHbq9",
      "include_colab_link": true
    },
    "kernelspec": {
      "name": "python3",
      "display_name": "Python 3"
    },
    "language_info": {
      "name": "python"
    }
  },
  "cells": [
    {
      "cell_type": "markdown",
      "metadata": {
        "id": "view-in-github",
        "colab_type": "text"
      },
      "source": [
        "<a href=\"https://colab.research.google.com/github/yamini542/Applied-AI/blob/main/AppliedAi_ass1.ipynb\" target=\"_parent\"><img src=\"https://colab.research.google.com/assets/colab-badge.svg\" alt=\"Open In Colab\"/></a>"
      ]
    },
    {
      "cell_type": "code",
      "execution_count": 2,
      "metadata": {
        "colab": {
          "base_uri": "https://localhost:8080/"
        },
        "id": "x53g_QytbOmi",
        "outputId": "afa8bfd5-95bf-4bf3-d562-eefc26fbd707"
      },
      "outputs": [
        {
          "output_type": "stream",
          "name": "stdout",
          "text": [
            "Looking in indexes: https://pypi.org/simple, https://us-python.pkg.dev/colab-wheels/public/simple/\n",
            "Collecting pmdarima\n",
            "  Downloading pmdarima-2.0.2-cp38-cp38-manylinux_2_17_x86_64.manylinux2014_x86_64.manylinux_2_28_x86_64.whl (1.9 MB)\n",
            "\u001b[2K     \u001b[90m━━━━━━━━━━━━━━━━━━━━━━━━━━━━━━━━━━━━━━━━\u001b[0m \u001b[32m1.9/1.9 MB\u001b[0m \u001b[31m22.4 MB/s\u001b[0m eta \u001b[36m0:00:00\u001b[0m\n",
            "\u001b[?25hRequirement already satisfied: numpy>=1.21.2 in /usr/local/lib/python3.8/dist-packages (from pmdarima) (1.21.6)\n",
            "Requirement already satisfied: pandas>=0.19 in /usr/local/lib/python3.8/dist-packages (from pmdarima) (1.3.5)\n",
            "Requirement already satisfied: urllib3 in /usr/local/lib/python3.8/dist-packages (from pmdarima) (1.24.3)\n",
            "Collecting statsmodels>=0.13.2\n",
            "  Downloading statsmodels-0.13.5-cp38-cp38-manylinux_2_17_x86_64.manylinux2014_x86_64.whl (9.9 MB)\n",
            "\u001b[2K     \u001b[90m━━━━━━━━━━━━━━━━━━━━━━━━━━━━━━━━━━━━━━━━\u001b[0m \u001b[32m9.9/9.9 MB\u001b[0m \u001b[31m23.1 MB/s\u001b[0m eta \u001b[36m0:00:00\u001b[0m\n",
            "\u001b[?25hRequirement already satisfied: setuptools!=50.0.0,>=38.6.0 in /usr/local/lib/python3.8/dist-packages (from pmdarima) (57.4.0)\n",
            "Requirement already satisfied: Cython!=0.29.18,!=0.29.31,>=0.29 in /usr/local/lib/python3.8/dist-packages (from pmdarima) (0.29.33)\n",
            "Requirement already satisfied: joblib>=0.11 in /usr/local/lib/python3.8/dist-packages (from pmdarima) (1.2.0)\n",
            "Requirement already satisfied: scipy>=1.3.2 in /usr/local/lib/python3.8/dist-packages (from pmdarima) (1.7.3)\n",
            "Requirement already satisfied: scikit-learn>=0.22 in /usr/local/lib/python3.8/dist-packages (from pmdarima) (1.0.2)\n",
            "Requirement already satisfied: pytz>=2017.3 in /usr/local/lib/python3.8/dist-packages (from pandas>=0.19->pmdarima) (2022.7.1)\n",
            "Requirement already satisfied: python-dateutil>=2.7.3 in /usr/local/lib/python3.8/dist-packages (from pandas>=0.19->pmdarima) (2.8.2)\n",
            "Requirement already satisfied: threadpoolctl>=2.0.0 in /usr/local/lib/python3.8/dist-packages (from scikit-learn>=0.22->pmdarima) (3.1.0)\n",
            "Requirement already satisfied: patsy>=0.5.2 in /usr/local/lib/python3.8/dist-packages (from statsmodels>=0.13.2->pmdarima) (0.5.3)\n",
            "Requirement already satisfied: packaging>=21.3 in /usr/local/lib/python3.8/dist-packages (from statsmodels>=0.13.2->pmdarima) (23.0)\n",
            "Requirement already satisfied: six in /usr/local/lib/python3.8/dist-packages (from patsy>=0.5.2->statsmodels>=0.13.2->pmdarima) (1.15.0)\n",
            "Installing collected packages: statsmodels, pmdarima\n",
            "  Attempting uninstall: statsmodels\n",
            "    Found existing installation: statsmodels 0.12.2\n",
            "    Uninstalling statsmodels-0.12.2:\n",
            "      Successfully uninstalled statsmodels-0.12.2\n",
            "Successfully installed pmdarima-2.0.2 statsmodels-0.13.5\n"
          ]
        }
      ],
      "source": [
        "#importing necessary libraries\n",
        "!pip install pmdarima\n",
        "\n",
        "import pandas as pd\n",
        "import statsmodels.api as sm\n",
        "from statsmodels.tsa.arima_model import ARIMA\n",
        "from sklearn.metrics import mean_squared_error\n",
        "import numpy as np\n",
        "import pandas as pd\n",
        "\n",
        "import matplotlib.pyplot as plt\n",
        "import matplotlib.ticker as ticker \n",
        "from statsmodels.tsa.api import ExponentialSmoothing, SimpleExpSmoothing, Holt\n",
        "from scipy.spatial.distance import cdist"
      ]
    },
    {
      "cell_type": "code",
      "source": [
        "!pip install --upgrade --q --no-cache-dir gdown\n",
        "!gdown 1NQ2yc8L-XvMCML2-qoHuTNb5xvERF5mp\n",
        "#loading the data set from the guthub link\n",
        "df=pd.read_csv('PT_Train.csv')"
      ],
      "metadata": {
        "colab": {
          "base_uri": "https://localhost:8080/"
        },
        "id": "mpeoxVanbasp",
        "outputId": "8e170036-bb7a-4f3e-cec1-f378a6d5133d"
      },
      "execution_count": 3,
      "outputs": [
        {
          "output_type": "stream",
          "name": "stdout",
          "text": [
            "Downloading...\n",
            "From: https://drive.google.com/uc?id=1NQ2yc8L-XvMCML2-qoHuTNb5xvERF5mp\n",
            "To: /content/PT_Train.csv\n",
            "\r  0% 0.00/7.17k [00:00<?, ?B/s]\r100% 7.17k/7.17k [00:00<00:00, 6.98MB/s]\n"
          ]
        }
      ]
    },
    {
      "cell_type": "code",
      "source": [
        "df.describe()"
      ],
      "metadata": {
        "colab": {
          "base_uri": "https://localhost:8080/",
          "height": 361
        },
        "id": "NRVLyOypbjvI",
        "outputId": "7f4fe564-18da-4e6f-f99f-ac6b04fc8cc9"
      },
      "execution_count": 4,
      "outputs": [
        {
          "output_type": "execute_result",
          "data": {
            "text/plain": [
              "       Lifetouch Heart Rate  Lifetouch Respiration Rate  Oximeter SpO2  \\\n",
              "count            226.000000                  226.000000     191.000000   \n",
              "mean            2315.615044                 2219.216814      83.450262   \n",
              "std            11351.588825                11370.093548      29.802974   \n",
              "min              106.000000                   34.000000      -1.000000   \n",
              "25%              136.000000                   38.000000      92.000000   \n",
              "50%              145.000000                   46.000000      93.000000   \n",
              "75%              156.000000                   53.000000      95.000000   \n",
              "max            61442.000000                61442.000000      98.000000   \n",
              "\n",
              "       Oximeter Pulse  \n",
              "count      191.000000  \n",
              "mean       126.335079  \n",
              "std         46.348142  \n",
              "min         -1.000000  \n",
              "25%        134.000000  \n",
              "50%        139.000000  \n",
              "75%        149.000000  \n",
              "max        166.000000  "
            ],
            "text/html": [
              "\n",
              "  <div id=\"df-07ebb814-32e9-4fe8-89a9-a88c350f8eaa\">\n",
              "    <div class=\"colab-df-container\">\n",
              "      <div>\n",
              "<style scoped>\n",
              "    .dataframe tbody tr th:only-of-type {\n",
              "        vertical-align: middle;\n",
              "    }\n",
              "\n",
              "    .dataframe tbody tr th {\n",
              "        vertical-align: top;\n",
              "    }\n",
              "\n",
              "    .dataframe thead th {\n",
              "        text-align: right;\n",
              "    }\n",
              "</style>\n",
              "<table border=\"1\" class=\"dataframe\">\n",
              "  <thead>\n",
              "    <tr style=\"text-align: right;\">\n",
              "      <th></th>\n",
              "      <th>Lifetouch Heart Rate</th>\n",
              "      <th>Lifetouch Respiration Rate</th>\n",
              "      <th>Oximeter SpO2</th>\n",
              "      <th>Oximeter Pulse</th>\n",
              "    </tr>\n",
              "  </thead>\n",
              "  <tbody>\n",
              "    <tr>\n",
              "      <th>count</th>\n",
              "      <td>226.000000</td>\n",
              "      <td>226.000000</td>\n",
              "      <td>191.000000</td>\n",
              "      <td>191.000000</td>\n",
              "    </tr>\n",
              "    <tr>\n",
              "      <th>mean</th>\n",
              "      <td>2315.615044</td>\n",
              "      <td>2219.216814</td>\n",
              "      <td>83.450262</td>\n",
              "      <td>126.335079</td>\n",
              "    </tr>\n",
              "    <tr>\n",
              "      <th>std</th>\n",
              "      <td>11351.588825</td>\n",
              "      <td>11370.093548</td>\n",
              "      <td>29.802974</td>\n",
              "      <td>46.348142</td>\n",
              "    </tr>\n",
              "    <tr>\n",
              "      <th>min</th>\n",
              "      <td>106.000000</td>\n",
              "      <td>34.000000</td>\n",
              "      <td>-1.000000</td>\n",
              "      <td>-1.000000</td>\n",
              "    </tr>\n",
              "    <tr>\n",
              "      <th>25%</th>\n",
              "      <td>136.000000</td>\n",
              "      <td>38.000000</td>\n",
              "      <td>92.000000</td>\n",
              "      <td>134.000000</td>\n",
              "    </tr>\n",
              "    <tr>\n",
              "      <th>50%</th>\n",
              "      <td>145.000000</td>\n",
              "      <td>46.000000</td>\n",
              "      <td>93.000000</td>\n",
              "      <td>139.000000</td>\n",
              "    </tr>\n",
              "    <tr>\n",
              "      <th>75%</th>\n",
              "      <td>156.000000</td>\n",
              "      <td>53.000000</td>\n",
              "      <td>95.000000</td>\n",
              "      <td>149.000000</td>\n",
              "    </tr>\n",
              "    <tr>\n",
              "      <th>max</th>\n",
              "      <td>61442.000000</td>\n",
              "      <td>61442.000000</td>\n",
              "      <td>98.000000</td>\n",
              "      <td>166.000000</td>\n",
              "    </tr>\n",
              "  </tbody>\n",
              "</table>\n",
              "</div>\n",
              "      <button class=\"colab-df-convert\" onclick=\"convertToInteractive('df-07ebb814-32e9-4fe8-89a9-a88c350f8eaa')\"\n",
              "              title=\"Convert this dataframe to an interactive table.\"\n",
              "              style=\"display:none;\">\n",
              "        \n",
              "  <svg xmlns=\"http://www.w3.org/2000/svg\" height=\"24px\"viewBox=\"0 0 24 24\"\n",
              "       width=\"24px\">\n",
              "    <path d=\"M0 0h24v24H0V0z\" fill=\"none\"/>\n",
              "    <path d=\"M18.56 5.44l.94 2.06.94-2.06 2.06-.94-2.06-.94-.94-2.06-.94 2.06-2.06.94zm-11 1L8.5 8.5l.94-2.06 2.06-.94-2.06-.94L8.5 2.5l-.94 2.06-2.06.94zm10 10l.94 2.06.94-2.06 2.06-.94-2.06-.94-.94-2.06-.94 2.06-2.06.94z\"/><path d=\"M17.41 7.96l-1.37-1.37c-.4-.4-.92-.59-1.43-.59-.52 0-1.04.2-1.43.59L10.3 9.45l-7.72 7.72c-.78.78-.78 2.05 0 2.83L4 21.41c.39.39.9.59 1.41.59.51 0 1.02-.2 1.41-.59l7.78-7.78 2.81-2.81c.8-.78.8-2.07 0-2.86zM5.41 20L4 18.59l7.72-7.72 1.47 1.35L5.41 20z\"/>\n",
              "  </svg>\n",
              "      </button>\n",
              "      \n",
              "  <style>\n",
              "    .colab-df-container {\n",
              "      display:flex;\n",
              "      flex-wrap:wrap;\n",
              "      gap: 12px;\n",
              "    }\n",
              "\n",
              "    .colab-df-convert {\n",
              "      background-color: #E8F0FE;\n",
              "      border: none;\n",
              "      border-radius: 50%;\n",
              "      cursor: pointer;\n",
              "      display: none;\n",
              "      fill: #1967D2;\n",
              "      height: 32px;\n",
              "      padding: 0 0 0 0;\n",
              "      width: 32px;\n",
              "    }\n",
              "\n",
              "    .colab-df-convert:hover {\n",
              "      background-color: #E2EBFA;\n",
              "      box-shadow: 0px 1px 2px rgba(60, 64, 67, 0.3), 0px 1px 3px 1px rgba(60, 64, 67, 0.15);\n",
              "      fill: #174EA6;\n",
              "    }\n",
              "\n",
              "    [theme=dark] .colab-df-convert {\n",
              "      background-color: #3B4455;\n",
              "      fill: #D2E3FC;\n",
              "    }\n",
              "\n",
              "    [theme=dark] .colab-df-convert:hover {\n",
              "      background-color: #434B5C;\n",
              "      box-shadow: 0px 1px 3px 1px rgba(0, 0, 0, 0.15);\n",
              "      filter: drop-shadow(0px 1px 2px rgba(0, 0, 0, 0.3));\n",
              "      fill: #FFFFFF;\n",
              "    }\n",
              "  </style>\n",
              "\n",
              "      <script>\n",
              "        const buttonEl =\n",
              "          document.querySelector('#df-07ebb814-32e9-4fe8-89a9-a88c350f8eaa button.colab-df-convert');\n",
              "        buttonEl.style.display =\n",
              "          google.colab.kernel.accessAllowed ? 'block' : 'none';\n",
              "\n",
              "        async function convertToInteractive(key) {\n",
              "          const element = document.querySelector('#df-07ebb814-32e9-4fe8-89a9-a88c350f8eaa');\n",
              "          const dataTable =\n",
              "            await google.colab.kernel.invokeFunction('convertToInteractive',\n",
              "                                                     [key], {});\n",
              "          if (!dataTable) return;\n",
              "\n",
              "          const docLinkHtml = 'Like what you see? Visit the ' +\n",
              "            '<a target=\"_blank\" href=https://colab.research.google.com/notebooks/data_table.ipynb>data table notebook</a>'\n",
              "            + ' to learn more about interactive tables.';\n",
              "          element.innerHTML = '';\n",
              "          dataTable['output_type'] = 'display_data';\n",
              "          await google.colab.output.renderOutput(dataTable, element);\n",
              "          const docLink = document.createElement('div');\n",
              "          docLink.innerHTML = docLinkHtml;\n",
              "          element.appendChild(docLink);\n",
              "        }\n",
              "      </script>\n",
              "    </div>\n",
              "  </div>\n",
              "  "
            ]
          },
          "metadata": {},
          "execution_count": 4
        }
      ]
    },
    {
      "cell_type": "code",
      "source": [
        "df.info()"
      ],
      "metadata": {
        "colab": {
          "base_uri": "https://localhost:8080/"
        },
        "id": "ta9Uk0srbnQ7",
        "outputId": "fb580393-b6e3-4d15-890b-13a7fd2fc5c3"
      },
      "execution_count": 5,
      "outputs": [
        {
          "output_type": "stream",
          "name": "stdout",
          "text": [
            "<class 'pandas.core.frame.DataFrame'>\n",
            "RangeIndex: 226 entries, 0 to 225\n",
            "Data columns (total 5 columns):\n",
            " #   Column                      Non-Null Count  Dtype  \n",
            "---  ------                      --------------  -----  \n",
            " 0   Timestamp (GMT)             226 non-null    object \n",
            " 1   Lifetouch Heart Rate        226 non-null    int64  \n",
            " 2   Lifetouch Respiration Rate  226 non-null    int64  \n",
            " 3   Oximeter SpO2               191 non-null    float64\n",
            " 4   Oximeter Pulse              191 non-null    float64\n",
            "dtypes: float64(2), int64(2), object(1)\n",
            "memory usage: 9.0+ KB\n"
          ]
        }
      ]
    },
    {
      "cell_type": "code",
      "source": [
        "#Impute missing values with a suitable value (e.g. the mean)\n",
        "df[\"Oximeter SpO2\"].fillna(df[\"Oximeter SpO2\"].mean(), inplace=True)\n",
        "df[\"Oximeter Pulse\"].fillna(df[\"Oximeter Pulse\"].mean(), inplace=True)"
      ],
      "metadata": {
        "id": "4ln-LLeobuWK"
      },
      "execution_count": 6,
      "outputs": []
    },
    {
      "cell_type": "code",
      "source": [
        "#here we are replacing the negative values \n",
        "df=df.replace(-1, np.nan, inplace=False)"
      ],
      "metadata": {
        "id": "O8BVu1f-b6tI"
      },
      "execution_count": 7,
      "outputs": []
    },
    {
      "cell_type": "code",
      "source": [
        "#handling-outliers: here for the heart rate we have consider the values which are between 40-200 as we know that \n",
        "df = df[(df['Lifetouch Heart Rate'] > 40) & (df['Lifetouch Heart Rate'] < 200)]"
      ],
      "metadata": {
        "id": "cvEteROSb-Db"
      },
      "execution_count": 8,
      "outputs": []
    },
    {
      "cell_type": "code",
      "source": [
        "# check stationarity of the series\n",
        "def check_stationarity(series):\n",
        "  statistic, p_value, n_lags, critical_values = sm.tsa.stattools.kpss(series)\n",
        "  print(f'p value: {p_value}')\n",
        "  print(f'Result: The series is {\"not \" if p_value < 0.05 else \"\"}stationary \\n')"
      ],
      "metadata": {
        "id": "FHybJ_atcAyH"
      },
      "execution_count": 9,
      "outputs": []
    },
    {
      "cell_type": "code",
      "source": [
        "check_stationarity(df['Lifetouch Heart Rate'])\n"
      ],
      "metadata": {
        "colab": {
          "base_uri": "https://localhost:8080/"
        },
        "id": "hh4hHan-cGd9",
        "outputId": "e51b3f54-665e-4fe6-998f-5cc86e779855"
      },
      "execution_count": 10,
      "outputs": [
        {
          "output_type": "stream",
          "name": "stdout",
          "text": [
            "p value: 0.01\n",
            "Result: The series is not stationary \n",
            "\n"
          ]
        },
        {
          "output_type": "stream",
          "name": "stderr",
          "text": [
            "/usr/local/lib/python3.8/dist-packages/statsmodels/tsa/stattools.py:2018: InterpolationWarning: The test statistic is outside of the range of p-values available in the\n",
            "look-up table. The actual p-value is smaller than the p-value returned.\n",
            "\n",
            "  warnings.warn(\n"
          ]
        }
      ]
    },
    {
      "cell_type": "code",
      "source": [
        "#add new column 'Log-Sales' with log transformed values\n",
        "df1=df[['Timestamp (GMT)','Lifetouch Heart Rate']].copy()"
      ],
      "metadata": {
        "id": "tgH5sVt8cIVT"
      },
      "execution_count": 11,
      "outputs": []
    },
    {
      "cell_type": "code",
      "source": [
        "df1['Timestamp (GMT)'] = pd.to_datetime(df1['Timestamp (GMT)'])"
      ],
      "metadata": {
        "id": "wljz4FD2cZ6B"
      },
      "execution_count": 12,
      "outputs": []
    },
    {
      "cell_type": "code",
      "source": [
        "df1"
      ],
      "metadata": {
        "colab": {
          "base_uri": "https://localhost:8080/",
          "height": 423
        },
        "id": "owISrMbNeB_Z",
        "outputId": "49f33f8a-28a5-45be-c363-0bc1363053ae"
      },
      "execution_count": 13,
      "outputs": [
        {
          "output_type": "execute_result",
          "data": {
            "text/plain": [
              "        Timestamp (GMT)  Lifetouch Heart Rate\n",
              "0   2015-08-17 15:09:00                   139\n",
              "1   2015-08-17 15:10:00                   144\n",
              "2   2015-08-17 15:11:00                   140\n",
              "3   2015-08-17 15:12:00                   138\n",
              "4   2015-08-17 15:13:00                   133\n",
              "..                  ...                   ...\n",
              "221 2015-08-17 18:50:00                   159\n",
              "222 2015-08-17 18:51:00                   151\n",
              "223 2015-08-17 18:52:00                   140\n",
              "224 2015-08-17 18:53:00                   140\n",
              "225 2015-08-17 18:54:00                   138\n",
              "\n",
              "[218 rows x 2 columns]"
            ],
            "text/html": [
              "\n",
              "  <div id=\"df-f9a513ab-ef75-42a2-aa0c-47cd4a0bb9d1\">\n",
              "    <div class=\"colab-df-container\">\n",
              "      <div>\n",
              "<style scoped>\n",
              "    .dataframe tbody tr th:only-of-type {\n",
              "        vertical-align: middle;\n",
              "    }\n",
              "\n",
              "    .dataframe tbody tr th {\n",
              "        vertical-align: top;\n",
              "    }\n",
              "\n",
              "    .dataframe thead th {\n",
              "        text-align: right;\n",
              "    }\n",
              "</style>\n",
              "<table border=\"1\" class=\"dataframe\">\n",
              "  <thead>\n",
              "    <tr style=\"text-align: right;\">\n",
              "      <th></th>\n",
              "      <th>Timestamp (GMT)</th>\n",
              "      <th>Lifetouch Heart Rate</th>\n",
              "    </tr>\n",
              "  </thead>\n",
              "  <tbody>\n",
              "    <tr>\n",
              "      <th>0</th>\n",
              "      <td>2015-08-17 15:09:00</td>\n",
              "      <td>139</td>\n",
              "    </tr>\n",
              "    <tr>\n",
              "      <th>1</th>\n",
              "      <td>2015-08-17 15:10:00</td>\n",
              "      <td>144</td>\n",
              "    </tr>\n",
              "    <tr>\n",
              "      <th>2</th>\n",
              "      <td>2015-08-17 15:11:00</td>\n",
              "      <td>140</td>\n",
              "    </tr>\n",
              "    <tr>\n",
              "      <th>3</th>\n",
              "      <td>2015-08-17 15:12:00</td>\n",
              "      <td>138</td>\n",
              "    </tr>\n",
              "    <tr>\n",
              "      <th>4</th>\n",
              "      <td>2015-08-17 15:13:00</td>\n",
              "      <td>133</td>\n",
              "    </tr>\n",
              "    <tr>\n",
              "      <th>...</th>\n",
              "      <td>...</td>\n",
              "      <td>...</td>\n",
              "    </tr>\n",
              "    <tr>\n",
              "      <th>221</th>\n",
              "      <td>2015-08-17 18:50:00</td>\n",
              "      <td>159</td>\n",
              "    </tr>\n",
              "    <tr>\n",
              "      <th>222</th>\n",
              "      <td>2015-08-17 18:51:00</td>\n",
              "      <td>151</td>\n",
              "    </tr>\n",
              "    <tr>\n",
              "      <th>223</th>\n",
              "      <td>2015-08-17 18:52:00</td>\n",
              "      <td>140</td>\n",
              "    </tr>\n",
              "    <tr>\n",
              "      <th>224</th>\n",
              "      <td>2015-08-17 18:53:00</td>\n",
              "      <td>140</td>\n",
              "    </tr>\n",
              "    <tr>\n",
              "      <th>225</th>\n",
              "      <td>2015-08-17 18:54:00</td>\n",
              "      <td>138</td>\n",
              "    </tr>\n",
              "  </tbody>\n",
              "</table>\n",
              "<p>218 rows × 2 columns</p>\n",
              "</div>\n",
              "      <button class=\"colab-df-convert\" onclick=\"convertToInteractive('df-f9a513ab-ef75-42a2-aa0c-47cd4a0bb9d1')\"\n",
              "              title=\"Convert this dataframe to an interactive table.\"\n",
              "              style=\"display:none;\">\n",
              "        \n",
              "  <svg xmlns=\"http://www.w3.org/2000/svg\" height=\"24px\"viewBox=\"0 0 24 24\"\n",
              "       width=\"24px\">\n",
              "    <path d=\"M0 0h24v24H0V0z\" fill=\"none\"/>\n",
              "    <path d=\"M18.56 5.44l.94 2.06.94-2.06 2.06-.94-2.06-.94-.94-2.06-.94 2.06-2.06.94zm-11 1L8.5 8.5l.94-2.06 2.06-.94-2.06-.94L8.5 2.5l-.94 2.06-2.06.94zm10 10l.94 2.06.94-2.06 2.06-.94-2.06-.94-.94-2.06-.94 2.06-2.06.94z\"/><path d=\"M17.41 7.96l-1.37-1.37c-.4-.4-.92-.59-1.43-.59-.52 0-1.04.2-1.43.59L10.3 9.45l-7.72 7.72c-.78.78-.78 2.05 0 2.83L4 21.41c.39.39.9.59 1.41.59.51 0 1.02-.2 1.41-.59l7.78-7.78 2.81-2.81c.8-.78.8-2.07 0-2.86zM5.41 20L4 18.59l7.72-7.72 1.47 1.35L5.41 20z\"/>\n",
              "  </svg>\n",
              "      </button>\n",
              "      \n",
              "  <style>\n",
              "    .colab-df-container {\n",
              "      display:flex;\n",
              "      flex-wrap:wrap;\n",
              "      gap: 12px;\n",
              "    }\n",
              "\n",
              "    .colab-df-convert {\n",
              "      background-color: #E8F0FE;\n",
              "      border: none;\n",
              "      border-radius: 50%;\n",
              "      cursor: pointer;\n",
              "      display: none;\n",
              "      fill: #1967D2;\n",
              "      height: 32px;\n",
              "      padding: 0 0 0 0;\n",
              "      width: 32px;\n",
              "    }\n",
              "\n",
              "    .colab-df-convert:hover {\n",
              "      background-color: #E2EBFA;\n",
              "      box-shadow: 0px 1px 2px rgba(60, 64, 67, 0.3), 0px 1px 3px 1px rgba(60, 64, 67, 0.15);\n",
              "      fill: #174EA6;\n",
              "    }\n",
              "\n",
              "    [theme=dark] .colab-df-convert {\n",
              "      background-color: #3B4455;\n",
              "      fill: #D2E3FC;\n",
              "    }\n",
              "\n",
              "    [theme=dark] .colab-df-convert:hover {\n",
              "      background-color: #434B5C;\n",
              "      box-shadow: 0px 1px 3px 1px rgba(0, 0, 0, 0.15);\n",
              "      filter: drop-shadow(0px 1px 2px rgba(0, 0, 0, 0.3));\n",
              "      fill: #FFFFFF;\n",
              "    }\n",
              "  </style>\n",
              "\n",
              "      <script>\n",
              "        const buttonEl =\n",
              "          document.querySelector('#df-f9a513ab-ef75-42a2-aa0c-47cd4a0bb9d1 button.colab-df-convert');\n",
              "        buttonEl.style.display =\n",
              "          google.colab.kernel.accessAllowed ? 'block' : 'none';\n",
              "\n",
              "        async function convertToInteractive(key) {\n",
              "          const element = document.querySelector('#df-f9a513ab-ef75-42a2-aa0c-47cd4a0bb9d1');\n",
              "          const dataTable =\n",
              "            await google.colab.kernel.invokeFunction('convertToInteractive',\n",
              "                                                     [key], {});\n",
              "          if (!dataTable) return;\n",
              "\n",
              "          const docLinkHtml = 'Like what you see? Visit the ' +\n",
              "            '<a target=\"_blank\" href=https://colab.research.google.com/notebooks/data_table.ipynb>data table notebook</a>'\n",
              "            + ' to learn more about interactive tables.';\n",
              "          element.innerHTML = '';\n",
              "          dataTable['output_type'] = 'display_data';\n",
              "          await google.colab.output.renderOutput(dataTable, element);\n",
              "          const docLink = document.createElement('div');\n",
              "          docLink.innerHTML = docLinkHtml;\n",
              "          element.appendChild(docLink);\n",
              "        }\n",
              "      </script>\n",
              "    </div>\n",
              "  </div>\n",
              "  "
            ]
          },
          "metadata": {},
          "execution_count": 13
        }
      ]
    },
    {
      "cell_type": "code",
      "source": [
        "df1.set_index('Timestamp (GMT)', inplace=True)\n"
      ],
      "metadata": {
        "id": "1rsYOIiMqkaf"
      },
      "execution_count": 14,
      "outputs": []
    },
    {
      "cell_type": "code",
      "source": [
        "from pmdarima import auto_arima\n",
        "\n",
        "\n",
        "\n",
        "# Fit an ARIMA model to the dataset\n",
        "model = auto_arima(df1['Lifetouch Heart Rate'], seasonal=True, suppress_warnings=True, stepwise=True)\n",
        "\n",
        "# Print the optimal order of p, d, q\n",
        "print(model.order)\n",
        "model.summary()"
      ],
      "metadata": {
        "colab": {
          "base_uri": "https://localhost:8080/",
          "height": 419
        },
        "id": "YXomqlBecOOg",
        "outputId": "df6f07c9-f0dc-4e65-e38d-6354c8bc9db2"
      },
      "execution_count": 15,
      "outputs": [
        {
          "output_type": "stream",
          "name": "stdout",
          "text": [
            "(0, 1, 1)\n"
          ]
        },
        {
          "output_type": "execute_result",
          "data": {
            "text/plain": [
              "<class 'statsmodels.iolib.summary.Summary'>\n",
              "\"\"\"\n",
              "                               SARIMAX Results                                \n",
              "==============================================================================\n",
              "Dep. Variable:                      y   No. Observations:                  218\n",
              "Model:               SARIMAX(0, 1, 1)   Log Likelihood                -649.163\n",
              "Date:                Wed, 15 Feb 2023   AIC                           1302.325\n",
              "Time:                        01:10:22   BIC                           1309.085\n",
              "Sample:                             0   HQIC                          1305.056\n",
              "                                - 218                                         \n",
              "Covariance Type:                  opg                                         \n",
              "==============================================================================\n",
              "                 coef    std err          z      P>|z|      [0.025      0.975]\n",
              "------------------------------------------------------------------------------\n",
              "ma.L1         -0.4090      0.032    -12.976      0.000      -0.471      -0.347\n",
              "sigma2        23.2044      0.955     24.296      0.000      21.332      25.076\n",
              "===================================================================================\n",
              "Ljung-Box (L1) (Q):                   0.00   Jarque-Bera (JB):              1528.16\n",
              "Prob(Q):                              0.98   Prob(JB):                         0.00\n",
              "Heteroskedasticity (H):               0.48   Skew:                            -1.09\n",
              "Prob(H) (two-sided):                  0.00   Kurtosis:                        15.82\n",
              "===================================================================================\n",
              "\n",
              "Warnings:\n",
              "[1] Covariance matrix calculated using the outer product of gradients (complex-step).\n",
              "\"\"\""
            ],
            "text/html": [
              "<table class=\"simpletable\">\n",
              "<caption>SARIMAX Results</caption>\n",
              "<tr>\n",
              "  <th>Dep. Variable:</th>           <td>y</td>        <th>  No. Observations:  </th>    <td>218</td>  \n",
              "</tr>\n",
              "<tr>\n",
              "  <th>Model:</th>           <td>SARIMAX(0, 1, 1)</td> <th>  Log Likelihood     </th> <td>-649.163</td>\n",
              "</tr>\n",
              "<tr>\n",
              "  <th>Date:</th>            <td>Wed, 15 Feb 2023</td> <th>  AIC                </th> <td>1302.325</td>\n",
              "</tr>\n",
              "<tr>\n",
              "  <th>Time:</th>                <td>01:10:22</td>     <th>  BIC                </th> <td>1309.085</td>\n",
              "</tr>\n",
              "<tr>\n",
              "  <th>Sample:</th>                  <td>0</td>        <th>  HQIC               </th> <td>1305.056</td>\n",
              "</tr>\n",
              "<tr>\n",
              "  <th></th>                      <td> - 218</td>      <th>                     </th>     <td> </td>   \n",
              "</tr>\n",
              "<tr>\n",
              "  <th>Covariance Type:</th>        <td>opg</td>       <th>                     </th>     <td> </td>   \n",
              "</tr>\n",
              "</table>\n",
              "<table class=\"simpletable\">\n",
              "<tr>\n",
              "     <td></td>       <th>coef</th>     <th>std err</th>      <th>z</th>      <th>P>|z|</th>  <th>[0.025</th>    <th>0.975]</th>  \n",
              "</tr>\n",
              "<tr>\n",
              "  <th>ma.L1</th>  <td>   -0.4090</td> <td>    0.032</td> <td>  -12.976</td> <td> 0.000</td> <td>   -0.471</td> <td>   -0.347</td>\n",
              "</tr>\n",
              "<tr>\n",
              "  <th>sigma2</th> <td>   23.2044</td> <td>    0.955</td> <td>   24.296</td> <td> 0.000</td> <td>   21.332</td> <td>   25.076</td>\n",
              "</tr>\n",
              "</table>\n",
              "<table class=\"simpletable\">\n",
              "<tr>\n",
              "  <th>Ljung-Box (L1) (Q):</th>     <td>0.00</td> <th>  Jarque-Bera (JB):  </th> <td>1528.16</td>\n",
              "</tr>\n",
              "<tr>\n",
              "  <th>Prob(Q):</th>                <td>0.98</td> <th>  Prob(JB):          </th>  <td>0.00</td>  \n",
              "</tr>\n",
              "<tr>\n",
              "  <th>Heteroskedasticity (H):</th> <td>0.48</td> <th>  Skew:              </th>  <td>-1.09</td> \n",
              "</tr>\n",
              "<tr>\n",
              "  <th>Prob(H) (two-sided):</th>    <td>0.00</td> <th>  Kurtosis:          </th>  <td>15.82</td> \n",
              "</tr>\n",
              "</table><br/><br/>Warnings:<br/>[1] Covariance matrix calculated using the outer product of gradients (complex-step)."
            ]
          },
          "metadata": {},
          "execution_count": 15
        }
      ]
    },
    {
      "cell_type": "markdown",
      "source": [
        "#Model_1 ARIMA"
      ],
      "metadata": {
        "id": "xrFd_egDsQ_V"
      }
    },
    {
      "cell_type": "code",
      "source": [
        "from statsmodels.tsa.arima.model import ARIMA\n",
        "\n",
        "model_1 = ARIMA(df1['Lifetouch Heart Rate'], order=(0, 1, 1))\n",
        "model_First = model_1.fit()\n",
        "\n"
      ],
      "metadata": {
        "colab": {
          "base_uri": "https://localhost:8080/"
        },
        "id": "BiRJaIVohBaV",
        "outputId": "6abd24b7-5b80-4753-ae2d-697972658008"
      },
      "execution_count": 16,
      "outputs": [
        {
          "output_type": "stream",
          "name": "stderr",
          "text": [
            "/usr/local/lib/python3.8/dist-packages/statsmodels/tsa/base/tsa_model.py:471: ValueWarning: A date index has been provided, but it has no associated frequency information and so will be ignored when e.g. forecasting.\n",
            "  self._init_dates(dates, freq)\n",
            "/usr/local/lib/python3.8/dist-packages/statsmodels/tsa/base/tsa_model.py:471: ValueWarning: A date index has been provided, but it has no associated frequency information and so will be ignored when e.g. forecasting.\n",
            "  self._init_dates(dates, freq)\n",
            "/usr/local/lib/python3.8/dist-packages/statsmodels/tsa/base/tsa_model.py:471: ValueWarning: A date index has been provided, but it has no associated frequency information and so will be ignored when e.g. forecasting.\n",
            "  self._init_dates(dates, freq)\n"
          ]
        }
      ]
    },
    {
      "cell_type": "code",
      "source": [],
      "metadata": {
        "id": "Skvniritm1KP"
      },
      "execution_count": null,
      "outputs": []
    },
    {
      "cell_type": "code",
      "source": [
        "from statsmodels.tsa.arima.model import ARIMA\n",
        "\n",
        "model_1 = ARIMA(df1[:218], order=(0, 1, 1))\n",
        "model_First = model_1.fit()\n",
        "print(model_First.summary())"
      ],
      "metadata": {
        "colab": {
          "base_uri": "https://localhost:8080/"
        },
        "id": "hbNEws-ohwNE",
        "outputId": "0b3a6cae-d6fc-449f-c04c-4e8cfdf17444"
      },
      "execution_count": 17,
      "outputs": [
        {
          "output_type": "stream",
          "name": "stdout",
          "text": [
            "                                SARIMAX Results                                 \n",
            "================================================================================\n",
            "Dep. Variable:     Lifetouch Heart Rate   No. Observations:                  218\n",
            "Model:                   ARIMA(0, 1, 1)   Log Likelihood                -649.163\n",
            "Date:                  Wed, 15 Feb 2023   AIC                           1302.325\n",
            "Time:                          01:10:29   BIC                           1309.085\n",
            "Sample:                               0   HQIC                          1305.056\n",
            "                                  - 218                                         \n",
            "Covariance Type:                    opg                                         \n",
            "==============================================================================\n",
            "                 coef    std err          z      P>|z|      [0.025      0.975]\n",
            "------------------------------------------------------------------------------\n",
            "ma.L1         -0.4090      0.032    -12.976      0.000      -0.471      -0.347\n",
            "sigma2        23.2044      0.955     24.296      0.000      21.332      25.076\n",
            "===================================================================================\n",
            "Ljung-Box (L1) (Q):                   0.00   Jarque-Bera (JB):              1528.16\n",
            "Prob(Q):                              0.98   Prob(JB):                         0.00\n",
            "Heteroskedasticity (H):               0.48   Skew:                            -1.09\n",
            "Prob(H) (two-sided):                  0.00   Kurtosis:                        15.82\n",
            "===================================================================================\n",
            "\n",
            "Warnings:\n",
            "[1] Covariance matrix calculated using the outer product of gradients (complex-step).\n"
          ]
        },
        {
          "output_type": "stream",
          "name": "stderr",
          "text": [
            "/usr/local/lib/python3.8/dist-packages/statsmodels/tsa/base/tsa_model.py:471: ValueWarning: A date index has been provided, but it has no associated frequency information and so will be ignored when e.g. forecasting.\n",
            "  self._init_dates(dates, freq)\n",
            "/usr/local/lib/python3.8/dist-packages/statsmodels/tsa/base/tsa_model.py:471: ValueWarning: A date index has been provided, but it has no associated frequency information and so will be ignored when e.g. forecasting.\n",
            "  self._init_dates(dates, freq)\n",
            "/usr/local/lib/python3.8/dist-packages/statsmodels/tsa/base/tsa_model.py:471: ValueWarning: A date index has been provided, but it has no associated frequency information and so will be ignored when e.g. forecasting.\n",
            "  self._init_dates(dates, freq)\n"
          ]
        }
      ]
    },
    {
      "cell_type": "markdown",
      "source": [
        "In this case, based on the low AIC, BIC and HQIC values and the low P-values for the Ljung-Box and Jarque-Bera tests, the ARIMA(0,1,1) model appears to be a good fit for the data. However, it's always recommended to check the residuals and other diagnostics plots to make sure the model is well-specified."
      ],
      "metadata": {
        "id": "J5tuOhs0woYd"
      }
    },
    {
      "cell_type": "code",
      "source": [
        "model_1 = ARIMA(df1, order=(0, 1, 1))\n",
        "\n",
        "model= model_1.fit()\n",
        "\n",
        "# Predict the next quarter of 1961\n",
        "predictions= model.predict(start=len(df1), end=len(df1)+20)"
      ],
      "metadata": {
        "colab": {
          "base_uri": "https://localhost:8080/"
        },
        "id": "2J-X7DrU3rw4",
        "outputId": "be3142fe-4d8f-4aea-f16b-88c3f396106e"
      },
      "execution_count": 18,
      "outputs": [
        {
          "output_type": "stream",
          "name": "stderr",
          "text": [
            "/usr/local/lib/python3.8/dist-packages/statsmodels/tsa/base/tsa_model.py:471: ValueWarning: A date index has been provided, but it has no associated frequency information and so will be ignored when e.g. forecasting.\n",
            "  self._init_dates(dates, freq)\n",
            "/usr/local/lib/python3.8/dist-packages/statsmodels/tsa/base/tsa_model.py:471: ValueWarning: A date index has been provided, but it has no associated frequency information and so will be ignored when e.g. forecasting.\n",
            "  self._init_dates(dates, freq)\n",
            "/usr/local/lib/python3.8/dist-packages/statsmodels/tsa/base/tsa_model.py:471: ValueWarning: A date index has been provided, but it has no associated frequency information and so will be ignored when e.g. forecasting.\n",
            "  self._init_dates(dates, freq)\n",
            "/usr/local/lib/python3.8/dist-packages/statsmodels/tsa/base/tsa_model.py:834: ValueWarning: No supported index is available. Prediction results will be given with an integer index beginning at `start`.\n",
            "  return get_prediction_index(\n"
          ]
        }
      ]
    },
    {
      "cell_type": "code",
      "source": [
        "predictions"
      ],
      "metadata": {
        "colab": {
          "base_uri": "https://localhost:8080/"
        },
        "id": "97n_CDxqqncR",
        "outputId": "fd9c60ce-3821-479d-efde-107f0607073c"
      },
      "execution_count": 19,
      "outputs": [
        {
          "output_type": "execute_result",
          "data": {
            "text/plain": [
              "218    139.763077\n",
              "219    139.763077\n",
              "220    139.763077\n",
              "221    139.763077\n",
              "222    139.763077\n",
              "223    139.763077\n",
              "224    139.763077\n",
              "225    139.763077\n",
              "226    139.763077\n",
              "227    139.763077\n",
              "228    139.763077\n",
              "229    139.763077\n",
              "230    139.763077\n",
              "231    139.763077\n",
              "232    139.763077\n",
              "233    139.763077\n",
              "234    139.763077\n",
              "235    139.763077\n",
              "236    139.763077\n",
              "237    139.763077\n",
              "238    139.763077\n",
              "Name: predicted_mean, dtype: float64"
            ]
          },
          "metadata": {},
          "execution_count": 19
        }
      ]
    },
    {
      "cell_type": "code",
      "source": [
        "print(model.summary())\n",
        "residuals = model.resid\n",
        "\n"
      ],
      "metadata": {
        "id": "-r40gIHC2dHA",
        "colab": {
          "base_uri": "https://localhost:8080/"
        },
        "outputId": "174e911d-1d79-41b7-fd50-e7de46337f93"
      },
      "execution_count": 20,
      "outputs": [
        {
          "output_type": "stream",
          "name": "stdout",
          "text": [
            "                                SARIMAX Results                                 \n",
            "================================================================================\n",
            "Dep. Variable:     Lifetouch Heart Rate   No. Observations:                  218\n",
            "Model:                   ARIMA(0, 1, 1)   Log Likelihood                -649.163\n",
            "Date:                  Wed, 15 Feb 2023   AIC                           1302.325\n",
            "Time:                          01:10:40   BIC                           1309.085\n",
            "Sample:                               0   HQIC                          1305.056\n",
            "                                  - 218                                         \n",
            "Covariance Type:                    opg                                         \n",
            "==============================================================================\n",
            "                 coef    std err          z      P>|z|      [0.025      0.975]\n",
            "------------------------------------------------------------------------------\n",
            "ma.L1         -0.4090      0.032    -12.976      0.000      -0.471      -0.347\n",
            "sigma2        23.2044      0.955     24.296      0.000      21.332      25.076\n",
            "===================================================================================\n",
            "Ljung-Box (L1) (Q):                   0.00   Jarque-Bera (JB):              1528.16\n",
            "Prob(Q):                              0.98   Prob(JB):                         0.00\n",
            "Heteroskedasticity (H):               0.48   Skew:                            -1.09\n",
            "Prob(H) (two-sided):                  0.00   Kurtosis:                        15.82\n",
            "===================================================================================\n",
            "\n",
            "Warnings:\n",
            "[1] Covariance matrix calculated using the outer product of gradients (complex-step).\n"
          ]
        }
      ]
    },
    {
      "cell_type": "code",
      "source": [
        "residuals"
      ],
      "metadata": {
        "colab": {
          "base_uri": "https://localhost:8080/"
        },
        "id": "ynWLzKOHsJ7p",
        "outputId": "f5da5921-18fb-4a31-a7d0-458572ca3622"
      },
      "execution_count": 21,
      "outputs": [
        {
          "output_type": "execute_result",
          "data": {
            "text/plain": [
              "Timestamp (GMT)\n",
              "2015-08-17 15:09:00    139.000000\n",
              "2015-08-17 15:10:00      5.001319\n",
              "2015-08-17 15:11:00     -2.247455\n",
              "2015-08-17 15:12:00     -2.897783\n",
              "2015-08-17 15:13:00     -6.180701\n",
              "                          ...    \n",
              "2015-08-17 18:50:00      2.779995\n",
              "2015-08-17 18:51:00     -6.862853\n",
              "2015-08-17 18:52:00    -13.807226\n",
              "2015-08-17 18:53:00     -5.647797\n",
              "2015-08-17 18:54:00     -4.310211\n",
              "Length: 218, dtype: float64"
            ]
          },
          "metadata": {},
          "execution_count": 21
        }
      ]
    },
    {
      "cell_type": "code",
      "source": [
        "import matplotlib.pyplot as plt\n",
        "plt.figure(figsize=(10, 8))\n",
        "\n",
        "next_minutes= pd.date_range(start='2015-08-17 18:55:00', periods=21, freq='T')\n",
        "predictions.index = next_minutes\n",
        "# Plot the predictions\n",
        "plt.plot(predictions)\n",
        "\n",
        "plt.xlabel('Time')\n",
        "plt.ylabel('Prediction')\n",
        "plt.title('ARIMA Model Prediction')\n",
        "plt.show()"
      ],
      "metadata": {
        "colab": {
          "base_uri": "https://localhost:8080/",
          "height": 513
        },
        "id": "wX2HAQT5sX8B",
        "outputId": "3c5704bf-daa3-41d1-e2e7-ab4e3917eaf7"
      },
      "execution_count": 22,
      "outputs": [
        {
          "output_type": "display_data",
          "data": {
            "text/plain": [
              "<Figure size 720x576 with 1 Axes>"
            ],
            "image/png": "[encoded data removed]"
          },
          "metadata": {
            "needs_background": "light"
          }
        }
      ]
    },
    {
      "cell_type": "markdown",
      "source": [
        "#Model_1a ARIMA Order (1,0,1)"
      ],
      "metadata": {
        "id": "bPdPULJIsbKP"
      }
    },
    {
      "cell_type": "code",
      "source": [
        "df1.info# Fit the ARMA model\n",
        "model_11 = ARIMA(df1, order=(1, 0, 1))\n",
        "\n",
        "model1= model_11.fit()\n",
        "\n",
        "# Predict the next quarter of 1961\n",
        "predictions_1 = model1.predict(start=len(df1), end=len(df1)+20)"
      ],
      "metadata": {
        "colab": {
          "base_uri": "https://localhost:8080/"
        },
        "id": "zAAPzhqRecgj",
        "outputId": "44fa6856-25ac-4a0d-f18b-5e1e9e7c2847"
      },
      "execution_count": 23,
      "outputs": [
        {
          "output_type": "stream",
          "name": "stderr",
          "text": [
            "/usr/local/lib/python3.8/dist-packages/statsmodels/tsa/base/tsa_model.py:471: ValueWarning: A date index has been provided, but it has no associated frequency information and so will be ignored when e.g. forecasting.\n",
            "  self._init_dates(dates, freq)\n",
            "/usr/local/lib/python3.8/dist-packages/statsmodels/tsa/base/tsa_model.py:471: ValueWarning: A date index has been provided, but it has no associated frequency information and so will be ignored when e.g. forecasting.\n",
            "  self._init_dates(dates, freq)\n",
            "/usr/local/lib/python3.8/dist-packages/statsmodels/tsa/base/tsa_model.py:471: ValueWarning: A date index has been provided, but it has no associated frequency information and so will be ignored when e.g. forecasting.\n",
            "  self._init_dates(dates, freq)\n",
            "/usr/local/lib/python3.8/dist-packages/statsmodels/tsa/base/tsa_model.py:834: ValueWarning: No supported index is available. Prediction results will be given with an integer index beginning at `start`.\n",
            "  return get_prediction_index(\n"
          ]
        }
      ]
    },
    {
      "cell_type": "code",
      "source": [
        "predictions_1"
      ],
      "metadata": {
        "colab": {
          "base_uri": "https://localhost:8080/"
        },
        "id": "y5xY3Jls2-KB",
        "outputId": "99c09d8f-357b-4fde-9452-fb5ede600a03"
      },
      "execution_count": 24,
      "outputs": [
        {
          "output_type": "execute_result",
          "data": {
            "text/plain": [
              "218    139.866455\n",
              "219    140.062151\n",
              "220    140.250067\n",
              "221    140.430511\n",
              "222    140.603782\n",
              "223    140.770163\n",
              "224    140.929929\n",
              "225    141.083343\n",
              "226    141.230657\n",
              "227    141.372115\n",
              "228    141.507948\n",
              "229    141.638381\n",
              "230    141.763627\n",
              "231    141.883895\n",
              "232    141.999380\n",
              "233    142.110274\n",
              "234    142.216759\n",
              "235    142.319010\n",
              "236    142.417196\n",
              "237    142.511478\n",
              "238    142.602012\n",
              "Name: predicted_mean, dtype: float64"
            ]
          },
          "metadata": {},
          "execution_count": 24
        }
      ]
    },
    {
      "cell_type": "code",
      "source": [
        "print(model1.summary())\n",
        "residuals = model1.resid\n"
      ],
      "metadata": {
        "colab": {
          "base_uri": "https://localhost:8080/"
        },
        "id": "lT0Jw6oN1B9e",
        "outputId": "8f248e05-dbfb-4665-e267-ce4b53269a77"
      },
      "execution_count": 25,
      "outputs": [
        {
          "output_type": "stream",
          "name": "stdout",
          "text": [
            "                                SARIMAX Results                                 \n",
            "================================================================================\n",
            "Dep. Variable:     Lifetouch Heart Rate   No. Observations:                  218\n",
            "Model:                   ARIMA(1, 0, 1)   Log Likelihood                -650.654\n",
            "Date:                  Wed, 15 Feb 2023   AIC                           1309.308\n",
            "Time:                          01:10:55   BIC                           1322.846\n",
            "Sample:                               0   HQIC                          1314.776\n",
            "                                  - 218                                         \n",
            "Covariance Type:                    opg                                         \n",
            "==============================================================================\n",
            "                 coef    std err          z      P>|z|      [0.025      0.975]\n",
            "------------------------------------------------------------------------------\n",
            "const        144.7886      5.450     26.568      0.000     134.107     155.470\n",
            "ar.L1          0.9602      0.022     43.376      0.000       0.917       1.004\n",
            "ma.L1         -0.3823      0.045     -8.511      0.000      -0.470      -0.294\n",
            "sigma2        22.7187      1.038     21.886      0.000      20.684      24.753\n",
            "===================================================================================\n",
            "Ljung-Box (L1) (Q):                   0.01   Jarque-Bera (JB):              1746.87\n",
            "Prob(Q):                              0.94   Prob(JB):                         0.00\n",
            "Heteroskedasticity (H):               0.48   Skew:                            -1.22\n",
            "Prob(H) (two-sided):                  0.00   Kurtosis:                        16.65\n",
            "===================================================================================\n",
            "\n",
            "Warnings:\n",
            "[1] Covariance matrix calculated using the outer product of gradients (complex-step).\n"
          ]
        }
      ]
    },
    {
      "cell_type": "markdown",
      "source": [
        "IN this model (1,0,1) AIC and BIC values are relatively high, which suggests that there may be other models that better explain the data.\n",
        "\n",
        "p,d,q=0,1,1 is the best "
      ],
      "metadata": {
        "id": "xA90iP0l1_d2"
      }
    },
    {
      "cell_type": "code",
      "source": [
        "plt.figure(figsize=(10, 8))\n",
        "\n",
        "next_minutes= pd.date_range(start='2015-08-17 18:55:00', periods=21, freq='T')\n",
        "predictions_1.index = next_minutes\n",
        "# Plot the predictions\n",
        "plt.plot(predictions_1)\n",
        "\n",
        "plt.xlabel('Time')\n",
        "plt.ylabel('Prediction')\n",
        "plt.title('ARIMA Model Prediction')\n",
        "plt.show()"
      ],
      "metadata": {
        "colab": {
          "base_uri": "https://localhost:8080/",
          "height": 513
        },
        "id": "AelWgtq0vtqF",
        "outputId": "961e5c41-043d-434b-b22c-083a3fecdc20"
      },
      "execution_count": 26,
      "outputs": [
        {
          "output_type": "display_data",
          "data": {
            "text/plain": [
              "<Figure size 720x576 with 1 Axes>"
            ],
            "image/png": "[encoded data removed]"
          },
          "metadata": {
            "needs_background": "light"
          }
        }
      ]
    },
    {
      "cell_type": "code",
      "source": [
        "\n",
        "# plot time series\n",
        "plt.figure(figsize=(12, 6))\n",
        "plt.plot(df1[\"Lifetouch Heart Rate\"])\n",
        "plt.show()"
      ],
      "metadata": {
        "colab": {
          "base_uri": "https://localhost:8080/",
          "height": 394
        },
        "id": "s4FGQCBOfNgT",
        "outputId": "cbcdeed9-b3ad-4794-85ff-7f246db58c2c"
      },
      "execution_count": 27,
      "outputs": [
        {
          "output_type": "display_data",
          "data": {
            "text/plain": [
              "<Figure size 864x432 with 1 Axes>"
            ],
            "image/png": "[encoded data removed]"
          },
          "metadata": {
            "needs_background": "light"
          }
        }
      ]
    },
    {
      "cell_type": "code",
      "source": [
        "# Assuming the target variable is in a DataFrame column called 'target'\n",
        "target_range = df1['Lifetouch Heart Rate'].describe()[['min', 'max']]\n",
        "\n",
        "print(target_range)"
      ],
      "metadata": {
        "colab": {
          "base_uri": "https://localhost:8080/"
        },
        "id": "8VGJUCyHrlD2",
        "outputId": "ce68b40e-892c-418d-ae60-582bcf735cfd"
      },
      "execution_count": 39,
      "outputs": [
        {
          "output_type": "stream",
          "name": "stdout",
          "text": [
            "min    106.0\n",
            "max    172.0\n",
            "Name: Lifetouch Heart Rate, dtype: float64\n"
          ]
        }
      ]
    },
    {
      "cell_type": "code",
      "source": [
        "train_data=df1['2015-08-17 15:09:00':]\n",
        "preds= model.predict(start=pd.to_datetime('2015-08-17 15:09:00'), dynamic=False)"
      ],
      "metadata": {
        "id": "tuVmzzd9f8qt"
      },
      "execution_count": 43,
      "outputs": []
    },
    {
      "cell_type": "code",
      "source": [
        "print(f'Mean Squared Error: {(mean_squared_error(train_data, preds), 2)}')\n",
        "#order 0,1,1"
      ],
      "metadata": {
        "id": "c35LOGpyx2XA",
        "colab": {
          "base_uri": "https://localhost:8080/"
        },
        "outputId": "6b636acb-c7a8-4080-9e3c-3ed18c41aba8"
      },
      "execution_count": 44,
      "outputs": [
        {
          "output_type": "stream",
          "name": "stdout",
          "text": [
            "Mean Squared Error: (111.74370458325171, 2)\n"
          ]
        }
      ]
    },
    {
      "cell_type": "code",
      "source": [
        "from sklearn.metrics import mean_squared_error, mean_absolute_error, r2_score\n"
      ],
      "metadata": {
        "id": "ickcsD4szhni"
      },
      "execution_count": 84,
      "outputs": []
    },
    {
      "cell_type": "code",
      "source": [
        "Arima_mse=mean_squared_error(train_data, preds)\n",
        "print(\"Mean Squared Error\",Arima_mse)\n",
        "Arima_mae = mean_absolute_error(train_data, preds)\n",
        "print(\"Mean Absolute Error: \", Arima_mae)\n",
        "\n",
        "# calculate the R-squared score\n",
        "Arima_r2 = r2_score(train_data, preds)\n",
        "print(\"R-squared: \", Arima_r2)"
      ],
      "metadata": {
        "colab": {
          "base_uri": "https://localhost:8080/"
        },
        "id": "tHG_SXvJzVD6",
        "outputId": "1bb2d87d-000e-4388-e076-993ace708962"
      },
      "execution_count": 99,
      "outputs": [
        {
          "output_type": "stream",
          "name": "stdout",
          "text": [
            "Mean Squared Error 111.74370458325171\n",
            "Mean Absolute Error:  3.6909368129825477\n",
            "R-squared:  0.12587053707988127\n"
          ]
        }
      ]
    },
    {
      "cell_type": "code",
      "source": [
        "# plot observations and predictions\n",
        "ax = df1['2015-08-17 15:09:00':]['Lifetouch Heart Rate'].plot(label='observed', figsize=(12, 8))\n",
        "preds.plot(ax=ax, label='predicted', alpha=.7)\n",
        "\n",
        "ax.set_xlabel('Time')\n",
        "ax.set_ylabel('Lifetouch Heart Rate')\n",
        "plt.legend()\n",
        "\n",
        "plt.show()"
      ],
      "metadata": {
        "colab": {
          "base_uri": "https://localhost:8080/",
          "height": 440
        },
        "id": "CrsaQMiZ1t-1",
        "outputId": "6bb1547b-fcf5-43fd-97e4-620ef98da11f"
      },
      "execution_count": 98,
      "outputs": [
        {
          "output_type": "display_data",
          "data": {
            "text/plain": [
              "<Figure size 864x576 with 1 Axes>"
            ],
            "image/png": "[encoded data removed]"
          },
          "metadata": {
            "needs_background": "light"
          }
        }
      ]
    },
    {
      "cell_type": "code",
      "source": [
        "preds_a= model1.predict(start=pd.to_datetime('2015-08-17 15:09:00'), dynamic=False)\n",
        "#order 1,0,1\n",
        "Arima_a_mse = mean_squared_error(train_data, preds_a)\n",
        "print(\"Mean squared Error: \", Arima_a_mse)\n",
        "\n",
        "#print(f'Mean Squared Error: {(mean_squared_error(train_data, preds_a), 2)}')\n",
        "Arima_a_mae = mean_absolute_error(train_data, preds_a)\n",
        "print(\"Mean Absolute Error: \", Arima_a_mae)\n",
        "\n",
        "# calculate the R-squared score\n",
        "Arima_a_r2 = r2_score(train_data, preds_a)\n",
        "print(\"R-squared: \", Arima_a_r2)\n"
      ],
      "metadata": {
        "colab": {
          "base_uri": "https://localhost:8080/"
        },
        "id": "HDMBDelitxaK",
        "outputId": "58694be6-dba3-4fea-fc0e-d45a4ee48eac"
      },
      "execution_count": 100,
      "outputs": [
        {
          "output_type": "stream",
          "name": "stdout",
          "text": [
            "Mean squared Error:  22.85322164258651\n",
            "Mean Absolute Error:  3.116447760864896\n",
            "R-squared:  0.8212277422255543\n"
          ]
        }
      ]
    },
    {
      "cell_type": "code",
      "source": [
        "# plot observations and predictions\n",
        "ax = df1['2015-08-17 15:09:00':]['Lifetouch Heart Rate'].plot(label='observed', figsize=(12, 8))\n",
        "preds_a.plot(ax=ax, label='predicted', alpha=.7)\n",
        "\n",
        "ax.set_xlabel('Time')\n",
        "ax.set_ylabel('Lifetouch Heart Rate')\n",
        "plt.legend()\n",
        "\n",
        "plt.show()"
      ],
      "metadata": {
        "colab": {
          "base_uri": "https://localhost:8080/",
          "height": 440
        },
        "id": "VaycvJob1oB6",
        "outputId": "95fbe8f3-0009-486b-ffc8-4a754454d7e1"
      },
      "execution_count": 97,
      "outputs": [
        {
          "output_type": "display_data",
          "data": {
            "text/plain": [
              "<Figure size 864x576 with 1 Axes>"
            ],
            "image/png": "[encoded data removed]"
          },
          "metadata": {
            "needs_background": "light"
          }
        }
      ]
    },
    {
      "cell_type": "markdown",
      "source": [
        "The mean squared error (MSE) is a measure of how well a model fits the data, where lower values indicate better fit. In this case, the MSE value of 22.853 indicates that the model has a relatively low error compared to the range of the target variable (106 to 172), so it may be considered a good fit. However, the interpretation of MSE depends on the specific context and goals of the modeling task, so it's important to also consider other metrics and factors."
      ],
      "metadata": {
        "id": "abROJLQQugNz"
      }
    },
    {
      "cell_type": "markdown",
      "source": [
        "#model_2\n"
      ],
      "metadata": {
        "id": "V-E_V0GT0tpA"
      }
    },
    {
      "cell_type": "code",
      "source": [
        "model_2 = sm.tsa.statespace.SARIMAX(df1['Lifetouch Heart Rate'],\n",
        "                                  order=(0, 1, 1),\n",
        "                                  seasonal_order=(0, 0, 0, 12),\n",
        "                                  enforce_stationarity=False,\n",
        "                                  enforce_invertibility=False)\n",
        "# train model\n",
        "mode_2 = model_2.fit()\n",
        "print(mode_2.summary())"
      ],
      "metadata": {
        "colab": {
          "base_uri": "https://localhost:8080/"
        },
        "id": "6r89Hfcn4wfI",
        "outputId": "d9d261ca-42d8-40ed-b9fe-42077f3b25c0"
      },
      "execution_count": 49,
      "outputs": [
        {
          "output_type": "stream",
          "name": "stdout",
          "text": [
            "                                SARIMAX Results                                 \n",
            "================================================================================\n",
            "Dep. Variable:     Lifetouch Heart Rate   No. Observations:                  218\n",
            "Model:                 SARIMAX(0, 1, 1)   Log Likelihood                -643.651\n",
            "Date:                  Wed, 15 Feb 2023   AIC                           1291.302\n",
            "Time:                          01:41:58   BIC                           1298.043\n",
            "Sample:                               0   HQIC                          1294.026\n",
            "                                  - 218                                         \n",
            "Covariance Type:                    opg                                         \n",
            "==============================================================================\n",
            "                 coef    std err          z      P>|z|      [0.025      0.975]\n",
            "------------------------------------------------------------------------------\n",
            "ma.L1         -0.4055      0.032    -12.819      0.000      -0.468      -0.344\n",
            "sigma2        23.3230      0.965     24.171      0.000      21.432      25.214\n",
            "===================================================================================\n",
            "Ljung-Box (L1) (Q):                   0.00   Jarque-Bera (JB):              1522.83\n",
            "Prob(Q):                              1.00   Prob(JB):                         0.00\n",
            "Heteroskedasticity (H):               0.49   Skew:                            -1.09\n",
            "Prob(H) (two-sided):                  0.00   Kurtosis:                        15.86\n",
            "===================================================================================\n",
            "\n",
            "Warnings:\n",
            "[1] Covariance matrix calculated using the outer product of gradients (complex-step).\n"
          ]
        },
        {
          "output_type": "stream",
          "name": "stderr",
          "text": [
            "/usr/local/lib/python3.8/dist-packages/statsmodels/tsa/base/tsa_model.py:471: ValueWarning: A date index has been provided, but it has no associated frequency information and so will be ignored when e.g. forecasting.\n",
            "  self._init_dates(dates, freq)\n",
            "/usr/local/lib/python3.8/dist-packages/statsmodels/tsa/base/tsa_model.py:471: ValueWarning: A date index has been provided, but it has no associated frequency information and so will be ignored when e.g. forecasting.\n",
            "  self._init_dates(dates, freq)\n"
          ]
        }
      ]
    },
    {
      "cell_type": "code",
      "source": [
        "# make predictions\n",
        "predictions_2 = mode_2.predict(start=len(df1), end=len(df1)+20,dynamic=False)\n",
        "print(predictions_2)"
      ],
      "metadata": {
        "colab": {
          "base_uri": "https://localhost:8080/"
        },
        "id": "RHD7Yge17DLJ",
        "outputId": "e0ef2684-91b9-41f5-a197-a0c5158fe3e3"
      },
      "execution_count": 50,
      "outputs": [
        {
          "output_type": "stream",
          "name": "stdout",
          "text": [
            "218    139.730489\n",
            "219    139.730489\n",
            "220    139.730489\n",
            "221    139.730489\n",
            "222    139.730489\n",
            "223    139.730489\n",
            "224    139.730489\n",
            "225    139.730489\n",
            "226    139.730489\n",
            "227    139.730489\n",
            "228    139.730489\n",
            "229    139.730489\n",
            "230    139.730489\n",
            "231    139.730489\n",
            "232    139.730489\n",
            "233    139.730489\n",
            "234    139.730489\n",
            "235    139.730489\n",
            "236    139.730489\n",
            "237    139.730489\n",
            "238    139.730489\n",
            "Name: predicted_mean, dtype: float64\n"
          ]
        },
        {
          "output_type": "stream",
          "name": "stderr",
          "text": [
            "/usr/local/lib/python3.8/dist-packages/statsmodels/tsa/base/tsa_model.py:834: ValueWarning: No supported index is available. Prediction results will be given with an integer index beginning at `start`.\n",
            "  return get_prediction_index(\n"
          ]
        }
      ]
    },
    {
      "cell_type": "code",
      "source": [
        "df1"
      ],
      "metadata": {
        "colab": {
          "base_uri": "https://localhost:8080/",
          "height": 455
        },
        "id": "ns225hw89UhZ",
        "outputId": "ad3e4b42-3b5a-485c-f5d9-2ad0056d573a"
      },
      "execution_count": 51,
      "outputs": [
        {
          "output_type": "execute_result",
          "data": {
            "text/plain": [
              "                     Lifetouch Heart Rate\n",
              "Timestamp (GMT)                          \n",
              "2015-08-17 15:09:00                   139\n",
              "2015-08-17 15:10:00                   144\n",
              "2015-08-17 15:11:00                   140\n",
              "2015-08-17 15:12:00                   138\n",
              "2015-08-17 15:13:00                   133\n",
              "...                                   ...\n",
              "2015-08-17 18:50:00                   159\n",
              "2015-08-17 18:51:00                   151\n",
              "2015-08-17 18:52:00                   140\n",
              "2015-08-17 18:53:00                   140\n",
              "2015-08-17 18:54:00                   138\n",
              "\n",
              "[218 rows x 1 columns]"
            ],
            "text/html": [
              "\n",
              "  <div id=\"df-da251c00-e940-429d-948d-4a8f4dd01f08\">\n",
              "    <div class=\"colab-df-container\">\n",
              "      <div>\n",
              "<style scoped>\n",
              "    .dataframe tbody tr th:only-of-type {\n",
              "        vertical-align: middle;\n",
              "    }\n",
              "\n",
              "    .dataframe tbody tr th {\n",
              "        vertical-align: top;\n",
              "    }\n",
              "\n",
              "    .dataframe thead th {\n",
              "        text-align: right;\n",
              "    }\n",
              "</style>\n",
              "<table border=\"1\" class=\"dataframe\">\n",
              "  <thead>\n",
              "    <tr style=\"text-align: right;\">\n",
              "      <th></th>\n",
              "      <th>Lifetouch Heart Rate</th>\n",
              "    </tr>\n",
              "    <tr>\n",
              "      <th>Timestamp (GMT)</th>\n",
              "      <th></th>\n",
              "    </tr>\n",
              "  </thead>\n",
              "  <tbody>\n",
              "    <tr>\n",
              "      <th>2015-08-17 15:09:00</th>\n",
              "      <td>139</td>\n",
              "    </tr>\n",
              "    <tr>\n",
              "      <th>2015-08-17 15:10:00</th>\n",
              "      <td>144</td>\n",
              "    </tr>\n",
              "    <tr>\n",
              "      <th>2015-08-17 15:11:00</th>\n",
              "      <td>140</td>\n",
              "    </tr>\n",
              "    <tr>\n",
              "      <th>2015-08-17 15:12:00</th>\n",
              "      <td>138</td>\n",
              "    </tr>\n",
              "    <tr>\n",
              "      <th>2015-08-17 15:13:00</th>\n",
              "      <td>133</td>\n",
              "    </tr>\n",
              "    <tr>\n",
              "      <th>...</th>\n",
              "      <td>...</td>\n",
              "    </tr>\n",
              "    <tr>\n",
              "      <th>2015-08-17 18:50:00</th>\n",
              "      <td>159</td>\n",
              "    </tr>\n",
              "    <tr>\n",
              "      <th>2015-08-17 18:51:00</th>\n",
              "      <td>151</td>\n",
              "    </tr>\n",
              "    <tr>\n",
              "      <th>2015-08-17 18:52:00</th>\n",
              "      <td>140</td>\n",
              "    </tr>\n",
              "    <tr>\n",
              "      <th>2015-08-17 18:53:00</th>\n",
              "      <td>140</td>\n",
              "    </tr>\n",
              "    <tr>\n",
              "      <th>2015-08-17 18:54:00</th>\n",
              "      <td>138</td>\n",
              "    </tr>\n",
              "  </tbody>\n",
              "</table>\n",
              "<p>218 rows × 1 columns</p>\n",
              "</div>\n",
              "      <button class=\"colab-df-convert\" onclick=\"convertToInteractive('df-da251c00-e940-429d-948d-4a8f4dd01f08')\"\n",
              "              title=\"Convert this dataframe to an interactive table.\"\n",
              "              style=\"display:none;\">\n",
              "        \n",
              "  <svg xmlns=\"http://www.w3.org/2000/svg\" height=\"24px\"viewBox=\"0 0 24 24\"\n",
              "       width=\"24px\">\n",
              "    <path d=\"M0 0h24v24H0V0z\" fill=\"none\"/>\n",
              "    <path d=\"M18.56 5.44l.94 2.06.94-2.06 2.06-.94-2.06-.94-.94-2.06-.94 2.06-2.06.94zm-11 1L8.5 8.5l.94-2.06 2.06-.94-2.06-.94L8.5 2.5l-.94 2.06-2.06.94zm10 10l.94 2.06.94-2.06 2.06-.94-2.06-.94-.94-2.06-.94 2.06-2.06.94z\"/><path d=\"M17.41 7.96l-1.37-1.37c-.4-.4-.92-.59-1.43-.59-.52 0-1.04.2-1.43.59L10.3 9.45l-7.72 7.72c-.78.78-.78 2.05 0 2.83L4 21.41c.39.39.9.59 1.41.59.51 0 1.02-.2 1.41-.59l7.78-7.78 2.81-2.81c.8-.78.8-2.07 0-2.86zM5.41 20L4 18.59l7.72-7.72 1.47 1.35L5.41 20z\"/>\n",
              "  </svg>\n",
              "      </button>\n",
              "      \n",
              "  <style>\n",
              "    .colab-df-container {\n",
              "      display:flex;\n",
              "      flex-wrap:wrap;\n",
              "      gap: 12px;\n",
              "    }\n",
              "\n",
              "    .colab-df-convert {\n",
              "      background-color: #E8F0FE;\n",
              "      border: none;\n",
              "      border-radius: 50%;\n",
              "      cursor: pointer;\n",
              "      display: none;\n",
              "      fill: #1967D2;\n",
              "      height: 32px;\n",
              "      padding: 0 0 0 0;\n",
              "      width: 32px;\n",
              "    }\n",
              "\n",
              "    .colab-df-convert:hover {\n",
              "      background-color: #E2EBFA;\n",
              "      box-shadow: 0px 1px 2px rgba(60, 64, 67, 0.3), 0px 1px 3px 1px rgba(60, 64, 67, 0.15);\n",
              "      fill: #174EA6;\n",
              "    }\n",
              "\n",
              "    [theme=dark] .colab-df-convert {\n",
              "      background-color: #3B4455;\n",
              "      fill: #D2E3FC;\n",
              "    }\n",
              "\n",
              "    [theme=dark] .colab-df-convert:hover {\n",
              "      background-color: #434B5C;\n",
              "      box-shadow: 0px 1px 3px 1px rgba(0, 0, 0, 0.15);\n",
              "      filter: drop-shadow(0px 1px 2px rgba(0, 0, 0, 0.3));\n",
              "      fill: #FFFFFF;\n",
              "    }\n",
              "  </style>\n",
              "\n",
              "      <script>\n",
              "        const buttonEl =\n",
              "          document.querySelector('#df-da251c00-e940-429d-948d-4a8f4dd01f08 button.colab-df-convert');\n",
              "        buttonEl.style.display =\n",
              "          google.colab.kernel.accessAllowed ? 'block' : 'none';\n",
              "\n",
              "        async function convertToInteractive(key) {\n",
              "          const element = document.querySelector('#df-da251c00-e940-429d-948d-4a8f4dd01f08');\n",
              "          const dataTable =\n",
              "            await google.colab.kernel.invokeFunction('convertToInteractive',\n",
              "                                                     [key], {});\n",
              "          if (!dataTable) return;\n",
              "\n",
              "          const docLinkHtml = 'Like what you see? Visit the ' +\n",
              "            '<a target=\"_blank\" href=https://colab.research.google.com/notebooks/data_table.ipynb>data table notebook</a>'\n",
              "            + ' to learn more about interactive tables.';\n",
              "          element.innerHTML = '';\n",
              "          dataTable['output_type'] = 'display_data';\n",
              "          await google.colab.output.renderOutput(dataTable, element);\n",
              "          const docLink = document.createElement('div');\n",
              "          docLink.innerHTML = docLinkHtml;\n",
              "          element.appendChild(docLink);\n",
              "        }\n",
              "      </script>\n",
              "    </div>\n",
              "  </div>\n",
              "  "
            ]
          },
          "metadata": {},
          "execution_count": 51
        }
      ]
    },
    {
      "cell_type": "code",
      "source": [
        "#to find out mse value"
      ],
      "metadata": {
        "id": "lQdJJ70Aum--"
      },
      "execution_count": 52,
      "outputs": []
    },
    {
      "cell_type": "code",
      "source": [
        "preds_2= mode_2.predict(start=pd.to_datetime('2015-08-17 15:09:00'), dynamic=False)\n",
        "#print(f'Mean Squared Error: {(mean_squared_error(train_data, preds_2), 2)}')\n",
        "Sarimax_mse = mean_squared_error(train_data, preds_2)\n",
        "print(\"Mean squared Error: \", Sarimax_mse)\n",
        "\n",
        "Sarimax_mae = mean_absolute_error(train_data, preds_2)\n",
        "print(\"Mean Absolute Error: \", Sarimax_mae)\n",
        "\n",
        "# calculate the R-squared score\n",
        "Sarimax_r2 = r2_score(train_data, preds_2)\n",
        "print(\"R-squared: \", Sarimax_r2)"
      ],
      "metadata": {
        "id": "nObUnNiy_ask",
        "colab": {
          "base_uri": "https://localhost:8080/"
        },
        "outputId": "14fb458a-4a7e-4fae-87d9-88640ee7ddf5"
      },
      "execution_count": 103,
      "outputs": [
        {
          "output_type": "stream",
          "name": "stdout",
          "text": [
            "Mean squared Error:  111.82062875702677\n",
            "Mean Absolute Error:  3.699589292602344\n",
            "R-squared:  0.12526878786315054\n"
          ]
        }
      ]
    },
    {
      "cell_type": "code",
      "source": [
        "# plot observations and predictions\n",
        "ax = df1['2015-08-17 15:09:00':]['Lifetouch Heart Rate'].plot(label='observed', figsize=(12, 8))\n",
        "preds_2.plot(ax=ax, label='predicted', alpha=.7)\n",
        "\n",
        "ax.set_xlabel('Time')\n",
        "ax.set_ylabel('Lifetouch Heart Rate')\n",
        "plt.legend()\n",
        "\n",
        "plt.show()"
      ],
      "metadata": {
        "colab": {
          "base_uri": "https://localhost:8080/",
          "height": 440
        },
        "id": "nrJJDkSm1eGi",
        "outputId": "bce5fccd-afac-4471-cb17-fabca91c7dd0"
      },
      "execution_count": 96,
      "outputs": [
        {
          "output_type": "display_data",
          "data": {
            "text/plain": [
              "<Figure size 864x576 with 1 Axes>"
            ],
            "image/png": "[encoded data removed]"
          },
          "metadata": {
            "needs_background": "light"
          }
        }
      ]
    },
    {
      "cell_type": "markdown",
      "source": [
        "#model_3\n"
      ],
      "metadata": {
        "id": "p64mT8qr_a_r"
      }
    },
    {
      "cell_type": "code",
      "source": [
        "predictions_1 = model1.predict(start=len(df1), end=len(df1)+20)"
      ],
      "metadata": {
        "id": "xvjeXUOixUSf"
      },
      "execution_count": null,
      "outputs": []
    },
    {
      "cell_type": "code",
      "source": [
        "# single exponential smoothing\n",
        "single_fit = SimpleExpSmoothing(df1[\"Lifetouch Heart Rate\"]).fit()\n",
        "\n",
        "# double exponential smoothing\n",
        "double_fit = Holt(df1[\"Lifetouch Heart Rate\"]).fit()\n",
        "\n",
        "# triple exponential smoothing\n",
        "tripple_fit = ExponentialSmoothing(df1[\"Lifetouch Heart Rate\"], trend=\"mul\",seasonal=\"mul\", seasonal_periods=20).fit()"
      ],
      "metadata": {
        "colab": {
          "base_uri": "https://localhost:8080/"
        },
        "id": "J19VxX-KAy0O",
        "outputId": "513d1e7d-5bd4-4c49-94f6-d9eee92a2981"
      },
      "execution_count": 68,
      "outputs": [
        {
          "output_type": "stream",
          "name": "stderr",
          "text": [
            "/usr/local/lib/python3.8/dist-packages/statsmodels/tsa/base/tsa_model.py:471: ValueWarning: A date index has been provided, but it has no associated frequency information and so will be ignored when e.g. forecasting.\n",
            "  self._init_dates(dates, freq)\n",
            "/usr/local/lib/python3.8/dist-packages/statsmodels/tsa/base/tsa_model.py:471: ValueWarning: A date index has been provided, but it has no associated frequency information and so will be ignored when e.g. forecasting.\n",
            "  self._init_dates(dates, freq)\n",
            "/usr/local/lib/python3.8/dist-packages/statsmodels/tsa/base/tsa_model.py:471: ValueWarning: A date index has been provided, but it has no associated frequency information and so will be ignored when e.g. forecasting.\n",
            "  self._init_dates(dates, freq)\n"
          ]
        }
      ]
    },
    {
      "cell_type": "code",
      "source": [
        "# future predictions\n",
        "predictions_single_fit = single_fit.forecast(20)\n",
        "predictions_double_fit = double_fit.forecast(20)\n",
        "predictions_tripple_fit = tripple_fit.forecast(20)\n",
        "\n"
      ],
      "metadata": {
        "colab": {
          "base_uri": "https://localhost:8080/"
        },
        "id": "ccXR_o7EBD0R",
        "outputId": "d8514339-c83e-4e16-9e3d-e7452d28904c"
      },
      "execution_count": 79,
      "outputs": [
        {
          "output_type": "stream",
          "name": "stderr",
          "text": [
            "/usr/local/lib/python3.8/dist-packages/statsmodels/tsa/base/tsa_model.py:834: ValueWarning: No supported index is available. Prediction results will be given with an integer index beginning at `start`.\n",
            "  return get_prediction_index(\n",
            "/usr/local/lib/python3.8/dist-packages/statsmodels/tsa/base/tsa_model.py:834: ValueWarning: No supported index is available. Prediction results will be given with an integer index beginning at `start`.\n",
            "  return get_prediction_index(\n",
            "/usr/local/lib/python3.8/dist-packages/statsmodels/tsa/base/tsa_model.py:834: ValueWarning: No supported index is available. Prediction results will be given with an integer index beginning at `start`.\n",
            "  return get_prediction_index(\n"
          ]
        }
      ]
    },
    {
      "cell_type": "code",
      "source": [
        "predictions_single_fit"
      ],
      "metadata": {
        "colab": {
          "base_uri": "https://localhost:8080/"
        },
        "id": "A43Wd_-6xyhg",
        "outputId": "71991fe2-9e03-406d-a507-3d3509107100"
      },
      "execution_count": 80,
      "outputs": [
        {
          "output_type": "execute_result",
          "data": {
            "text/plain": [
              "218    139.783076\n",
              "219    139.783076\n",
              "220    139.783076\n",
              "221    139.783076\n",
              "222    139.783076\n",
              "223    139.783076\n",
              "224    139.783076\n",
              "225    139.783076\n",
              "226    139.783076\n",
              "227    139.783076\n",
              "228    139.783076\n",
              "229    139.783076\n",
              "230    139.783076\n",
              "231    139.783076\n",
              "232    139.783076\n",
              "233    139.783076\n",
              "234    139.783076\n",
              "235    139.783076\n",
              "236    139.783076\n",
              "237    139.783076\n",
              "dtype: float64"
            ]
          },
          "metadata": {},
          "execution_count": 80
        }
      ]
    },
    {
      "cell_type": "code",
      "source": [
        "predictions_double_fit"
      ],
      "metadata": {
        "colab": {
          "base_uri": "https://localhost:8080/"
        },
        "id": "9IzRlD4Ex327",
        "outputId": "76fbdf35-4dcb-4d76-95b5-bbfb9ef0dfac"
      },
      "execution_count": 81,
      "outputs": [
        {
          "output_type": "execute_result",
          "data": {
            "text/plain": [
              "218    139.780584\n",
              "219    139.779160\n",
              "220    139.777735\n",
              "221    139.776311\n",
              "222    139.774887\n",
              "223    139.773462\n",
              "224    139.772038\n",
              "225    139.770613\n",
              "226    139.769189\n",
              "227    139.767765\n",
              "228    139.766340\n",
              "229    139.764916\n",
              "230    139.763491\n",
              "231    139.762067\n",
              "232    139.760643\n",
              "233    139.759218\n",
              "234    139.757794\n",
              "235    139.756369\n",
              "236    139.754945\n",
              "237    139.753521\n",
              "dtype: float64"
            ]
          },
          "metadata": {},
          "execution_count": 81
        }
      ]
    },
    {
      "cell_type": "code",
      "source": [
        "predictions_tripple_fit"
      ],
      "metadata": {
        "colab": {
          "base_uri": "https://localhost:8080/"
        },
        "id": "1_3aag70x6K-",
        "outputId": "ba527052-7ec9-41da-9a4c-b377310f7f4c"
      },
      "execution_count": 82,
      "outputs": [
        {
          "output_type": "execute_result",
          "data": {
            "text/plain": [
              "218    140.044319\n",
              "219    140.091807\n",
              "220    139.633739\n",
              "221    140.973178\n",
              "222    140.150160\n",
              "223    139.529062\n",
              "224    140.867395\n",
              "225    139.797353\n",
              "226    138.258035\n",
              "227    138.654237\n",
              "228    138.880642\n",
              "229    137.248056\n",
              "230    138.099101\n",
              "231    138.475176\n",
              "232    139.639585\n",
              "233    136.310522\n",
              "234    138.108488\n",
              "235    137.550339\n",
              "236    138.001289\n",
              "237    140.094550\n",
              "dtype: float64"
            ]
          },
          "metadata": {},
          "execution_count": 82
        }
      ]
    },
    {
      "cell_type": "code",
      "source": [
        "print(single_fit.summary())"
      ],
      "metadata": {
        "colab": {
          "base_uri": "https://localhost:8080/"
        },
        "id": "hg0_fnL2BX3Y",
        "outputId": "f1dd22ef-2cd5-4f9e-9800-d878136530f4"
      },
      "execution_count": 70,
      "outputs": [
        {
          "output_type": "stream",
          "name": "stdout",
          "text": [
            "                        SimpleExpSmoothing Model Results                        \n",
            "================================================================================\n",
            "Dep. Variable:     Lifetouch Heart Rate   No. Observations:                  218\n",
            "Model:               SimpleExpSmoothing   SSE                           5035.334\n",
            "Optimized:                         True   AIC                            688.463\n",
            "Trend:                             None   BIC                            695.232\n",
            "Seasonal:                          None   AICC                           688.651\n",
            "Seasonal Periods:                  None   Date:                 Wed, 15 Feb 2023\n",
            "Box-Cox:                          False   Time:                         01:47:26\n",
            "Box-Cox Coeff.:                    None                                         \n",
            "==============================================================================\n",
            "                       coeff                 code              optimized      \n",
            "------------------------------------------------------------------------------\n",
            "smoothing_level            0.5888135                alpha                 True\n",
            "initial_level              140.09069                  l.0                 True\n",
            "------------------------------------------------------------------------------\n"
          ]
        }
      ]
    },
    {
      "cell_type": "code",
      "source": [],
      "metadata": {
        "id": "9YGE8B-axwcc"
      },
      "execution_count": null,
      "outputs": []
    },
    {
      "cell_type": "code",
      "source": [
        "print(double_fit.summary())"
      ],
      "metadata": {
        "colab": {
          "base_uri": "https://localhost:8080/"
        },
        "id": "O2GgdkjpByXJ",
        "outputId": "ad2dc10e-dcb1-4786-dfcf-f1696bb31849"
      },
      "execution_count": 71,
      "outputs": [
        {
          "output_type": "stream",
          "name": "stdout",
          "text": [
            "                               Holt Model Results                               \n",
            "================================================================================\n",
            "Dep. Variable:     Lifetouch Heart Rate   No. Observations:                  218\n",
            "Model:                             Holt   SSE                           5035.333\n",
            "Optimized:                         True   AIC                            692.463\n",
            "Trend:                         Additive   BIC                            706.001\n",
            "Seasonal:                          None   AICC                           692.861\n",
            "Seasonal Periods:                  None   Date:                 Wed, 15 Feb 2023\n",
            "Box-Cox:                          False   Time:                         01:47:30\n",
            "Box-Cox Coeff.:                    None                                         \n",
            "==============================================================================\n",
            "                       coeff                 code              optimized      \n",
            "------------------------------------------------------------------------------\n",
            "smoothing_level            0.5888212                alpha                 True\n",
            "smoothing_trend           5.1334e-08                 beta                 True\n",
            "initial_level              140.09303                  l.0                 True\n",
            "initial_trend             -0.0014244                  b.0                 True\n",
            "------------------------------------------------------------------------------\n"
          ]
        }
      ]
    },
    {
      "cell_type": "code",
      "source": [
        "print(tripple_fit.summary())"
      ],
      "metadata": {
        "colab": {
          "base_uri": "https://localhost:8080/"
        },
        "id": "bH1YikGtB3w8",
        "outputId": "4e79c850-beb8-4096-b8f0-6274f2d5681a"
      },
      "execution_count": 72,
      "outputs": [
        {
          "output_type": "stream",
          "name": "stdout",
          "text": [
            "                       ExponentialSmoothing Model Results                       \n",
            "================================================================================\n",
            "Dep. Variable:     Lifetouch Heart Rate   No. Observations:                  218\n",
            "Model:             ExponentialSmoothing   SSE                           4728.206\n",
            "Optimized:                         True   AIC                            718.744\n",
            "Trend:                   Multiplicative   BIC                            799.972\n",
            "Seasonal:                Multiplicative   AICC                           726.094\n",
            "Seasonal Periods:                    20   Date:                 Wed, 15 Feb 2023\n",
            "Box-Cox:                          False   Time:                         01:47:32\n",
            "Box-Cox Coeff.:                    None                                         \n",
            "=================================================================================\n",
            "                          coeff                 code              optimized      \n",
            "---------------------------------------------------------------------------------\n",
            "smoothing_level               0.5994244                alpha                 True\n",
            "smoothing_trend              1.9895e-10                 beta                 True\n",
            "smoothing_seasonal           8.7457e-11                gamma                 True\n",
            "initial_level                 110.72416                  l.0                 True\n",
            "initial_trend                 0.9998171                  b.0                 True\n",
            "initial_seasons.0             1.2621585                  s.0                 True\n",
            "initial_seasons.1             1.2744989                  s.1                 True\n",
            "initial_seasons.2             1.2672900                  s.2                 True\n",
            "initial_seasons.3             1.2619046                  s.3                 True\n",
            "initial_seasons.4             1.2742415                  s.4                 True\n",
            "initial_seasons.5             1.2647935                  s.5                 True\n",
            "initial_seasons.6             1.2510956                  s.6                 True\n",
            "initial_seasons.7             1.2549103                  s.7                 True\n",
            "initial_seasons.8             1.2571894                  s.8                 True\n",
            "initial_seasons.9             1.2426380                  s.9                 True\n",
            "initial_seasons.10            1.2505720                 s.10                 True\n",
            "initial_seasons.11            1.2542070                 s.11                 True\n",
            "initial_seasons.12            1.2649847                 s.12                 True\n",
            "initial_seasons.13            1.2350528                 s.13                 True\n",
            "initial_seasons.14            1.2515723                 s.14                 True\n",
            "initial_seasons.15            1.2467422                 s.15                 True\n",
            "initial_seasons.16            1.2510584                 s.16                 True\n",
            "initial_seasons.17            1.2702673                 s.17                 True\n",
            "initial_seasons.18            1.2654068                 s.18                 True\n",
            "initial_seasons.19            1.2660675                 s.19                 True\n",
            "---------------------------------------------------------------------------------\n"
          ]
        }
      ]
    },
    {
      "cell_type": "code",
      "source": [
        "preds_3a= single_fit.predict(start=pd.to_datetime('2015-08-17 15:09:00'))\n",
        "#print(f'Mean Squared Error: {(mean_squared_error(train_data, preds_3a), 2)}')\n",
        "Single_mse = mean_squared_error(train_data, preds_3a)\n",
        "print(\"Mean squared Error: \", Single_mse)\n",
        "Single_mae = mean_absolute_error(train_data, preds_3a)\n",
        "print(\"Mean Absolute Error: \", Single_mae)\n",
        "\n",
        "# calculate the R-squared score\n",
        "Single_r2 = r2_score(train_data, preds_3a)\n",
        "print(\"R-squared: \", Single_r2)"
      ],
      "metadata": {
        "id": "KxM8kZTdB8cR",
        "colab": {
          "base_uri": "https://localhost:8080/"
        },
        "outputId": "6450996f-2c1f-4797-d5d7-55e361777be7"
      },
      "execution_count": 104,
      "outputs": [
        {
          "output_type": "stream",
          "name": "stdout",
          "text": [
            "Mean squared Error:  23.097860243141287\n",
            "Mean Absolute Error:  3.0572777863218294\n",
            "R-squared:  0.8193140253919303\n"
          ]
        }
      ]
    },
    {
      "cell_type": "code",
      "source": [
        "# plot observations and predictions\n",
        "ax = df1['2015-08-17 15:09:00':]['Lifetouch Heart Rate'].plot(label='observed', figsize=(12, 8))\n",
        "preds_3a.plot(ax=ax, label='predicted', alpha=.7)\n",
        "\n",
        "ax.set_xlabel('Time')\n",
        "ax.set_ylabel('Lifetouch Heart Rate')\n",
        "plt.legend()\n",
        "\n",
        "plt.show()"
      ],
      "metadata": {
        "colab": {
          "base_uri": "https://localhost:8080/",
          "height": 440
        },
        "id": "OkcSe0Ai04Ef",
        "outputId": "c0b180f9-18ae-48cd-d465-96dc7f1e285f"
      },
      "execution_count": 93,
      "outputs": [
        {
          "output_type": "display_data",
          "data": {
            "text/plain": [
              "<Figure size 864x576 with 1 Axes>"
            ],
            "image/png": "[encoded data removed]"
          },
          "metadata": {
            "needs_background": "light"
          }
        }
      ]
    },
    {
      "cell_type": "code",
      "source": [
        "preds_3b= double_fit.predict(start=pd.to_datetime('2015-08-17 15:09:00'))\n",
        "#print(f'Mean Squared Error: {(mean_squared_error(train_data, preds_3b), 2)}')\n",
        "Double_mse = mean_squared_error(train_data, preds_3b)\n",
        "print(\"Mean squared Error: \", Single_mse)\n",
        "Double_mae = mean_absolute_error(train_data, preds_3b)\n",
        "print(\"Mean Absolute Error: \", Single_mae)\n",
        "\n",
        "# calculate the R-squared score\n",
        "Double_r2 = r2_score(train_data, preds_3b)\n",
        "print(\"R-squared: \", Single_r2)\n",
        "\n"
      ],
      "metadata": {
        "colab": {
          "base_uri": "https://localhost:8080/"
        },
        "id": "l0EjkKrhvdEq",
        "outputId": "14d75a11-4819-48a7-fc96-86e594e689ad"
      },
      "execution_count": 105,
      "outputs": [
        {
          "output_type": "stream",
          "name": "stdout",
          "text": [
            "Mean squared Error:  23.097860243141287\n",
            "Mean Absolute Error:  3.0572777863218294\n",
            "R-squared:  0.8193140253919303\n"
          ]
        }
      ]
    },
    {
      "cell_type": "code",
      "source": [
        "preds_3c= tripple_fit.predict(start=pd.to_datetime('2015-08-17 15:09:00'))\n",
        "#print(f'Mean Squared Error: {(mean_squared_error(train_data, preds_3c), 2)}')\n",
        "Tripple_mse = mean_squared_error(train_data, preds_3c)\n",
        "print(\"Mean squared Error: \", Tripple_mse)\n",
        "Tripple_mae = mean_absolute_error(train_data, preds_3c)\n",
        "print(\"Mean Absolute Error: \", Tripple_mae)\n",
        "\n",
        "# calculate the R-squared score\n",
        "Tripple_r2 = r2_score(train_data, preds_3c)\n",
        "print(\"R-squared: \", Tripple_r2)"
      ],
      "metadata": {
        "colab": {
          "base_uri": "https://localhost:8080/"
        },
        "id": "i1kaAk8lwkTz",
        "outputId": "602461fb-4781-4275-cba4-b8940aa90bcd"
      },
      "execution_count": 106,
      "outputs": [
        {
          "output_type": "stream",
          "name": "stdout",
          "text": [
            "Mean squared Error:  21.68901731946474\n",
            "Mean Absolute Error:  3.058308972667161\n",
            "R-squared:  0.8303348798803788\n"
          ]
        }
      ]
    },
    {
      "cell_type": "code",
      "source": [
        "# plot observations and predictions\n",
        "ax = df1['2015-08-17 15:09:00':]['Lifetouch Heart Rate'].plot(label='observed', figsize=(12, 8))\n",
        "preds_3c.plot(ax=ax, label='predicted', alpha=.7)\n",
        "\n",
        "ax.set_xlabel('Time')\n",
        "ax.set_ylabel('Lifetouch Heart Rate')\n",
        "plt.legend()\n",
        "\n",
        "plt.show()"
      ],
      "metadata": {
        "colab": {
          "base_uri": "https://localhost:8080/",
          "height": 440
        },
        "id": "N0wnTY3i1WR3",
        "outputId": "734b0ea0-950f-494b-859e-0d37fbe42936"
      },
      "execution_count": 107,
      "outputs": [
        {
          "output_type": "display_data",
          "data": {
            "text/plain": [
              "<Figure size 864x576 with 1 Axes>"
            ],
            "image/png": "[encoded data removed]"
          },
          "metadata": {
            "needs_background": "light"
          }
        }
      ]
    },
    {
      "cell_type": "code",
      "source": [
        "fig, ax = plt.subplots(figsize=(12, 6))\n",
        "\n",
        "ax = df1['2015-08-17 15:09:00':]['Lifetouch Heart Rate'].plot(label='observed', figsize=(12, 8))\n",
        "preds_3c.plot(ax=ax, label='predicted', alpha=.7)\n",
        "\n",
        "\n",
        "ax.set_xlabel('Time')\n",
        "ax.set_ylabel('Lifetouch Heart Rate')\n",
        "plt.legend()\n",
        "\n",
        "plt.show()"
      ],
      "metadata": {
        "id": "SrLBK-_R-knG"
      },
      "execution_count": null,
      "outputs": []
    },
    {
      "cell_type": "code",
      "source": [
        "predictions_single_fit"
      ],
      "metadata": {
        "colab": {
          "base_uri": "https://localhost:8080/"
        },
        "id": "08y8yZqMwpsx",
        "outputId": "2442314f-22e3-49e2-dc18-ce56b53584ed"
      },
      "execution_count": 83,
      "outputs": [
        {
          "output_type": "execute_result",
          "data": {
            "text/plain": [
              "218    139.783076\n",
              "219    139.783076\n",
              "220    139.783076\n",
              "221    139.783076\n",
              "222    139.783076\n",
              "223    139.783076\n",
              "224    139.783076\n",
              "225    139.783076\n",
              "226    139.783076\n",
              "227    139.783076\n",
              "228    139.783076\n",
              "229    139.783076\n",
              "230    139.783076\n",
              "231    139.783076\n",
              "232    139.783076\n",
              "233    139.783076\n",
              "234    139.783076\n",
              "235    139.783076\n",
              "236    139.783076\n",
              "237    139.783076\n",
              "dtype: float64"
            ]
          },
          "metadata": {},
          "execution_count": 83
        }
      ]
    },
    {
      "cell_type": "markdown",
      "source": [
        "A mean squared error of 21.69 and a mean absolute error of 3.06 indicate that the model's predictions are fairly accurate. An R-squared value of 0.83 suggests that the model explains 83% of the variability in the data, which is also good."
      ],
      "metadata": {
        "id": "I-21Lj_r0sjb"
      }
    },
    {
      "cell_type": "code",
      "source": [
        "print(\"{:<20} {:<20} {:<20} {:<20} {:<20} {:<20}\".format(\"Model\", \"MSE\", \"MAE\", \"R-squared\", \"AIC\", \"BIC\"))\n",
        "print(\"{:<20} {:<20.2f} {:<20.2f} {:<20.2f} {:<20.2f} {:<20.2f}\".format(\"ARIMA\", Arima_mse, Arima_mae, Arima_r2,model_First.aic,model_First.bic))\n",
        "print(\"{:<20} {:<20.2f} {:<20.2f} {:<20.2f} {:<20.2f} {:<20.2f}\".format(\"ARIMA\", Arima_a_mse, Arima_a_mae, Arima_a_r2,model1.aic,model1.bic))\n",
        "\n",
        "print(\"{:<20} {:<20.2f} {:<20.2f} {:<20.2f} {:<20.2f} {:<20.2f}\".format(\"SARIMAX\", Sarimax_mse, Sarimax_mae, Sarimax_r2,mode_2.aic,mode_2.bic))\n",
        "print(\"{:<20} {:<20.2f} {:<20.2f} {:<20.2f} {:<20.2f} {:<20.2f}\".format(\"Exponential Smoothing\", Single_mse, Single_mae, Single_r2,single_fit.aic,single_fit.bic))\n",
        "print(\"{:<20} {:<20.2f} {:<20.2f} {:<20.2f} {:<20.2f} {:<20.2f}\".format(\"Exponential Smoothing\", Double_mse, Double_mae, Double_r2,double_fit.aic,double_fit.bic))\n",
        "print(\"{:<20} {:<20.2f} {:<20.2f} {:<20.2f} {:<20.2f} {:<20.2f}\".format(\"Exponential Smoothing\", Tripple_mse, Tripple_mae, Tripple_r2,tripple_fit.aic,tripple_fit.bic))"
      ],
      "metadata": {
        "colab": {
          "base_uri": "https://localhost:8080/"
        },
        "id": "rSescSGlxhnd",
        "outputId": "cabac3de-cf5c-4a11-8b1c-810dd27ed31f"
      },
      "execution_count": 119,
      "outputs": [
        {
          "output_type": "stream",
          "name": "stdout",
          "text": [
            "Model                MSE                  MAE                  R-squared            AIC                  BIC                 \n",
            "ARIMA                111.74               3.69                 0.13                 1302.33              1309.08             \n",
            "ARIMA                22.85                3.12                 0.82                 1309.31              1322.85             \n",
            "SARIMAX              111.82               3.70                 0.13                 1291.30              1298.04             \n",
            "Exponential Smoothing 23.10                3.06                 0.82                 688.46               695.23              \n",
            "Exponential Smoothing 23.10                3.06                 0.82                 692.46               706.00              \n",
            "Exponential Smoothing 21.69                3.06                 0.83                 718.74               799.97              \n"
          ]
        }
      ]
    },
    {
      "cell_type": "code",
      "source": [],
      "metadata": {
        "id": "Bn73ajfP5_Hu"
      },
      "execution_count": null,
      "outputs": []
    },
    {
      "cell_type": "code",
      "source": [
        "import json\n",
        "\n",
        "# Suppose predicted_values is a list containing the predicted heart rate values\n",
        "\n",
        "predictions_values=predictions_tripple_fit.tolist()\n",
        "# Convert the list to a dictionary with a key called \"predicted_values\"\n",
        "data = {\"predicted_values\": predictions_values}\n",
        "# Open a new file called \"predicted_values.json\" in write mode\n",
        "with open(\"submission.json\", \"w\") as outfile:\n",
        "    # Write the data to the file in JSON format\n",
        "    json.dump(data, outfile)\n"
      ],
      "metadata": {
        "id": "fYdD0iCWDFV9"
      },
      "execution_count": 125,
      "outputs": []
    },
    {
      "cell_type": "markdown",
      "source": [],
      "metadata": {
        "id": "6TguPnTF-T77"
      }
    }
  ]
}